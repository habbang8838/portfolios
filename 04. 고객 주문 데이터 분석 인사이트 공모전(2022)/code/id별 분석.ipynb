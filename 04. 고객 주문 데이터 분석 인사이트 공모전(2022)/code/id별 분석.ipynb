{
 "cells": [
  {
   "cell_type": "markdown",
   "metadata": {
    "colab_type": "text",
    "id": "view-in-github"
   },
   "source": [
    "<a href=\"https://colab.research.google.com/github/habbang8838/BDAA_treasure_in_data/blob/main/CJ%EC%A0%9C%EC%9D%BC%EC%A0%9C%EB%8B%B9_%EC%A3%BC%EB%AC%B8_%EB%8D%B0%EC%9D%B4%ED%84%B0.ipynb\" target=\"_parent\"><img src=\"https://colab.research.google.com/assets/colab-badge.svg\" alt=\"Open In Colab\"/></a>"
   ]
  },
  {
   "cell_type": "markdown",
   "metadata": {},
   "source": [
    "# 앞의 코드는 df_id를 만들기 위한 코드로, CJ 아이디별 파일 CSV 파일 업로드하고, 중간에 \"# 0. 아이디별로 주문을 파악해보겠습니다.\" 부분부터 코드 실행해주시면 됩니다!"
   ]
  },
  {
   "cell_type": "code",
   "execution_count": 33,
   "metadata": {
    "id": "z87aBqRfgN1d"
   },
   "outputs": [],
   "source": [
    "import pandas as pd"
   ]
  },
  {
   "cell_type": "code",
   "execution_count": 34,
   "metadata": {},
   "outputs": [],
   "source": [
    "from datetime import datetime\n",
    "import matplotlib.pyplot as plt\n",
    "import seaborn as sns"
   ]
  },
  {
   "cell_type": "code",
   "execution_count": 35,
   "metadata": {},
   "outputs": [],
   "source": [
    "# 시각화 과정에서 한글 깨짐 방지!!!!\n",
    "\n",
    "from matplotlib import font_manager, rc\n",
    "import matplotlib\n",
    "import platform\n",
    "import matplotlib.pyplot as plt\n",
    "\n",
    "%matplotlib inline \n",
    "\n",
    "if platform.system() == 'Windows':\n",
    "    font_name = font_manager.FontProperties(fname=\"c:/Windows/Fonts/malgun.ttf\").get_name()\n",
    "    rc('font', family = font_name)\n",
    "else:\n",
    "    rc('font',family='AppleGothic')\n",
    "    \n",
    "matplotlib.rcParams['axes.unicode_minus']=False\n",
    "%matplotlib inline"
   ]
  },
  {
   "cell_type": "code",
   "execution_count": 36,
   "metadata": {
    "id": "MMJ1_GCDgUfH"
   },
   "outputs": [
    {
     "ename": "KeyboardInterrupt",
     "evalue": "",
     "output_type": "error",
     "traceback": [
      "\u001b[1;31m---------------------------------------------------------------------------\u001b[0m",
      "\u001b[1;31mKeyboardInterrupt\u001b[0m                         Traceback (most recent call last)",
      "\u001b[1;32m<ipython-input-36-96b9de371612>\u001b[0m in \u001b[0;36m<module>\u001b[1;34m\u001b[0m\n\u001b[1;32m----> 1\u001b[1;33m \u001b[0mdf\u001b[0m \u001b[1;33m=\u001b[0m \u001b[0mpd\u001b[0m\u001b[1;33m.\u001b[0m\u001b[0mread_excel\u001b[0m\u001b[1;33m(\u001b[0m\u001b[1;34m'CJ제일제당 주문 데이터(전처리).xlsx'\u001b[0m\u001b[1;33m)\u001b[0m\u001b[1;33m\u001b[0m\u001b[1;33m\u001b[0m\u001b[0m\n\u001b[0m",
      "\u001b[1;32mC:\\ProgramData\\Anaconda3\\lib\\site-packages\\pandas\\util\\_decorators.py\u001b[0m in \u001b[0;36mwrapper\u001b[1;34m(*args, **kwargs)\u001b[0m\n\u001b[0;32m    297\u001b[0m                 )\n\u001b[0;32m    298\u001b[0m                 \u001b[0mwarnings\u001b[0m\u001b[1;33m.\u001b[0m\u001b[0mwarn\u001b[0m\u001b[1;33m(\u001b[0m\u001b[0mmsg\u001b[0m\u001b[1;33m,\u001b[0m \u001b[0mFutureWarning\u001b[0m\u001b[1;33m,\u001b[0m \u001b[0mstacklevel\u001b[0m\u001b[1;33m=\u001b[0m\u001b[0mstacklevel\u001b[0m\u001b[1;33m)\u001b[0m\u001b[1;33m\u001b[0m\u001b[1;33m\u001b[0m\u001b[0m\n\u001b[1;32m--> 299\u001b[1;33m             \u001b[1;32mreturn\u001b[0m \u001b[0mfunc\u001b[0m\u001b[1;33m(\u001b[0m\u001b[1;33m*\u001b[0m\u001b[0margs\u001b[0m\u001b[1;33m,\u001b[0m \u001b[1;33m**\u001b[0m\u001b[0mkwargs\u001b[0m\u001b[1;33m)\u001b[0m\u001b[1;33m\u001b[0m\u001b[1;33m\u001b[0m\u001b[0m\n\u001b[0m\u001b[0;32m    300\u001b[0m \u001b[1;33m\u001b[0m\u001b[0m\n\u001b[0;32m    301\u001b[0m         \u001b[1;32mreturn\u001b[0m \u001b[0mwrapper\u001b[0m\u001b[1;33m\u001b[0m\u001b[1;33m\u001b[0m\u001b[0m\n",
      "\u001b[1;32mC:\\ProgramData\\Anaconda3\\lib\\site-packages\\pandas\\io\\excel\\_base.py\u001b[0m in \u001b[0;36mread_excel\u001b[1;34m(io, sheet_name, header, names, index_col, usecols, squeeze, dtype, engine, converters, true_values, false_values, skiprows, nrows, na_values, keep_default_na, na_filter, verbose, parse_dates, date_parser, thousands, comment, skipfooter, convert_float, mangle_dupe_cols, storage_options)\u001b[0m\n\u001b[0;32m    342\u001b[0m \u001b[1;33m\u001b[0m\u001b[0m\n\u001b[0;32m    343\u001b[0m     \u001b[1;32mtry\u001b[0m\u001b[1;33m:\u001b[0m\u001b[1;33m\u001b[0m\u001b[1;33m\u001b[0m\u001b[0m\n\u001b[1;32m--> 344\u001b[1;33m         data = io.parse(\n\u001b[0m\u001b[0;32m    345\u001b[0m             \u001b[0msheet_name\u001b[0m\u001b[1;33m=\u001b[0m\u001b[0msheet_name\u001b[0m\u001b[1;33m,\u001b[0m\u001b[1;33m\u001b[0m\u001b[1;33m\u001b[0m\u001b[0m\n\u001b[0;32m    346\u001b[0m             \u001b[0mheader\u001b[0m\u001b[1;33m=\u001b[0m\u001b[0mheader\u001b[0m\u001b[1;33m,\u001b[0m\u001b[1;33m\u001b[0m\u001b[1;33m\u001b[0m\u001b[0m\n",
      "\u001b[1;32mC:\\ProgramData\\Anaconda3\\lib\\site-packages\\pandas\\io\\excel\\_base.py\u001b[0m in \u001b[0;36mparse\u001b[1;34m(self, sheet_name, header, names, index_col, usecols, squeeze, converters, true_values, false_values, skiprows, nrows, na_values, parse_dates, date_parser, thousands, comment, skipfooter, convert_float, mangle_dupe_cols, **kwds)\u001b[0m\n\u001b[0;32m   1168\u001b[0m             \u001b[0mDataFrame\u001b[0m \u001b[1;32mfrom\u001b[0m \u001b[0mthe\u001b[0m \u001b[0mpassed\u001b[0m \u001b[1;32min\u001b[0m \u001b[0mExcel\u001b[0m \u001b[0mfile\u001b[0m\u001b[1;33m.\u001b[0m\u001b[1;33m\u001b[0m\u001b[1;33m\u001b[0m\u001b[0m\n\u001b[0;32m   1169\u001b[0m         \"\"\"\n\u001b[1;32m-> 1170\u001b[1;33m         return self._reader.parse(\n\u001b[0m\u001b[0;32m   1171\u001b[0m             \u001b[0msheet_name\u001b[0m\u001b[1;33m=\u001b[0m\u001b[0msheet_name\u001b[0m\u001b[1;33m,\u001b[0m\u001b[1;33m\u001b[0m\u001b[1;33m\u001b[0m\u001b[0m\n\u001b[0;32m   1172\u001b[0m             \u001b[0mheader\u001b[0m\u001b[1;33m=\u001b[0m\u001b[0mheader\u001b[0m\u001b[1;33m,\u001b[0m\u001b[1;33m\u001b[0m\u001b[1;33m\u001b[0m\u001b[0m\n",
      "\u001b[1;32mC:\\ProgramData\\Anaconda3\\lib\\site-packages\\pandas\\io\\excel\\_base.py\u001b[0m in \u001b[0;36mparse\u001b[1;34m(self, sheet_name, header, names, index_col, usecols, squeeze, dtype, true_values, false_values, skiprows, nrows, na_values, verbose, parse_dates, date_parser, thousands, comment, skipfooter, convert_float, mangle_dupe_cols, **kwds)\u001b[0m\n\u001b[0;32m    490\u001b[0m                 \u001b[0msheet\u001b[0m \u001b[1;33m=\u001b[0m \u001b[0mself\u001b[0m\u001b[1;33m.\u001b[0m\u001b[0mget_sheet_by_index\u001b[0m\u001b[1;33m(\u001b[0m\u001b[0masheetname\u001b[0m\u001b[1;33m)\u001b[0m\u001b[1;33m\u001b[0m\u001b[1;33m\u001b[0m\u001b[0m\n\u001b[0;32m    491\u001b[0m \u001b[1;33m\u001b[0m\u001b[0m\n\u001b[1;32m--> 492\u001b[1;33m             \u001b[0mdata\u001b[0m \u001b[1;33m=\u001b[0m \u001b[0mself\u001b[0m\u001b[1;33m.\u001b[0m\u001b[0mget_sheet_data\u001b[0m\u001b[1;33m(\u001b[0m\u001b[0msheet\u001b[0m\u001b[1;33m,\u001b[0m \u001b[0mconvert_float\u001b[0m\u001b[1;33m)\u001b[0m\u001b[1;33m\u001b[0m\u001b[1;33m\u001b[0m\u001b[0m\n\u001b[0m\u001b[0;32m    493\u001b[0m             \u001b[0musecols\u001b[0m \u001b[1;33m=\u001b[0m \u001b[0mmaybe_convert_usecols\u001b[0m\u001b[1;33m(\u001b[0m\u001b[0musecols\u001b[0m\u001b[1;33m)\u001b[0m\u001b[1;33m\u001b[0m\u001b[1;33m\u001b[0m\u001b[0m\n\u001b[0;32m    494\u001b[0m \u001b[1;33m\u001b[0m\u001b[0m\n",
      "\u001b[1;32mC:\\ProgramData\\Anaconda3\\lib\\site-packages\\pandas\\io\\excel\\_openpyxl.py\u001b[0m in \u001b[0;36mget_sheet_data\u001b[1;34m(self, sheet, convert_float)\u001b[0m\n\u001b[0;32m    546\u001b[0m         \u001b[0mdata\u001b[0m\u001b[1;33m:\u001b[0m \u001b[0mList\u001b[0m\u001b[1;33m[\u001b[0m\u001b[0mList\u001b[0m\u001b[1;33m[\u001b[0m\u001b[0mScalar\u001b[0m\u001b[1;33m]\u001b[0m\u001b[1;33m]\u001b[0m \u001b[1;33m=\u001b[0m \u001b[1;33m[\u001b[0m\u001b[1;33m]\u001b[0m\u001b[1;33m\u001b[0m\u001b[1;33m\u001b[0m\u001b[0m\n\u001b[0;32m    547\u001b[0m         \u001b[0mlast_row_with_data\u001b[0m \u001b[1;33m=\u001b[0m \u001b[1;33m-\u001b[0m\u001b[1;36m1\u001b[0m\u001b[1;33m\u001b[0m\u001b[1;33m\u001b[0m\u001b[0m\n\u001b[1;32m--> 548\u001b[1;33m         \u001b[1;32mfor\u001b[0m \u001b[0mrow_number\u001b[0m\u001b[1;33m,\u001b[0m \u001b[0mrow\u001b[0m \u001b[1;32min\u001b[0m \u001b[0menumerate\u001b[0m\u001b[1;33m(\u001b[0m\u001b[0msheet\u001b[0m\u001b[1;33m.\u001b[0m\u001b[0mrows\u001b[0m\u001b[1;33m)\u001b[0m\u001b[1;33m:\u001b[0m\u001b[1;33m\u001b[0m\u001b[1;33m\u001b[0m\u001b[0m\n\u001b[0m\u001b[0;32m    549\u001b[0m             \u001b[0mconverted_row\u001b[0m \u001b[1;33m=\u001b[0m \u001b[1;33m[\u001b[0m\u001b[0mself\u001b[0m\u001b[1;33m.\u001b[0m\u001b[0m_convert_cell\u001b[0m\u001b[1;33m(\u001b[0m\u001b[0mcell\u001b[0m\u001b[1;33m,\u001b[0m \u001b[0mconvert_float\u001b[0m\u001b[1;33m)\u001b[0m \u001b[1;32mfor\u001b[0m \u001b[0mcell\u001b[0m \u001b[1;32min\u001b[0m \u001b[0mrow\u001b[0m\u001b[1;33m]\u001b[0m\u001b[1;33m\u001b[0m\u001b[1;33m\u001b[0m\u001b[0m\n\u001b[0;32m    550\u001b[0m             \u001b[1;32mif\u001b[0m \u001b[1;32mnot\u001b[0m \u001b[0mall\u001b[0m\u001b[1;33m(\u001b[0m\u001b[0mcell\u001b[0m \u001b[1;33m==\u001b[0m \u001b[1;34m\"\"\u001b[0m \u001b[1;32mfor\u001b[0m \u001b[0mcell\u001b[0m \u001b[1;32min\u001b[0m \u001b[0mconverted_row\u001b[0m\u001b[1;33m)\u001b[0m\u001b[1;33m:\u001b[0m\u001b[1;33m\u001b[0m\u001b[1;33m\u001b[0m\u001b[0m\n",
      "\u001b[1;32mC:\\ProgramData\\Anaconda3\\lib\\site-packages\\openpyxl\\worksheet\\_read_only.py\u001b[0m in \u001b[0;36m_cells_by_row\u001b[1;34m(self, min_col, min_row, max_col, max_row, values_only)\u001b[0m\n\u001b[0;32m     77\u001b[0m                                  \u001b[0mdata_only\u001b[0m\u001b[1;33m=\u001b[0m\u001b[0mself\u001b[0m\u001b[1;33m.\u001b[0m\u001b[0mparent\u001b[0m\u001b[1;33m.\u001b[0m\u001b[0mdata_only\u001b[0m\u001b[1;33m,\u001b[0m \u001b[0mepoch\u001b[0m\u001b[1;33m=\u001b[0m\u001b[0mself\u001b[0m\u001b[1;33m.\u001b[0m\u001b[0mparent\u001b[0m\u001b[1;33m.\u001b[0m\u001b[0mepoch\u001b[0m\u001b[1;33m,\u001b[0m\u001b[1;33m\u001b[0m\u001b[1;33m\u001b[0m\u001b[0m\n\u001b[0;32m     78\u001b[0m                                  date_formats=self.parent._date_formats)\n\u001b[1;32m---> 79\u001b[1;33m         \u001b[1;32mfor\u001b[0m \u001b[0midx\u001b[0m\u001b[1;33m,\u001b[0m \u001b[0mrow\u001b[0m \u001b[1;32min\u001b[0m \u001b[0mparser\u001b[0m\u001b[1;33m.\u001b[0m\u001b[0mparse\u001b[0m\u001b[1;33m(\u001b[0m\u001b[1;33m)\u001b[0m\u001b[1;33m:\u001b[0m\u001b[1;33m\u001b[0m\u001b[1;33m\u001b[0m\u001b[0m\n\u001b[0m\u001b[0;32m     80\u001b[0m             \u001b[1;32mif\u001b[0m \u001b[0mmax_row\u001b[0m \u001b[1;32mis\u001b[0m \u001b[1;32mnot\u001b[0m \u001b[1;32mNone\u001b[0m \u001b[1;32mand\u001b[0m \u001b[0midx\u001b[0m \u001b[1;33m>\u001b[0m \u001b[0mmax_row\u001b[0m\u001b[1;33m:\u001b[0m\u001b[1;33m\u001b[0m\u001b[1;33m\u001b[0m\u001b[0m\n\u001b[0;32m     81\u001b[0m                 \u001b[1;32mbreak\u001b[0m\u001b[1;33m\u001b[0m\u001b[1;33m\u001b[0m\u001b[0m\n",
      "\u001b[1;32mC:\\ProgramData\\Anaconda3\\lib\\site-packages\\openpyxl\\worksheet\\_reader.py\u001b[0m in \u001b[0;36mparse\u001b[1;34m(self)\u001b[0m\n\u001b[0;32m    142\u001b[0m         \u001b[0mit\u001b[0m \u001b[1;33m=\u001b[0m \u001b[0miterparse\u001b[0m\u001b[1;33m(\u001b[0m\u001b[0mself\u001b[0m\u001b[1;33m.\u001b[0m\u001b[0msource\u001b[0m\u001b[1;33m)\u001b[0m \u001b[1;31m# add a finaliser to close the source when this becomes possible\u001b[0m\u001b[1;33m\u001b[0m\u001b[1;33m\u001b[0m\u001b[0m\n\u001b[0;32m    143\u001b[0m \u001b[1;33m\u001b[0m\u001b[0m\n\u001b[1;32m--> 144\u001b[1;33m         \u001b[1;32mfor\u001b[0m \u001b[0m_\u001b[0m\u001b[1;33m,\u001b[0m \u001b[0melement\u001b[0m \u001b[1;32min\u001b[0m \u001b[0mit\u001b[0m\u001b[1;33m:\u001b[0m\u001b[1;33m\u001b[0m\u001b[1;33m\u001b[0m\u001b[0m\n\u001b[0m\u001b[0;32m    145\u001b[0m             \u001b[0mtag_name\u001b[0m \u001b[1;33m=\u001b[0m \u001b[0melement\u001b[0m\u001b[1;33m.\u001b[0m\u001b[0mtag\u001b[0m\u001b[1;33m\u001b[0m\u001b[1;33m\u001b[0m\u001b[0m\n\u001b[0;32m    146\u001b[0m             \u001b[1;32mif\u001b[0m \u001b[0mtag_name\u001b[0m \u001b[1;32min\u001b[0m \u001b[0mdispatcher\u001b[0m\u001b[1;33m:\u001b[0m\u001b[1;33m\u001b[0m\u001b[1;33m\u001b[0m\u001b[0m\n",
      "\u001b[1;32mC:\\ProgramData\\Anaconda3\\lib\\xml\\etree\\ElementTree.py\u001b[0m in \u001b[0;36miterator\u001b[1;34m()\u001b[0m\n\u001b[0;32m   1227\u001b[0m                 \u001b[1;32myield\u001b[0m \u001b[1;32mfrom\u001b[0m \u001b[0mpullparser\u001b[0m\u001b[1;33m.\u001b[0m\u001b[0mread_events\u001b[0m\u001b[1;33m(\u001b[0m\u001b[1;33m)\u001b[0m\u001b[1;33m\u001b[0m\u001b[1;33m\u001b[0m\u001b[0m\n\u001b[0;32m   1228\u001b[0m                 \u001b[1;31m# load event buffer\u001b[0m\u001b[1;33m\u001b[0m\u001b[1;33m\u001b[0m\u001b[1;33m\u001b[0m\u001b[0m\n\u001b[1;32m-> 1229\u001b[1;33m                 \u001b[0mdata\u001b[0m \u001b[1;33m=\u001b[0m \u001b[0msource\u001b[0m\u001b[1;33m.\u001b[0m\u001b[0mread\u001b[0m\u001b[1;33m(\u001b[0m\u001b[1;36m16\u001b[0m \u001b[1;33m*\u001b[0m \u001b[1;36m1024\u001b[0m\u001b[1;33m)\u001b[0m\u001b[1;33m\u001b[0m\u001b[1;33m\u001b[0m\u001b[0m\n\u001b[0m\u001b[0;32m   1230\u001b[0m                 \u001b[1;32mif\u001b[0m \u001b[1;32mnot\u001b[0m \u001b[0mdata\u001b[0m\u001b[1;33m:\u001b[0m\u001b[1;33m\u001b[0m\u001b[1;33m\u001b[0m\u001b[0m\n\u001b[0;32m   1231\u001b[0m                     \u001b[1;32mbreak\u001b[0m\u001b[1;33m\u001b[0m\u001b[1;33m\u001b[0m\u001b[0m\n",
      "\u001b[1;32mC:\\ProgramData\\Anaconda3\\lib\\zipfile.py\u001b[0m in \u001b[0;36mread\u001b[1;34m(self, n)\u001b[0m\n\u001b[0;32m    938\u001b[0m         \u001b[0mself\u001b[0m\u001b[1;33m.\u001b[0m\u001b[0m_offset\u001b[0m \u001b[1;33m=\u001b[0m \u001b[1;36m0\u001b[0m\u001b[1;33m\u001b[0m\u001b[1;33m\u001b[0m\u001b[0m\n\u001b[0;32m    939\u001b[0m         \u001b[1;32mwhile\u001b[0m \u001b[0mn\u001b[0m \u001b[1;33m>\u001b[0m \u001b[1;36m0\u001b[0m \u001b[1;32mand\u001b[0m \u001b[1;32mnot\u001b[0m \u001b[0mself\u001b[0m\u001b[1;33m.\u001b[0m\u001b[0m_eof\u001b[0m\u001b[1;33m:\u001b[0m\u001b[1;33m\u001b[0m\u001b[1;33m\u001b[0m\u001b[0m\n\u001b[1;32m--> 940\u001b[1;33m             \u001b[0mdata\u001b[0m \u001b[1;33m=\u001b[0m \u001b[0mself\u001b[0m\u001b[1;33m.\u001b[0m\u001b[0m_read1\u001b[0m\u001b[1;33m(\u001b[0m\u001b[0mn\u001b[0m\u001b[1;33m)\u001b[0m\u001b[1;33m\u001b[0m\u001b[1;33m\u001b[0m\u001b[0m\n\u001b[0m\u001b[0;32m    941\u001b[0m             \u001b[1;32mif\u001b[0m \u001b[0mn\u001b[0m \u001b[1;33m<\u001b[0m \u001b[0mlen\u001b[0m\u001b[1;33m(\u001b[0m\u001b[0mdata\u001b[0m\u001b[1;33m)\u001b[0m\u001b[1;33m:\u001b[0m\u001b[1;33m\u001b[0m\u001b[1;33m\u001b[0m\u001b[0m\n\u001b[0;32m    942\u001b[0m                 \u001b[0mself\u001b[0m\u001b[1;33m.\u001b[0m\u001b[0m_readbuffer\u001b[0m \u001b[1;33m=\u001b[0m \u001b[0mdata\u001b[0m\u001b[1;33m\u001b[0m\u001b[1;33m\u001b[0m\u001b[0m\n",
      "\u001b[1;32mC:\\ProgramData\\Anaconda3\\lib\\zipfile.py\u001b[0m in \u001b[0;36m_read1\u001b[1;34m(self, n)\u001b[0m\n\u001b[0;32m   1014\u001b[0m         \u001b[1;32melif\u001b[0m \u001b[0mself\u001b[0m\u001b[1;33m.\u001b[0m\u001b[0m_compress_type\u001b[0m \u001b[1;33m==\u001b[0m \u001b[0mZIP_DEFLATED\u001b[0m\u001b[1;33m:\u001b[0m\u001b[1;33m\u001b[0m\u001b[1;33m\u001b[0m\u001b[0m\n\u001b[0;32m   1015\u001b[0m             \u001b[0mn\u001b[0m \u001b[1;33m=\u001b[0m \u001b[0mmax\u001b[0m\u001b[1;33m(\u001b[0m\u001b[0mn\u001b[0m\u001b[1;33m,\u001b[0m \u001b[0mself\u001b[0m\u001b[1;33m.\u001b[0m\u001b[0mMIN_READ_SIZE\u001b[0m\u001b[1;33m)\u001b[0m\u001b[1;33m\u001b[0m\u001b[1;33m\u001b[0m\u001b[0m\n\u001b[1;32m-> 1016\u001b[1;33m             \u001b[0mdata\u001b[0m \u001b[1;33m=\u001b[0m \u001b[0mself\u001b[0m\u001b[1;33m.\u001b[0m\u001b[0m_decompressor\u001b[0m\u001b[1;33m.\u001b[0m\u001b[0mdecompress\u001b[0m\u001b[1;33m(\u001b[0m\u001b[0mdata\u001b[0m\u001b[1;33m,\u001b[0m \u001b[0mn\u001b[0m\u001b[1;33m)\u001b[0m\u001b[1;33m\u001b[0m\u001b[1;33m\u001b[0m\u001b[0m\n\u001b[0m\u001b[0;32m   1017\u001b[0m             self._eof = (self._decompressor.eof or\n\u001b[0;32m   1018\u001b[0m                          \u001b[0mself\u001b[0m\u001b[1;33m.\u001b[0m\u001b[0m_compress_left\u001b[0m \u001b[1;33m<=\u001b[0m \u001b[1;36m0\u001b[0m \u001b[1;32mand\u001b[0m\u001b[1;33m\u001b[0m\u001b[1;33m\u001b[0m\u001b[0m\n",
      "\u001b[1;31mKeyboardInterrupt\u001b[0m: "
     ]
    }
   ],
   "source": [
    "df = pd.read_excel('CJ제일제당 주문 데이터(전처리).xlsx')"
   ]
  },
  {
   "cell_type": "code",
   "execution_count": null,
   "metadata": {
    "colab": {
     "base_uri": "https://localhost:8080/",
     "height": 1000
    },
    "id": "1gUhTp7_n4mK",
    "outputId": "90269967-1d95-4358-f2a0-b530632fb0fd"
   },
   "outputs": [],
   "source": [
    "df"
   ]
  },
  {
   "cell_type": "markdown",
   "metadata": {
    "id": "QvN0GemSfEJZ"
   },
   "source": [
    "재구매율은 중요하다"
   ]
  },
  {
   "cell_type": "code",
   "execution_count": null,
   "metadata": {
    "colab": {
     "base_uri": "https://localhost:8080/"
    },
    "id": "OpspUIPzdrWY",
    "outputId": "134793cf-6e69-4d69-a65a-b2a41c77bae1"
   },
   "outputs": [],
   "source": [
    "df['아이디'].nunique()"
   ]
  },
  {
   "cell_type": "code",
   "execution_count": null,
   "metadata": {
    "colab": {
     "base_uri": "https://localhost:8080/"
    },
    "id": "J9Obd7cLdrD4",
    "outputId": "ec965815-090b-4e20-b3b0-1f9015118898"
   },
   "outputs": [],
   "source": [
    "len(df)"
   ]
  },
  {
   "cell_type": "markdown",
   "metadata": {},
   "source": [
    "# 시간대 및 유입채널에 대한 대분류 칼럼을 추가"
   ]
  },
  {
   "cell_type": "code",
   "execution_count": null,
   "metadata": {},
   "outputs": [],
   "source": [
    "df['시간대'] = df['주문접수일시'].dt.hour"
   ]
  },
  {
   "cell_type": "code",
   "execution_count": null,
   "metadata": {},
   "outputs": [],
   "source": [
    "df['시간대 대분류'] = '21 ~ 00'\n",
    "df.loc[(df['시간대'] >= 0) & (df['시간대'] < 3),'시간대 대분류'] = '00 ~ 03'\n",
    "df.loc[(df['시간대'] >= 3) & (df['시간대'] < 6),'시간대 대분류'] = '03 ~ 06'\n",
    "df.loc[(df['시간대'] >= 6) & (df['시간대'] < 9),'시간대 대분류'] = '06 ~ 09'\n",
    "df.loc[(df['시간대'] >= 9) & (df['시간대'] < 12),'시간대 대분류'] = '09 ~ 12'\n",
    "df.loc[(df['시간대'] >= 12) & (df['시간대'] < 15),'시간대 대분류'] = '12 ~ 15'\n",
    "df.loc[(df['시간대'] >= 15) & (df['시간대'] < 18),'시간대 대분류'] = '15 ~ 18'\n",
    "df.loc[(df['시간대'] >= 18) & (df['시간대'] < 21),'시간대 대분류'] = '18 ~ 21'"
   ]
  },
  {
   "cell_type": "markdown",
   "metadata": {},
   "source": [
    "# 유입채널을 크게 제가 5가지로 분류해보도록 하겠습니다.\n",
    "\n",
    "- 1 - 유실 채널 상세, 디폴트 채널 상세로 앱에서 들어 가서 직접 찾는 경우(오리지날 방법)\n",
    "- 2 - 가격비교 사이트 들어가서 찾은 경우\n",
    "- 3 - 모바일(카카오톡, 공유하기 등)\n",
    "- 4 - 검색 기능으로 찾은 경우\n",
    "- 5 - 기타(롯데ON, 혹은 그 이외의 이벤트 )"
   ]
  },
  {
   "cell_type": "code",
   "execution_count": null,
   "metadata": {},
   "outputs": [],
   "source": [
    "df['유입채널 대분류'] = '기타 및 이벤트 광고'\n",
    "df.loc[((df['유입채널'] == '유실 채널상세') | (df['유입채널'] == '디폴트 채널상세')), '유입채널 대분류'] = 'CJ 앱/사이트'\n",
    "df.loc[df['유입채널'].str.contains('가격비교'), '유입채널 대분류'] = '가격비교'\n",
    "df.loc[df['유입채널'].str.contains('모바일'), '유입채널 대분류'] = '모바일 공유'\n",
    "df.loc[df['유입채널'].str.contains('검색'), '유입채널 대분류'] = '검색'"
   ]
  },
  {
   "cell_type": "code",
   "execution_count": null,
   "metadata": {},
   "outputs": [],
   "source": [
    "df['유입채널 대분류'].value_counts()"
   ]
  },
  {
   "cell_type": "code",
   "execution_count": null,
   "metadata": {},
   "outputs": [],
   "source": [
    "# id 및 유입채널 별로 분석하기 위해, 데이터프레임에서 필요한 변수 위주로만 남겨놓겠습니다.\n",
    "df.columns\n",
    "df = df[['주문접수일시', '주문번호', '유입채널 대분류', '시간대 대분류', '주문월', '아이디', '판매자상품명', '판매가', '표준카테고리']]"
   ]
  },
  {
   "cell_type": "code",
   "execution_count": null,
   "metadata": {},
   "outputs": [],
   "source": [
    "df"
   ]
  },
  {
   "cell_type": "markdown",
   "metadata": {},
   "source": [
    "# idea : 아이디별로 묶어서 특정 회원의 주문을 분석하도록 하겠습니다.\n",
    "\n",
    "## 주문 횟수가 1~2회인 회원의 경우 패턴을 파악하기가 어렵기에, 그래도 3회 이상이었던 회원들에 한해서 주문 패턴을 파악하기!"
   ]
  },
  {
   "cell_type": "code",
   "execution_count": null,
   "metadata": {},
   "outputs": [],
   "source": [
    "df['아이디'].value_counts().loc[lambda x: x>= 3]"
   ]
  },
  {
   "cell_type": "code",
   "execution_count": null,
   "metadata": {},
   "outputs": [],
   "source": [
    "df['아이디'].value_counts() >= 3"
   ]
  },
  {
   "cell_type": "code",
   "execution_count": null,
   "metadata": {},
   "outputs": [],
   "source": [
    "df['아이디'].value_counts().loc[lambda x: x>= 3].index"
   ]
  },
  {
   "cell_type": "code",
   "execution_count": null,
   "metadata": {
    "scrolled": false
   },
   "outputs": [],
   "source": [
    "# 먼저 id가 3회 이상 나온 데이터에 한해서만 저장하도록 할게요!!\n",
    "\n",
    "df_id = df[df['아이디'] == df['아이디'].value_counts().loc[lambda x: x>= 3].index[0]]\n",
    "for i in range(1, len(df['아이디'].value_counts().loc[lambda x: x>= 3].index)):\n",
    "    df_id = df_id.append(df[df['아이디'] == df['아이디'].value_counts().loc[lambda x: x>= 3].index[i]])\n",
    "df_id.head()"
   ]
  },
  {
   "cell_type": "code",
   "execution_count": null,
   "metadata": {},
   "outputs": [],
   "source": [
    "# 일단 아이디가  *, **, ***, **** 으로만 나타나거나, null 값인 경우는 같은 회원으로 보기 어려워서 삭제하겠습니다.\n",
    "\n",
    "df_id = df_id[(df_id['아이디'] != '*') & (df_id['아이디'] != '**') & \n",
    "                  (df_id['아이디'] != '***') & (df_id['아이디'] != '****') & (df_id['아이디'] != '')]"
   ]
  },
  {
   "cell_type": "code",
   "execution_count": null,
   "metadata": {},
   "outputs": [],
   "source": [
    "len(df_id) # 34710개의 데이터가 들어갔네요..."
   ]
  },
  {
   "cell_type": "code",
   "execution_count": null,
   "metadata": {},
   "outputs": [],
   "source": [
    "df_id.head()"
   ]
  },
  {
   "cell_type": "markdown",
   "metadata": {},
   "source": []
  },
  {
   "cell_type": "markdown",
   "metadata": {},
   "source": [
    "# 자, 이제 최소 주문을 3회 이상했던 친구들의 데이터를 다음과 같이 데이터프레임으로 모아줬습니다."
   ]
  },
  {
   "cell_type": "code",
   "execution_count": null,
   "metadata": {},
   "outputs": [],
   "source": [
    "df_id"
   ]
  },
  {
   "cell_type": "markdown",
   "metadata": {},
   "source": [
    "# 0. 아이디별로 주문을 파악해보겠습니다."
   ]
  },
  {
   "cell_type": "code",
   "execution_count": null,
   "metadata": {},
   "outputs": [],
   "source": [
    "# df_id.to_csv('CJ 아이디별 조회.csv', encoding='utf-8')"
   ]
  },
  {
   "cell_type": "markdown",
   "metadata": {},
   "source": [
    "# CJ 아이디별 파일 다운받고, 여기서부터 코딩 실행해주세요!!"
   ]
  },
  {
   "cell_type": "code",
   "execution_count": 37,
   "metadata": {},
   "outputs": [],
   "source": [
    "import pandas as pd\n",
    "import numpy as np\n",
    "from datetime import datetime\n",
    "import matplotlib.pyplot as plt\n",
    "import seaborn as sns\n",
    "from matplotlib import font_manager, rc\n",
    "import matplotlib\n",
    "import platform\n",
    "import matplotlib.pyplot as plt\n",
    "\n",
    "%matplotlib inline \n",
    "\n",
    "if platform.system() == 'Windows':\n",
    "    font_name = font_manager.FontProperties(fname=\"c:/Windows/Fonts/malgun.ttf\").get_name()\n",
    "    rc('font', family = font_name)\n",
    "else:\n",
    "    rc('font',family='AppleGothic')\n",
    "    \n",
    "matplotlib.rcParams['axes.unicode_minus']=False\n",
    "%matplotlib inline"
   ]
  },
  {
   "cell_type": "code",
   "execution_count": 38,
   "metadata": {},
   "outputs": [],
   "source": [
    "df_id = pd.read_csv('CJ 아이디별 조회.csv')"
   ]
  },
  {
   "cell_type": "code",
   "execution_count": 39,
   "metadata": {},
   "outputs": [],
   "source": [
    "df_id['주문접수일시'] = pd.to_datetime(df_id['주문접수일시'])"
   ]
  },
  {
   "cell_type": "code",
   "execution_count": 40,
   "metadata": {
    "scrolled": true
   },
   "outputs": [],
   "source": [
    "df_id['주문날짜'] = df_id['주문번호']//(10**8)\n",
    "df_id['주문날짜'].astype(str)\n",
    "df_id['주문날짜'] = pd.to_datetime(df_id['주문날짜'], format = \"%Y%m%d\")"
   ]
  },
  {
   "cell_type": "code",
   "execution_count": 41,
   "metadata": {},
   "outputs": [],
   "source": [
    "df_id_test = df_id.groupby(['아이디']).count()"
   ]
  },
  {
   "cell_type": "code",
   "execution_count": 42,
   "metadata": {},
   "outputs": [],
   "source": [
    "df_id_cond = df_id_test[df_id_test['주문접수일시'] >= 2]"
   ]
  },
  {
   "cell_type": "code",
   "execution_count": 43,
   "metadata": {},
   "outputs": [
    {
     "data": {
      "text/html": [
       "<div>\n",
       "<style scoped>\n",
       "    .dataframe tbody tr th:only-of-type {\n",
       "        vertical-align: middle;\n",
       "    }\n",
       "\n",
       "    .dataframe tbody tr th {\n",
       "        vertical-align: top;\n",
       "    }\n",
       "\n",
       "    .dataframe thead th {\n",
       "        text-align: right;\n",
       "    }\n",
       "</style>\n",
       "<table border=\"1\" class=\"dataframe\">\n",
       "  <thead>\n",
       "    <tr style=\"text-align: right;\">\n",
       "      <th></th>\n",
       "      <th>주문접수일시</th>\n",
       "      <th>주문번호</th>\n",
       "      <th>유입채널 대분류</th>\n",
       "      <th>시간대 대분류</th>\n",
       "      <th>주문월</th>\n",
       "      <th>판매자상품명</th>\n",
       "      <th>판매가</th>\n",
       "      <th>표준카테고리</th>\n",
       "      <th>주문날짜</th>\n",
       "    </tr>\n",
       "    <tr>\n",
       "      <th>아이디</th>\n",
       "      <th></th>\n",
       "      <th></th>\n",
       "      <th></th>\n",
       "      <th></th>\n",
       "      <th></th>\n",
       "      <th></th>\n",
       "      <th></th>\n",
       "      <th></th>\n",
       "      <th></th>\n",
       "    </tr>\n",
       "  </thead>\n",
       "  <tbody>\n",
       "    <tr>\n",
       "      <th>love****</th>\n",
       "      <td>220</td>\n",
       "      <td>220</td>\n",
       "      <td>220</td>\n",
       "      <td>220</td>\n",
       "      <td>220</td>\n",
       "      <td>220</td>\n",
       "      <td>220</td>\n",
       "      <td>220</td>\n",
       "      <td>220</td>\n",
       "    </tr>\n",
       "    <tr>\n",
       "      <th>blue****</th>\n",
       "      <td>196</td>\n",
       "      <td>196</td>\n",
       "      <td>196</td>\n",
       "      <td>196</td>\n",
       "      <td>196</td>\n",
       "      <td>196</td>\n",
       "      <td>196</td>\n",
       "      <td>196</td>\n",
       "      <td>196</td>\n",
       "    </tr>\n",
       "    <tr>\n",
       "      <th>csh3718</th>\n",
       "      <td>165</td>\n",
       "      <td>165</td>\n",
       "      <td>165</td>\n",
       "      <td>165</td>\n",
       "      <td>165</td>\n",
       "      <td>165</td>\n",
       "      <td>165</td>\n",
       "      <td>165</td>\n",
       "      <td>165</td>\n",
       "    </tr>\n",
       "    <tr>\n",
       "      <th>jung****</th>\n",
       "      <td>135</td>\n",
       "      <td>135</td>\n",
       "      <td>135</td>\n",
       "      <td>135</td>\n",
       "      <td>135</td>\n",
       "      <td>135</td>\n",
       "      <td>135</td>\n",
       "      <td>135</td>\n",
       "      <td>135</td>\n",
       "    </tr>\n",
       "    <tr>\n",
       "      <th>yoon****</th>\n",
       "      <td>130</td>\n",
       "      <td>130</td>\n",
       "      <td>130</td>\n",
       "      <td>130</td>\n",
       "      <td>130</td>\n",
       "      <td>130</td>\n",
       "      <td>130</td>\n",
       "      <td>130</td>\n",
       "      <td>130</td>\n",
       "    </tr>\n",
       "    <tr>\n",
       "      <th>...</th>\n",
       "      <td>...</td>\n",
       "      <td>...</td>\n",
       "      <td>...</td>\n",
       "      <td>...</td>\n",
       "      <td>...</td>\n",
       "      <td>...</td>\n",
       "      <td>...</td>\n",
       "      <td>...</td>\n",
       "      <td>...</td>\n",
       "    </tr>\n",
       "    <tr>\n",
       "      <th>km92****</th>\n",
       "      <td>3</td>\n",
       "      <td>3</td>\n",
       "      <td>3</td>\n",
       "      <td>3</td>\n",
       "      <td>3</td>\n",
       "      <td>3</td>\n",
       "      <td>3</td>\n",
       "      <td>3</td>\n",
       "      <td>3</td>\n",
       "    </tr>\n",
       "    <tr>\n",
       "      <th>kma1****</th>\n",
       "      <td>3</td>\n",
       "      <td>3</td>\n",
       "      <td>3</td>\n",
       "      <td>3</td>\n",
       "      <td>3</td>\n",
       "      <td>3</td>\n",
       "      <td>3</td>\n",
       "      <td>3</td>\n",
       "      <td>3</td>\n",
       "    </tr>\n",
       "    <tr>\n",
       "      <th>kma1119</th>\n",
       "      <td>3</td>\n",
       "      <td>3</td>\n",
       "      <td>3</td>\n",
       "      <td>3</td>\n",
       "      <td>3</td>\n",
       "      <td>3</td>\n",
       "      <td>3</td>\n",
       "      <td>3</td>\n",
       "      <td>3</td>\n",
       "    </tr>\n",
       "    <tr>\n",
       "      <th>kmastin</th>\n",
       "      <td>3</td>\n",
       "      <td>3</td>\n",
       "      <td>3</td>\n",
       "      <td>3</td>\n",
       "      <td>3</td>\n",
       "      <td>3</td>\n",
       "      <td>3</td>\n",
       "      <td>3</td>\n",
       "      <td>3</td>\n",
       "    </tr>\n",
       "    <tr>\n",
       "      <th>kmhjbr1</th>\n",
       "      <td>3</td>\n",
       "      <td>3</td>\n",
       "      <td>3</td>\n",
       "      <td>3</td>\n",
       "      <td>3</td>\n",
       "      <td>3</td>\n",
       "      <td>3</td>\n",
       "      <td>3</td>\n",
       "      <td>3</td>\n",
       "    </tr>\n",
       "  </tbody>\n",
       "</table>\n",
       "<p>5774 rows × 9 columns</p>\n",
       "</div>"
      ],
      "text/plain": [
       "          주문접수일시  주문번호  유입채널 대분류  시간대 대분류  주문월  판매자상품명  판매가  표준카테고리  주문날짜\n",
       "아이디                                                                      \n",
       "love****     220   220       220      220  220     220  220     220   220\n",
       "blue****     196   196       196      196  196     196  196     196   196\n",
       "csh3718      165   165       165      165  165     165  165     165   165\n",
       "jung****     135   135       135      135  135     135  135     135   135\n",
       "yoon****     130   130       130      130  130     130  130     130   130\n",
       "...          ...   ...       ...      ...  ...     ...  ...     ...   ...\n",
       "km92****       3     3         3        3    3       3    3       3     3\n",
       "kma1****       3     3         3        3    3       3    3       3     3\n",
       "kma1119        3     3         3        3    3       3    3       3     3\n",
       "kmastin        3     3         3        3    3       3    3       3     3\n",
       "kmhjbr1        3     3         3        3    3       3    3       3     3\n",
       "\n",
       "[5774 rows x 9 columns]"
      ]
     },
     "execution_count": 43,
     "metadata": {},
     "output_type": "execute_result"
    }
   ],
   "source": [
    "df_id_cond.sort_values(by='주문접수일시', ascending=False)"
   ]
  },
  {
   "cell_type": "code",
   "execution_count": 44,
   "metadata": {},
   "outputs": [
    {
     "data": {
      "text/plain": [
       "Index(['love****'], dtype='object', name='아이디')"
      ]
     },
     "execution_count": 44,
     "metadata": {},
     "output_type": "execute_result"
    }
   ],
   "source": [
    "df_id_cond[df_id_cond['주문접수일시'] == 220].index"
   ]
  },
  {
   "cell_type": "code",
   "execution_count": 45,
   "metadata": {},
   "outputs": [],
   "source": [
    "df_mem1 = df_id[df_id['아이디'] == 'love****']"
   ]
  },
  {
   "cell_type": "code",
   "execution_count": 46,
   "metadata": {},
   "outputs": [
    {
     "data": {
      "text/html": [
       "<div>\n",
       "<style scoped>\n",
       "    .dataframe tbody tr th:only-of-type {\n",
       "        vertical-align: middle;\n",
       "    }\n",
       "\n",
       "    .dataframe tbody tr th {\n",
       "        vertical-align: top;\n",
       "    }\n",
       "\n",
       "    .dataframe thead th {\n",
       "        text-align: right;\n",
       "    }\n",
       "</style>\n",
       "<table border=\"1\" class=\"dataframe\">\n",
       "  <thead>\n",
       "    <tr style=\"text-align: right;\">\n",
       "      <th></th>\n",
       "      <th>주문접수일시</th>\n",
       "      <th>주문번호</th>\n",
       "      <th>유입채널 대분류</th>\n",
       "      <th>시간대 대분류</th>\n",
       "      <th>주문월</th>\n",
       "      <th>아이디</th>\n",
       "      <th>판매자상품명</th>\n",
       "      <th>판매가</th>\n",
       "      <th>표준카테고리</th>\n",
       "      <th>주문날짜</th>\n",
       "    </tr>\n",
       "  </thead>\n",
       "  <tbody>\n",
       "    <tr>\n",
       "      <th>0</th>\n",
       "      <td>2022-01-07 06:55:35</td>\n",
       "      <td>2022010712865550</td>\n",
       "      <td>가격비교</td>\n",
       "      <td>06 ~ 09</td>\n",
       "      <td>1</td>\n",
       "      <td>love****</td>\n",
       "      <td>[CJ직배송] CJ 햇반 매일잡곡밥 210g x 24개</td>\n",
       "      <td>36000</td>\n",
       "      <td>냉장/냉동/간편식 &gt; 즉석밥/죽/스프 &gt; 즉석밥</td>\n",
       "      <td>2022-01-07</td>\n",
       "    </tr>\n",
       "    <tr>\n",
       "      <th>1</th>\n",
       "      <td>2022-01-07 06:57:53</td>\n",
       "      <td>2022010712865630</td>\n",
       "      <td>가격비교</td>\n",
       "      <td>06 ~ 09</td>\n",
       "      <td>1</td>\n",
       "      <td>love****</td>\n",
       "      <td>[CJ직배송] CJ 햇반 매일잡곡밥 210g x 24개</td>\n",
       "      <td>36000</td>\n",
       "      <td>냉장/냉동/간편식 &gt; 즉석밥/죽/스프 &gt; 즉석밥</td>\n",
       "      <td>2022-01-07</td>\n",
       "    </tr>\n",
       "    <tr>\n",
       "      <th>2</th>\n",
       "      <td>2022-01-10 09:36:32</td>\n",
       "      <td>2022011013280040</td>\n",
       "      <td>검색</td>\n",
       "      <td>09 ~ 12</td>\n",
       "      <td>1</td>\n",
       "      <td>love****</td>\n",
       "      <td>CJ 고메 중화짜장 760Gx3개</td>\n",
       "      <td>21530</td>\n",
       "      <td>가공식품 &gt; 면류 &gt; 중화면</td>\n",
       "      <td>2022-01-10</td>\n",
       "    </tr>\n",
       "    <tr>\n",
       "      <th>3</th>\n",
       "      <td>2022-01-10 11:56:34</td>\n",
       "      <td>2022011013300450</td>\n",
       "      <td>CJ 앱/사이트</td>\n",
       "      <td>09 ~ 12</td>\n",
       "      <td>1</td>\n",
       "      <td>love****</td>\n",
       "      <td>[CJ직배송]CJ비비고왕교자1.05KG X 2개</td>\n",
       "      <td>19920</td>\n",
       "      <td>냉장/냉동/간편식 &gt; 떡볶이/만두 &gt; 만두</td>\n",
       "      <td>2022-01-10</td>\n",
       "    </tr>\n",
       "    <tr>\n",
       "      <th>4</th>\n",
       "      <td>2022-01-10 16:28:22</td>\n",
       "      <td>2022011013337260</td>\n",
       "      <td>가격비교</td>\n",
       "      <td>15 ~ 18</td>\n",
       "      <td>1</td>\n",
       "      <td>love****</td>\n",
       "      <td>[CJ직배송]쉐프솔루션 고기만땅왕교자 1.05KG X3개</td>\n",
       "      <td>20940</td>\n",
       "      <td>냉장/냉동/간편식 &gt; 떡볶이/만두 &gt; 만두</td>\n",
       "      <td>2022-01-10</td>\n",
       "    </tr>\n",
       "    <tr>\n",
       "      <th>...</th>\n",
       "      <td>...</td>\n",
       "      <td>...</td>\n",
       "      <td>...</td>\n",
       "      <td>...</td>\n",
       "      <td>...</td>\n",
       "      <td>...</td>\n",
       "      <td>...</td>\n",
       "      <td>...</td>\n",
       "      <td>...</td>\n",
       "      <td>...</td>\n",
       "    </tr>\n",
       "    <tr>\n",
       "      <th>215</th>\n",
       "      <td>2022-07-06 03:12:42</td>\n",
       "      <td>2022070618027370</td>\n",
       "      <td>CJ 앱/사이트</td>\n",
       "      <td>03 ~ 06</td>\n",
       "      <td>7</td>\n",
       "      <td>love****</td>\n",
       "      <td>[햇반 솥반 X 서울체크인]햇반 솥반 7종</td>\n",
       "      <td>27000</td>\n",
       "      <td>냉장/냉동/간편식 &gt; 즉석밥/죽/스프 &gt; 즉석밥</td>\n",
       "      <td>2022-07-06</td>\n",
       "    </tr>\n",
       "    <tr>\n",
       "      <th>216</th>\n",
       "      <td>2022-07-06 03:12:42</td>\n",
       "      <td>2022070618027370</td>\n",
       "      <td>CJ 앱/사이트</td>\n",
       "      <td>03 ~ 06</td>\n",
       "      <td>7</td>\n",
       "      <td>love****</td>\n",
       "      <td>햇반/쿡반불고기주먹밥500G+햇반/쿡반김치치즈주먹밥500G+햇반/쿡반버터장조림주먹밥...</td>\n",
       "      <td>31000</td>\n",
       "      <td>냉장/냉동/간편식 &gt; 즉석밥/죽/스프 &gt; 즉석밥</td>\n",
       "      <td>2022-07-06</td>\n",
       "    </tr>\n",
       "    <tr>\n",
       "      <th>217</th>\n",
       "      <td>2022-07-06 15:59:10</td>\n",
       "      <td>2022070618106970</td>\n",
       "      <td>기타 및 이벤트 광고</td>\n",
       "      <td>15 ~ 18</td>\n",
       "      <td>7</td>\n",
       "      <td>love****</td>\n",
       "      <td>[파티컵증정]고메 순살 후라이드 치킨 550gx3개</td>\n",
       "      <td>27090</td>\n",
       "      <td>냉장/냉동/간편식 &gt; 피자/핫도그/햄버거 &gt; 피자/햄버거</td>\n",
       "      <td>2022-07-06</td>\n",
       "    </tr>\n",
       "    <tr>\n",
       "      <th>218</th>\n",
       "      <td>2022-07-06 15:59:10</td>\n",
       "      <td>2022070618106970</td>\n",
       "      <td>기타 및 이벤트 광고</td>\n",
       "      <td>15 ~ 18</td>\n",
       "      <td>7</td>\n",
       "      <td>love****</td>\n",
       "      <td>고메 바삭쫄깃한 탕수육 450gx3개</td>\n",
       "      <td>28340</td>\n",
       "      <td>냉장/냉동/간편식 &gt; 동그랑땡/전/튀김 &gt; 튀김류</td>\n",
       "      <td>2022-07-06</td>\n",
       "    </tr>\n",
       "    <tr>\n",
       "      <th>219</th>\n",
       "      <td>2022-07-11 16:14:08</td>\n",
       "      <td>2022071118754740</td>\n",
       "      <td>CJ 앱/사이트</td>\n",
       "      <td>15 ~ 18</td>\n",
       "      <td>7</td>\n",
       "      <td>love****</td>\n",
       "      <td>다담 된장찌개양념 530G X 4개</td>\n",
       "      <td>23000</td>\n",
       "      <td>가공식품 &gt; 장류 &gt; 된장/쌈장/청국장</td>\n",
       "      <td>2022-07-11</td>\n",
       "    </tr>\n",
       "  </tbody>\n",
       "</table>\n",
       "<p>220 rows × 10 columns</p>\n",
       "</div>"
      ],
      "text/plain": [
       "                 주문접수일시              주문번호     유입채널 대분류  시간대 대분류  주문월  \\\n",
       "0   2022-01-07 06:55:35  2022010712865550         가격비교  06 ~ 09    1   \n",
       "1   2022-01-07 06:57:53  2022010712865630         가격비교  06 ~ 09    1   \n",
       "2   2022-01-10 09:36:32  2022011013280040           검색  09 ~ 12    1   \n",
       "3   2022-01-10 11:56:34  2022011013300450     CJ 앱/사이트  09 ~ 12    1   \n",
       "4   2022-01-10 16:28:22  2022011013337260         가격비교  15 ~ 18    1   \n",
       "..                  ...               ...          ...      ...  ...   \n",
       "215 2022-07-06 03:12:42  2022070618027370     CJ 앱/사이트  03 ~ 06    7   \n",
       "216 2022-07-06 03:12:42  2022070618027370     CJ 앱/사이트  03 ~ 06    7   \n",
       "217 2022-07-06 15:59:10  2022070618106970  기타 및 이벤트 광고  15 ~ 18    7   \n",
       "218 2022-07-06 15:59:10  2022070618106970  기타 및 이벤트 광고  15 ~ 18    7   \n",
       "219 2022-07-11 16:14:08  2022071118754740     CJ 앱/사이트  15 ~ 18    7   \n",
       "\n",
       "          아이디                                             판매자상품명    판매가  \\\n",
       "0    love****                     [CJ직배송] CJ 햇반 매일잡곡밥 210g x 24개  36000   \n",
       "1    love****                     [CJ직배송] CJ 햇반 매일잡곡밥 210g x 24개  36000   \n",
       "2    love****                                 CJ 고메 중화짜장 760Gx3개  21530   \n",
       "3    love****                         [CJ직배송]CJ비비고왕교자1.05KG X 2개  19920   \n",
       "4    love****                    [CJ직배송]쉐프솔루션 고기만땅왕교자 1.05KG X3개  20940   \n",
       "..        ...                                                ...    ...   \n",
       "215  love****                            [햇반 솥반 X 서울체크인]햇반 솥반 7종  27000   \n",
       "216  love****  햇반/쿡반불고기주먹밥500G+햇반/쿡반김치치즈주먹밥500G+햇반/쿡반버터장조림주먹밥...  31000   \n",
       "217  love****                       [파티컵증정]고메 순살 후라이드 치킨 550gx3개  27090   \n",
       "218  love****                               고메 바삭쫄깃한 탕수육 450gx3개  28340   \n",
       "219  love****                                다담 된장찌개양념 530G X 4개  23000   \n",
       "\n",
       "                              표준카테고리       주문날짜  \n",
       "0         냉장/냉동/간편식 > 즉석밥/죽/스프 > 즉석밥 2022-01-07  \n",
       "1         냉장/냉동/간편식 > 즉석밥/죽/스프 > 즉석밥 2022-01-07  \n",
       "2                    가공식품 > 면류 > 중화면 2022-01-10  \n",
       "3            냉장/냉동/간편식 > 떡볶이/만두 > 만두 2022-01-10  \n",
       "4            냉장/냉동/간편식 > 떡볶이/만두 > 만두 2022-01-10  \n",
       "..                               ...        ...  \n",
       "215       냉장/냉동/간편식 > 즉석밥/죽/스프 > 즉석밥 2022-07-06  \n",
       "216       냉장/냉동/간편식 > 즉석밥/죽/스프 > 즉석밥 2022-07-06  \n",
       "217  냉장/냉동/간편식 > 피자/핫도그/햄버거 > 피자/햄버거 2022-07-06  \n",
       "218      냉장/냉동/간편식 > 동그랑땡/전/튀김 > 튀김류 2022-07-06  \n",
       "219            가공식품 > 장류 > 된장/쌈장/청국장 2022-07-11  \n",
       "\n",
       "[220 rows x 10 columns]"
      ]
     },
     "execution_count": 46,
     "metadata": {},
     "output_type": "execute_result"
    }
   ],
   "source": [
    "df_mem1"
   ]
  },
  {
   "cell_type": "code",
   "execution_count": 47,
   "metadata": {},
   "outputs": [
    {
     "data": {
      "text/plain": [
       "21 ~ 00    50\n",
       "15 ~ 18    37\n",
       "00 ~ 03    33\n",
       "12 ~ 15    26\n",
       "18 ~ 21    26\n",
       "09 ~ 12    23\n",
       "06 ~ 09    16\n",
       "03 ~ 06     9\n",
       "Name: 시간대 대분류, dtype: int64"
      ]
     },
     "execution_count": 47,
     "metadata": {},
     "output_type": "execute_result"
    }
   ],
   "source": [
    "df_mem1['시간대 대분류'].value_counts()"
   ]
  },
  {
   "cell_type": "code",
   "execution_count": 48,
   "metadata": {},
   "outputs": [
    {
     "data": {
      "text/plain": [
       "CJ 앱/사이트       163\n",
       "가격비교            32\n",
       "기타 및 이벤트 광고     12\n",
       "모바일 공유           8\n",
       "검색               5\n",
       "Name: 유입채널 대분류, dtype: int64"
      ]
     },
     "execution_count": 48,
     "metadata": {},
     "output_type": "execute_result"
    }
   ],
   "source": [
    "df_mem1['유입채널 대분류'].value_counts()"
   ]
  },
  {
   "cell_type": "code",
   "execution_count": 49,
   "metadata": {},
   "outputs": [
    {
     "data": {
      "text/plain": [
       "<AxesSubplot:xlabel='시간대 대분류', ylabel='count'>"
      ]
     },
     "execution_count": 49,
     "metadata": {},
     "output_type": "execute_result"
    },
    {
     "data": {
      "image/png": "[encoded data removed]",
      "text/plain": [
       "<Figure size 432x288 with 1 Axes>"
      ]
     },
     "metadata": {
      "needs_background": "light"
     },
     "output_type": "display_data"
    }
   ],
   "source": [
    "# 위 사용자는 주로 언제 주문을 할까?\n",
    "sns.countplot(x='시간대 대분류', data=df_mem1, order=['00 ~ 03', '03 ~ 06', '06 ~ 09', '09 ~ 12', '12 ~ 15', '15 ~ 18', '18 ~ 21', '21 ~ 00'])"
   ]
  },
  {
   "cell_type": "code",
   "execution_count": 50,
   "metadata": {},
   "outputs": [],
   "source": [
    "df_mem1_1 = df_mem1[df_mem1['유입채널 대분류'] == 'CJ 앱/사이트']\n",
    "# CJ 앱/사이트에서는 언제 홍보하는게 좋을까?"
   ]
  },
  {
   "cell_type": "code",
   "execution_count": 51,
   "metadata": {},
   "outputs": [
    {
     "data": {
      "text/plain": [
       "<AxesSubplot:xlabel='시간대 대분류', ylabel='count'>"
      ]
     },
     "execution_count": 51,
     "metadata": {},
     "output_type": "execute_result"
    },
    {
     "data": {
      "image/png": "[encoded data removed]",
      "text/plain": [
       "<Figure size 432x288 with 1 Axes>"
      ]
     },
     "metadata": {
      "needs_background": "light"
     },
     "output_type": "display_data"
    }
   ],
   "source": [
    "sns.countplot(x='시간대 대분류', data=df_mem1_1, order=['00 ~ 03', '03 ~ 06', '06 ~ 09', '09 ~ 12', '12 ~ 15', '15 ~ 18', '18 ~ 21', '21 ~ 00'])"
   ]
  },
  {
   "cell_type": "code",
   "execution_count": 52,
   "metadata": {},
   "outputs": [],
   "source": [
    "df_mem1_2 = df_mem1[df_mem1['유입채널 대분류'] == '가격비교']"
   ]
  },
  {
   "cell_type": "code",
   "execution_count": 53,
   "metadata": {},
   "outputs": [
    {
     "data": {
      "text/plain": [
       "<AxesSubplot:xlabel='시간대 대분류', ylabel='count'>"
      ]
     },
     "execution_count": 53,
     "metadata": {},
     "output_type": "execute_result"
    },
    {
     "data": {
      "image/png": "[encoded data removed]",
      "text/plain": [
       "<Figure size 432x288 with 1 Axes>"
      ]
     },
     "metadata": {
      "needs_background": "light"
     },
     "output_type": "display_data"
    }
   ],
   "source": [
    "sns.countplot(x='시간대 대분류', data=df_mem1_2, order=['00 ~ 03', '03 ~ 06', '06 ~ 09', '09 ~ 12', '12 ~ 15', '15 ~ 18', '18 ~ 21', '21 ~ 00'])\n",
    "# 가격비교는 언제 활성화시키는게 좋을까?"
   ]
  },
  {
   "cell_type": "markdown",
   "metadata": {},
   "source": [
    "### -> 이 회원은 주로 21 ~ 00시, 00 ~ 03시 야간 시간대에 대체로 많이 주문하며, \n",
    "### CJ 채널에서 직접 주문은 21 ~ 03시, 가격 비교로서의 주문은 12 ~ 00시에 많음을 알 수 있습니다."
   ]
  },
  {
   "cell_type": "code",
   "execution_count": 54,
   "metadata": {},
   "outputs": [
    {
     "data": {
      "text/html": [
       "<div>\n",
       "<style scoped>\n",
       "    .dataframe tbody tr th:only-of-type {\n",
       "        vertical-align: middle;\n",
       "    }\n",
       "\n",
       "    .dataframe tbody tr th {\n",
       "        vertical-align: top;\n",
       "    }\n",
       "\n",
       "    .dataframe thead th {\n",
       "        text-align: right;\n",
       "    }\n",
       "</style>\n",
       "<table border=\"1\" class=\"dataframe\">\n",
       "  <thead>\n",
       "    <tr style=\"text-align: right;\">\n",
       "      <th></th>\n",
       "      <th>주문접수일시</th>\n",
       "      <th>주문번호</th>\n",
       "      <th>유입채널 대분류</th>\n",
       "      <th>시간대 대분류</th>\n",
       "      <th>주문월</th>\n",
       "      <th>아이디</th>\n",
       "      <th>판매자상품명</th>\n",
       "      <th>판매가</th>\n",
       "      <th>표준카테고리</th>\n",
       "      <th>주문날짜</th>\n",
       "    </tr>\n",
       "  </thead>\n",
       "  <tbody>\n",
       "    <tr>\n",
       "      <th>3</th>\n",
       "      <td>2022-01-10 11:56:34</td>\n",
       "      <td>2022011013300450</td>\n",
       "      <td>CJ 앱/사이트</td>\n",
       "      <td>09 ~ 12</td>\n",
       "      <td>1</td>\n",
       "      <td>love****</td>\n",
       "      <td>[CJ직배송]CJ비비고왕교자1.05KG X 2개</td>\n",
       "      <td>19920</td>\n",
       "      <td>냉장/냉동/간편식 &gt; 떡볶이/만두 &gt; 만두</td>\n",
       "      <td>2022-01-10</td>\n",
       "    </tr>\n",
       "    <tr>\n",
       "      <th>6</th>\n",
       "      <td>2022-01-21 10:27:34</td>\n",
       "      <td>2022012114917170</td>\n",
       "      <td>CJ 앱/사이트</td>\n",
       "      <td>09 ~ 12</td>\n",
       "      <td>1</td>\n",
       "      <td>love****</td>\n",
       "      <td>CJ 비비고 사골곰탕 500g x18봉</td>\n",
       "      <td>25000</td>\n",
       "      <td>냉장/냉동/간편식 &gt; 국/탕/찌개 &gt; 국/탕</td>\n",
       "      <td>2022-01-21</td>\n",
       "    </tr>\n",
       "    <tr>\n",
       "      <th>7</th>\n",
       "      <td>2022-01-26 16:48:00</td>\n",
       "      <td>2022012615681210</td>\n",
       "      <td>CJ 앱/사이트</td>\n",
       "      <td>15 ~ 18</td>\n",
       "      <td>1</td>\n",
       "      <td>love****</td>\n",
       "      <td>[CJ직배송] 최저가 혜택! 22년 설 선물 스팸 S2호</td>\n",
       "      <td>30550</td>\n",
       "      <td>가공식품 &gt; 통조림/캔 &gt; 캔/통조림선물세트</td>\n",
       "      <td>2022-01-26</td>\n",
       "    </tr>\n",
       "    <tr>\n",
       "      <th>9</th>\n",
       "      <td>2022-02-05 18:05:15</td>\n",
       "      <td>2022020516790290</td>\n",
       "      <td>CJ 앱/사이트</td>\n",
       "      <td>18 ~ 21</td>\n",
       "      <td>2</td>\n",
       "      <td>love****</td>\n",
       "      <td>[CJ직배송]CJ 명가김 파래김 4G*16EA  X 2개</td>\n",
       "      <td>9960</td>\n",
       "      <td>수산/건어물 &gt; 김/해조류 &gt; 조미김/도시락김</td>\n",
       "      <td>2022-02-05</td>\n",
       "    </tr>\n",
       "    <tr>\n",
       "      <th>11</th>\n",
       "      <td>2022-02-08 22:40:48</td>\n",
       "      <td>2022020817414840</td>\n",
       "      <td>CJ 앱/사이트</td>\n",
       "      <td>21 ~ 00</td>\n",
       "      <td>2</td>\n",
       "      <td>love****</td>\n",
       "      <td>CJ 다담 우렁강된장비빔양념 140g x10</td>\n",
       "      <td>13800</td>\n",
       "      <td>가공식품 &gt; 소스/드레싱 &gt; 굴소스/중화요리소스</td>\n",
       "      <td>2022-02-08</td>\n",
       "    </tr>\n",
       "    <tr>\n",
       "      <th>...</th>\n",
       "      <td>...</td>\n",
       "      <td>...</td>\n",
       "      <td>...</td>\n",
       "      <td>...</td>\n",
       "      <td>...</td>\n",
       "      <td>...</td>\n",
       "      <td>...</td>\n",
       "      <td>...</td>\n",
       "      <td>...</td>\n",
       "      <td>...</td>\n",
       "    </tr>\n",
       "    <tr>\n",
       "      <th>213</th>\n",
       "      <td>2022-07-05 13:38:10</td>\n",
       "      <td>2022070517934160</td>\n",
       "      <td>CJ 앱/사이트</td>\n",
       "      <td>12 ~ 15</td>\n",
       "      <td>7</td>\n",
       "      <td>love****</td>\n",
       "      <td>[CJ직배송]다담 우렁강된장 비빔양념 x10개 + 정통된장찌개양념 x3개</td>\n",
       "      <td>15000</td>\n",
       "      <td>가공식품 &gt; 소스/드레싱 &gt; 기타소스</td>\n",
       "      <td>2022-07-05</td>\n",
       "    </tr>\n",
       "    <tr>\n",
       "      <th>214</th>\n",
       "      <td>2022-07-06 03:12:42</td>\n",
       "      <td>2022070618027370</td>\n",
       "      <td>CJ 앱/사이트</td>\n",
       "      <td>03 ~ 06</td>\n",
       "      <td>7</td>\n",
       "      <td>love****</td>\n",
       "      <td>햇반 작은공기/100% 현미밥130g x 36개[선택 1]</td>\n",
       "      <td>45000</td>\n",
       "      <td>냉장/냉동/간편식 &gt; 즉석밥/죽/스프 &gt; 즉석밥</td>\n",
       "      <td>2022-07-06</td>\n",
       "    </tr>\n",
       "    <tr>\n",
       "      <th>215</th>\n",
       "      <td>2022-07-06 03:12:42</td>\n",
       "      <td>2022070618027370</td>\n",
       "      <td>CJ 앱/사이트</td>\n",
       "      <td>03 ~ 06</td>\n",
       "      <td>7</td>\n",
       "      <td>love****</td>\n",
       "      <td>[햇반 솥반 X 서울체크인]햇반 솥반 7종</td>\n",
       "      <td>27000</td>\n",
       "      <td>냉장/냉동/간편식 &gt; 즉석밥/죽/스프 &gt; 즉석밥</td>\n",
       "      <td>2022-07-06</td>\n",
       "    </tr>\n",
       "    <tr>\n",
       "      <th>216</th>\n",
       "      <td>2022-07-06 03:12:42</td>\n",
       "      <td>2022070618027370</td>\n",
       "      <td>CJ 앱/사이트</td>\n",
       "      <td>03 ~ 06</td>\n",
       "      <td>7</td>\n",
       "      <td>love****</td>\n",
       "      <td>햇반/쿡반불고기주먹밥500G+햇반/쿡반김치치즈주먹밥500G+햇반/쿡반버터장조림주먹밥...</td>\n",
       "      <td>31000</td>\n",
       "      <td>냉장/냉동/간편식 &gt; 즉석밥/죽/스프 &gt; 즉석밥</td>\n",
       "      <td>2022-07-06</td>\n",
       "    </tr>\n",
       "    <tr>\n",
       "      <th>219</th>\n",
       "      <td>2022-07-11 16:14:08</td>\n",
       "      <td>2022071118754740</td>\n",
       "      <td>CJ 앱/사이트</td>\n",
       "      <td>15 ~ 18</td>\n",
       "      <td>7</td>\n",
       "      <td>love****</td>\n",
       "      <td>다담 된장찌개양념 530G X 4개</td>\n",
       "      <td>23000</td>\n",
       "      <td>가공식품 &gt; 장류 &gt; 된장/쌈장/청국장</td>\n",
       "      <td>2022-07-11</td>\n",
       "    </tr>\n",
       "  </tbody>\n",
       "</table>\n",
       "<p>163 rows × 10 columns</p>\n",
       "</div>"
      ],
      "text/plain": [
       "                 주문접수일시              주문번호  유입채널 대분류  시간대 대분류  주문월       아이디  \\\n",
       "3   2022-01-10 11:56:34  2022011013300450  CJ 앱/사이트  09 ~ 12    1  love****   \n",
       "6   2022-01-21 10:27:34  2022012114917170  CJ 앱/사이트  09 ~ 12    1  love****   \n",
       "7   2022-01-26 16:48:00  2022012615681210  CJ 앱/사이트  15 ~ 18    1  love****   \n",
       "9   2022-02-05 18:05:15  2022020516790290  CJ 앱/사이트  18 ~ 21    2  love****   \n",
       "11  2022-02-08 22:40:48  2022020817414840  CJ 앱/사이트  21 ~ 00    2  love****   \n",
       "..                  ...               ...       ...      ...  ...       ...   \n",
       "213 2022-07-05 13:38:10  2022070517934160  CJ 앱/사이트  12 ~ 15    7  love****   \n",
       "214 2022-07-06 03:12:42  2022070618027370  CJ 앱/사이트  03 ~ 06    7  love****   \n",
       "215 2022-07-06 03:12:42  2022070618027370  CJ 앱/사이트  03 ~ 06    7  love****   \n",
       "216 2022-07-06 03:12:42  2022070618027370  CJ 앱/사이트  03 ~ 06    7  love****   \n",
       "219 2022-07-11 16:14:08  2022071118754740  CJ 앱/사이트  15 ~ 18    7  love****   \n",
       "\n",
       "                                                판매자상품명    판매가  \\\n",
       "3                           [CJ직배송]CJ비비고왕교자1.05KG X 2개  19920   \n",
       "6                                CJ 비비고 사골곰탕 500g x18봉  25000   \n",
       "7                      [CJ직배송] 최저가 혜택! 22년 설 선물 스팸 S2호  30550   \n",
       "9                      [CJ직배송]CJ 명가김 파래김 4G*16EA  X 2개   9960   \n",
       "11                            CJ 다담 우렁강된장비빔양념 140g x10  13800   \n",
       "..                                                 ...    ...   \n",
       "213           [CJ직배송]다담 우렁강된장 비빔양념 x10개 + 정통된장찌개양념 x3개  15000   \n",
       "214                   햇반 작은공기/100% 현미밥130g x 36개[선택 1]  45000   \n",
       "215                            [햇반 솥반 X 서울체크인]햇반 솥반 7종  27000   \n",
       "216  햇반/쿡반불고기주먹밥500G+햇반/쿡반김치치즈주먹밥500G+햇반/쿡반버터장조림주먹밥...  31000   \n",
       "219                                다담 된장찌개양념 530G X 4개  23000   \n",
       "\n",
       "                         표준카테고리       주문날짜  \n",
       "3       냉장/냉동/간편식 > 떡볶이/만두 > 만두 2022-01-10  \n",
       "6      냉장/냉동/간편식 > 국/탕/찌개 > 국/탕 2022-01-21  \n",
       "7      가공식품 > 통조림/캔 > 캔/통조림선물세트 2022-01-26  \n",
       "9     수산/건어물 > 김/해조류 > 조미김/도시락김 2022-02-05  \n",
       "11   가공식품 > 소스/드레싱 > 굴소스/중화요리소스 2022-02-08  \n",
       "..                          ...        ...  \n",
       "213        가공식품 > 소스/드레싱 > 기타소스 2022-07-05  \n",
       "214  냉장/냉동/간편식 > 즉석밥/죽/스프 > 즉석밥 2022-07-06  \n",
       "215  냉장/냉동/간편식 > 즉석밥/죽/스프 > 즉석밥 2022-07-06  \n",
       "216  냉장/냉동/간편식 > 즉석밥/죽/스프 > 즉석밥 2022-07-06  \n",
       "219       가공식품 > 장류 > 된장/쌈장/청국장 2022-07-11  \n",
       "\n",
       "[163 rows x 10 columns]"
      ]
     },
     "execution_count": 54,
     "metadata": {},
     "output_type": "execute_result"
    }
   ],
   "source": [
    "df_mem1_1"
   ]
  },
  {
   "cell_type": "code",
   "execution_count": 55,
   "metadata": {},
   "outputs": [
    {
     "data": {
      "text/plain": [
       "비비고 사골곰탕 500g x18봉                                            22\n",
       "[Lpoint 1,000P 지급]햇반 작은공기, 100% 현미밥 x 36개 특가 (1,000set 한정)    14\n",
       "[CJ직배송]포도씨유 900ML X 2개                                        11\n",
       "비비고 BEST 볶음밥 3종 특가[불고기 비빔밥 + 매콤부추고기볶음밥 + 간장버터장조림볶음밥]           9\n",
       "비비고 왕교자 1.05KGx4개+비비고 찐만두 168gx1개                              8\n",
       "                                                              ..\n",
       "[4개][햇반 솥반 X 서울체크인] 햇반 솥반 흑미밤찰밥 210G x4개                       1\n",
       "비비고 전복죽 280g X 5개                                              1\n",
       "[사은품]  해찬들 우리쌀로만든태양초골드고추장 1kg X2개                              1\n",
       "고메 바삭쫄깃한 탕수육 450gx3개                                           1\n",
       "햇반 작은공기/100% 현미밥130g x 36개[선택 1]                               1\n",
       "Name: 판매자상품명, Length: 73, dtype: int64"
      ]
     },
     "execution_count": 55,
     "metadata": {},
     "output_type": "execute_result"
    }
   ],
   "source": [
    "df_mem1_1['판매자상품명'].value_counts()"
   ]
  },
  {
   "cell_type": "code",
   "execution_count": 56,
   "metadata": {},
   "outputs": [
    {
     "data": {
      "text/plain": [
       "<AxesSubplot:xlabel='count', ylabel='판매자상품명'>"
      ]
     },
     "execution_count": 56,
     "metadata": {},
     "output_type": "execute_result"
    },
    {
     "data": {
      "image/png": "[encoded data removed]",
      "text/plain": [
       "<Figure size 864x360 with 1 Axes>"
      ]
     },
     "metadata": {
      "needs_background": "light"
     },
     "output_type": "display_data"
    }
   ],
   "source": [
    "# 상품별로 많이 사는 제품 시각화 -> 곰탕, 즉석밥, 만두, 식용유 등이 과반수를 차지하는 것을 알 수 있다.\n",
    "\n",
    "df_mem1_1_top10 = df_mem1_1['판매자상품명'].value_counts().head(10).index\n",
    "\n",
    "plt.figure(figsize=(12, 5))\n",
    "sns.countplot(y='판매자상품명', data=df_mem1_1, order=[df_mem1_1_top10[i] for i in range(0,10)])"
   ]
  },
  {
   "cell_type": "code",
   "execution_count": 57,
   "metadata": {},
   "outputs": [
    {
     "data": {
      "text/html": [
       "<div>\n",
       "<style scoped>\n",
       "    .dataframe tbody tr th:only-of-type {\n",
       "        vertical-align: middle;\n",
       "    }\n",
       "\n",
       "    .dataframe tbody tr th {\n",
       "        vertical-align: top;\n",
       "    }\n",
       "\n",
       "    .dataframe thead th {\n",
       "        text-align: right;\n",
       "    }\n",
       "</style>\n",
       "<table border=\"1\" class=\"dataframe\">\n",
       "  <thead>\n",
       "    <tr style=\"text-align: right;\">\n",
       "      <th></th>\n",
       "      <th></th>\n",
       "      <th>주문접수일시</th>\n",
       "      <th>주문번호</th>\n",
       "      <th>유입채널 대분류</th>\n",
       "      <th>주문월</th>\n",
       "      <th>아이디</th>\n",
       "      <th>판매자상품명</th>\n",
       "      <th>판매가</th>\n",
       "      <th>주문날짜</th>\n",
       "    </tr>\n",
       "    <tr>\n",
       "      <th>시간대 대분류</th>\n",
       "      <th>표준카테고리</th>\n",
       "      <th></th>\n",
       "      <th></th>\n",
       "      <th></th>\n",
       "      <th></th>\n",
       "      <th></th>\n",
       "      <th></th>\n",
       "      <th></th>\n",
       "      <th></th>\n",
       "    </tr>\n",
       "  </thead>\n",
       "  <tbody>\n",
       "    <tr>\n",
       "      <th rowspan=\"5\" valign=\"top\">00 ~ 03</th>\n",
       "      <th>가공식품 &gt; 면류 &gt; 기타면류</th>\n",
       "      <td>1</td>\n",
       "      <td>1</td>\n",
       "      <td>1</td>\n",
       "      <td>1</td>\n",
       "      <td>1</td>\n",
       "      <td>1</td>\n",
       "      <td>1</td>\n",
       "      <td>1</td>\n",
       "    </tr>\n",
       "    <tr>\n",
       "      <th>가공식품 &gt; 식용유/오일 &gt; 식용유/오일선물세트</th>\n",
       "      <td>2</td>\n",
       "      <td>2</td>\n",
       "      <td>2</td>\n",
       "      <td>2</td>\n",
       "      <td>2</td>\n",
       "      <td>2</td>\n",
       "      <td>2</td>\n",
       "      <td>2</td>\n",
       "    </tr>\n",
       "    <tr>\n",
       "      <th>가공식품 &gt; 식용유/오일 &gt; 카놀라유</th>\n",
       "      <td>1</td>\n",
       "      <td>1</td>\n",
       "      <td>1</td>\n",
       "      <td>1</td>\n",
       "      <td>1</td>\n",
       "      <td>1</td>\n",
       "      <td>1</td>\n",
       "      <td>1</td>\n",
       "    </tr>\n",
       "    <tr>\n",
       "      <th>과자/간식 &gt; 캔디/껌/캐러멜 &gt; 젤리/푸딩</th>\n",
       "      <td>1</td>\n",
       "      <td>1</td>\n",
       "      <td>1</td>\n",
       "      <td>1</td>\n",
       "      <td>1</td>\n",
       "      <td>1</td>\n",
       "      <td>1</td>\n",
       "      <td>1</td>\n",
       "    </tr>\n",
       "    <tr>\n",
       "      <th>김치/반찬 &gt; 김치 &gt; 포기김치</th>\n",
       "      <td>1</td>\n",
       "      <td>1</td>\n",
       "      <td>1</td>\n",
       "      <td>1</td>\n",
       "      <td>1</td>\n",
       "      <td>1</td>\n",
       "      <td>1</td>\n",
       "      <td>1</td>\n",
       "    </tr>\n",
       "    <tr>\n",
       "      <th>...</th>\n",
       "      <th>...</th>\n",
       "      <td>...</td>\n",
       "      <td>...</td>\n",
       "      <td>...</td>\n",
       "      <td>...</td>\n",
       "      <td>...</td>\n",
       "      <td>...</td>\n",
       "      <td>...</td>\n",
       "      <td>...</td>\n",
       "    </tr>\n",
       "    <tr>\n",
       "      <th rowspan=\"5\" valign=\"top\">21 ~ 00</th>\n",
       "      <th>냉장/냉동/간편식 &gt; 떡볶이/만두 &gt; 만두</th>\n",
       "      <td>9</td>\n",
       "      <td>9</td>\n",
       "      <td>9</td>\n",
       "      <td>9</td>\n",
       "      <td>9</td>\n",
       "      <td>9</td>\n",
       "      <td>9</td>\n",
       "      <td>9</td>\n",
       "    </tr>\n",
       "    <tr>\n",
       "      <th>냉장/냉동/간편식 &gt; 즉석밥/죽/스프 &gt; 볶음밥</th>\n",
       "      <td>1</td>\n",
       "      <td>1</td>\n",
       "      <td>1</td>\n",
       "      <td>1</td>\n",
       "      <td>1</td>\n",
       "      <td>1</td>\n",
       "      <td>1</td>\n",
       "      <td>1</td>\n",
       "    </tr>\n",
       "    <tr>\n",
       "      <th>냉장/냉동/간편식 &gt; 즉석밥/죽/스프 &gt; 즉석밥</th>\n",
       "      <td>5</td>\n",
       "      <td>5</td>\n",
       "      <td>5</td>\n",
       "      <td>5</td>\n",
       "      <td>5</td>\n",
       "      <td>5</td>\n",
       "      <td>5</td>\n",
       "      <td>5</td>\n",
       "    </tr>\n",
       "    <tr>\n",
       "      <th>정육/계란 &gt; 양념육 &gt; 기타양념육</th>\n",
       "      <td>1</td>\n",
       "      <td>1</td>\n",
       "      <td>1</td>\n",
       "      <td>1</td>\n",
       "      <td>1</td>\n",
       "      <td>1</td>\n",
       "      <td>1</td>\n",
       "      <td>1</td>\n",
       "    </tr>\n",
       "    <tr>\n",
       "      <th>커피/생수/음료 &gt; 주스/과즙음료 &gt; 과일음료</th>\n",
       "      <td>1</td>\n",
       "      <td>1</td>\n",
       "      <td>1</td>\n",
       "      <td>1</td>\n",
       "      <td>1</td>\n",
       "      <td>1</td>\n",
       "      <td>1</td>\n",
       "      <td>1</td>\n",
       "    </tr>\n",
       "  </tbody>\n",
       "</table>\n",
       "<p>72 rows × 8 columns</p>\n",
       "</div>"
      ],
      "text/plain": [
       "                                    주문접수일시  주문번호  유입채널 대분류  주문월  아이디  판매자상품명  \\\n",
       "시간대 대분류 표준카테고리                                                                 \n",
       "00 ~ 03 가공식품 > 면류 > 기타면류                 1     1         1    1    1       1   \n",
       "        가공식품 > 식용유/오일 > 식용유/오일선물세트       2     2         2    2    2       2   \n",
       "        가공식품 > 식용유/오일 > 카놀라유             1     1         1    1    1       1   \n",
       "        과자/간식 > 캔디/껌/캐러멜 > 젤리/푸딩         1     1         1    1    1       1   \n",
       "        김치/반찬 > 김치 > 포기김치                1     1         1    1    1       1   \n",
       "...                                    ...   ...       ...  ...  ...     ...   \n",
       "21 ~ 00 냉장/냉동/간편식 > 떡볶이/만두 > 만두          9     9         9    9    9       9   \n",
       "        냉장/냉동/간편식 > 즉석밥/죽/스프 > 볶음밥       1     1         1    1    1       1   \n",
       "        냉장/냉동/간편식 > 즉석밥/죽/스프 > 즉석밥       5     5         5    5    5       5   \n",
       "        정육/계란 > 양념육 > 기타양념육              1     1         1    1    1       1   \n",
       "        커피/생수/음료 > 주스/과즙음료 > 과일음료        1     1         1    1    1       1   \n",
       "\n",
       "                                    판매가  주문날짜  \n",
       "시간대 대분류 표준카테고리                                 \n",
       "00 ~ 03 가공식품 > 면류 > 기타면류              1     1  \n",
       "        가공식품 > 식용유/오일 > 식용유/오일선물세트    2     2  \n",
       "        가공식품 > 식용유/오일 > 카놀라유          1     1  \n",
       "        과자/간식 > 캔디/껌/캐러멜 > 젤리/푸딩      1     1  \n",
       "        김치/반찬 > 김치 > 포기김치             1     1  \n",
       "...                                 ...   ...  \n",
       "21 ~ 00 냉장/냉동/간편식 > 떡볶이/만두 > 만두       9     9  \n",
       "        냉장/냉동/간편식 > 즉석밥/죽/스프 > 볶음밥    1     1  \n",
       "        냉장/냉동/간편식 > 즉석밥/죽/스프 > 즉석밥    5     5  \n",
       "        정육/계란 > 양념육 > 기타양념육           1     1  \n",
       "        커피/생수/음료 > 주스/과즙음료 > 과일음료     1     1  \n",
       "\n",
       "[72 rows x 8 columns]"
      ]
     },
     "execution_count": 57,
     "metadata": {},
     "output_type": "execute_result"
    }
   ],
   "source": [
    "df_mem1_1.groupby(['시간대 대분류','표준카테고리']).count()"
   ]
  },
  {
   "cell_type": "code",
   "execution_count": 58,
   "metadata": {},
   "outputs": [
    {
     "data": {
      "text/plain": [
       "<AxesSubplot:xlabel='count', ylabel='표준카테고리'>"
      ]
     },
     "execution_count": 58,
     "metadata": {},
     "output_type": "execute_result"
    },
    {
     "data": {
      "image/png": "[encoded data removed]",
      "text/plain": [
       "<Figure size 864x720 with 1 Axes>"
      ]
     },
     "metadata": {
      "needs_background": "light"
     },
     "output_type": "display_data"
    }
   ],
   "source": [
    "# 카테고리별로 많이 사는 제품 시각화\n",
    "# 같은 상품인데도 제품별로 이름이 조금씩 다르기 때문에, 한 번 더 확인해줍니다.\n",
    "# ex. 앞에 '[2+1]'이나 '[CJ직배송]'', 내지는 '*1개, *3개' 처럼 같은 상품인데도 상품명이 다르기 때문에 카테고리로 묶어주겠습니다.\n",
    "\n",
    "df_mem1_1_top_category = df_mem1_1['표준카테고리'].value_counts().head(5).index\n",
    "plt.figure(figsize=(12, 10))\n",
    "sns.countplot(y='표준카테고리', data=df_mem1_1, order=[df_mem1_1_top_category[i] for i in range(0,5)], hue='시간대 대분류')"
   ]
  },
  {
   "cell_type": "code",
   "execution_count": 59,
   "metadata": {},
   "outputs": [
    {
     "data": {
      "text/plain": [
       "<AxesSubplot:xlabel='count', ylabel='판매자상품명'>"
      ]
     },
     "execution_count": 59,
     "metadata": {},
     "output_type": "execute_result"
    },
    {
     "data": {
      "image/png": "[encoded data removed]",
      "text/plain": [
       "<Figure size 864x720 with 1 Axes>"
      ]
     },
     "metadata": {
      "needs_background": "light"
     },
     "output_type": "display_data"
    }
   ],
   "source": [
    "df_mem1_2_top10 = df_mem1_2['판매자상품명'].value_counts().head(10).index\n",
    "\n",
    "plt.figure(figsize=(12, 10))\n",
    "sns.countplot(y='판매자상품명', data=df_mem1_2, order=[df_mem1_2_top10[i] for i in range(0,10)], hue='시간대 대분류')"
   ]
  },
  {
   "cell_type": "markdown",
   "metadata": {},
   "source": [
    "* 이 회원은 주로 즉석밥(볶음밥), 국/탕(곰탕), 만두(교자), 식용유(포도씨유)를 구매하는 것을 알 수 있으며,\n",
    "* 주문량이 많은 21 ~ 00 시에 국/탕을 살때 만두를 함께 구매하는 것으로도 볼 수 있을 것 같습니다.\n",
    "* 그가 주로 주문하는 제품(혹은 같은 카테고리 내 판매량 많은 제품)이 할인 기간이거나,\n",
    "* 국/탕과 만두를 묶음으로 판매하는 할인 이벤트를 할 때\n",
    "* CJ 앱/사이트에서는 21 ~ 03시에,\n",
    "* 가격비교 사이트에서는 12 ~ 00시 사이에 광고를 활성화하여 재구매를 유도하면 좋을 것 같습니다."
   ]
  },
  {
   "cell_type": "markdown",
   "metadata": {},
   "source": [
    "# 1. 아이디와 카테고리로 그룹화하여 개인별 구매 패턴을 확인해보겠습니다."
   ]
  },
  {
   "cell_type": "code",
   "execution_count": 60,
   "metadata": {},
   "outputs": [],
   "source": [
    "df_id_test1 = df_id.groupby(['아이디', '표준카테고리']).count()"
   ]
  },
  {
   "cell_type": "code",
   "execution_count": 61,
   "metadata": {},
   "outputs": [],
   "source": [
    "# 그래도 2번 이상 특정 회원이 특정 상품을 구매한 데이터들에 대하여 패턴을 찾는 것이 중요할 것이라고 생각하였습니다.\n",
    "# 변수별로 na 값이 아니고서야, count수가 모두 같기에, 대표하는 변수 '주문접수 일시'로 검색하였습니다.\n",
    "\n",
    "df_id_cond1 = df_id_test1[df_id_test1['주문접수일시'] >= 2]"
   ]
  },
  {
   "cell_type": "code",
   "execution_count": 62,
   "metadata": {},
   "outputs": [
    {
     "data": {
      "text/html": [
       "<div>\n",
       "<style scoped>\n",
       "    .dataframe tbody tr th:only-of-type {\n",
       "        vertical-align: middle;\n",
       "    }\n",
       "\n",
       "    .dataframe tbody tr th {\n",
       "        vertical-align: top;\n",
       "    }\n",
       "\n",
       "    .dataframe thead th {\n",
       "        text-align: right;\n",
       "    }\n",
       "</style>\n",
       "<table border=\"1\" class=\"dataframe\">\n",
       "  <thead>\n",
       "    <tr style=\"text-align: right;\">\n",
       "      <th></th>\n",
       "      <th></th>\n",
       "      <th>주문접수일시</th>\n",
       "      <th>주문번호</th>\n",
       "      <th>유입채널 대분류</th>\n",
       "      <th>시간대 대분류</th>\n",
       "      <th>주문월</th>\n",
       "      <th>판매자상품명</th>\n",
       "      <th>판매가</th>\n",
       "      <th>주문날짜</th>\n",
       "    </tr>\n",
       "    <tr>\n",
       "      <th>아이디</th>\n",
       "      <th>표준카테고리</th>\n",
       "      <th></th>\n",
       "      <th></th>\n",
       "      <th></th>\n",
       "      <th></th>\n",
       "      <th></th>\n",
       "      <th></th>\n",
       "      <th></th>\n",
       "      <th></th>\n",
       "    </tr>\n",
       "  </thead>\n",
       "  <tbody>\n",
       "    <tr>\n",
       "      <th>-_-i****</th>\n",
       "      <th>냉장/냉동/간편식 &gt; 떡볶이/만두 &gt; 만두</th>\n",
       "      <td>14</td>\n",
       "      <td>14</td>\n",
       "      <td>14</td>\n",
       "      <td>14</td>\n",
       "      <td>14</td>\n",
       "      <td>14</td>\n",
       "      <td>14</td>\n",
       "      <td>14</td>\n",
       "    </tr>\n",
       "    <tr>\n",
       "      <th>-_-ing</th>\n",
       "      <th>냉장/냉동/간편식 &gt; 떡볶이/만두 &gt; 만두</th>\n",
       "      <td>7</td>\n",
       "      <td>7</td>\n",
       "      <td>7</td>\n",
       "      <td>7</td>\n",
       "      <td>7</td>\n",
       "      <td>7</td>\n",
       "      <td>7</td>\n",
       "      <td>7</td>\n",
       "    </tr>\n",
       "    <tr>\n",
       "      <th>0107****</th>\n",
       "      <th>냉장/냉동/간편식 &gt; 즉석밥/죽/스프 &gt; 즉석밥</th>\n",
       "      <td>15</td>\n",
       "      <td>15</td>\n",
       "      <td>15</td>\n",
       "      <td>15</td>\n",
       "      <td>15</td>\n",
       "      <td>15</td>\n",
       "      <td>15</td>\n",
       "      <td>15</td>\n",
       "    </tr>\n",
       "    <tr>\n",
       "      <th>0109eun</th>\n",
       "      <th>냉장/냉동/간편식 &gt; 돈가스/고로케/너겟 &gt; 너겟</th>\n",
       "      <td>2</td>\n",
       "      <td>2</td>\n",
       "      <td>2</td>\n",
       "      <td>2</td>\n",
       "      <td>2</td>\n",
       "      <td>2</td>\n",
       "      <td>2</td>\n",
       "      <td>2</td>\n",
       "    </tr>\n",
       "    <tr>\n",
       "      <th>0111125</th>\n",
       "      <th>냉장/냉동/간편식 &gt; 즉석밥/죽/스프 &gt; 즉석밥</th>\n",
       "      <td>3</td>\n",
       "      <td>3</td>\n",
       "      <td>3</td>\n",
       "      <td>3</td>\n",
       "      <td>3</td>\n",
       "      <td>3</td>\n",
       "      <td>3</td>\n",
       "      <td>3</td>\n",
       "    </tr>\n",
       "    <tr>\n",
       "      <th>...</th>\n",
       "      <th>...</th>\n",
       "      <td>...</td>\n",
       "      <td>...</td>\n",
       "      <td>...</td>\n",
       "      <td>...</td>\n",
       "      <td>...</td>\n",
       "      <td>...</td>\n",
       "      <td>...</td>\n",
       "      <td>...</td>\n",
       "    </tr>\n",
       "    <tr>\n",
       "      <th>zzqz****</th>\n",
       "      <th>냉장/냉동/간편식 &gt; 떡볶이/만두 &gt; 만두</th>\n",
       "      <td>2</td>\n",
       "      <td>2</td>\n",
       "      <td>2</td>\n",
       "      <td>2</td>\n",
       "      <td>2</td>\n",
       "      <td>2</td>\n",
       "      <td>2</td>\n",
       "      <td>2</td>\n",
       "    </tr>\n",
       "    <tr>\n",
       "      <th>zzx1832aa</th>\n",
       "      <th>냉장/냉동/간편식 &gt; 국/탕/찌개 &gt; 국/탕</th>\n",
       "      <td>3</td>\n",
       "      <td>3</td>\n",
       "      <td>3</td>\n",
       "      <td>3</td>\n",
       "      <td>3</td>\n",
       "      <td>3</td>\n",
       "      <td>3</td>\n",
       "      <td>3</td>\n",
       "    </tr>\n",
       "    <tr>\n",
       "      <th rowspan=\"3\" valign=\"top\">zzzz****</th>\n",
       "      <th>가공식품 &gt; 식용유/오일 &gt; 식용유/오일선물세트</th>\n",
       "      <td>2</td>\n",
       "      <td>2</td>\n",
       "      <td>2</td>\n",
       "      <td>2</td>\n",
       "      <td>2</td>\n",
       "      <td>2</td>\n",
       "      <td>2</td>\n",
       "      <td>2</td>\n",
       "    </tr>\n",
       "    <tr>\n",
       "      <th>냉장/냉동/간편식 &gt; 떡볶이/만두 &gt; 만두</th>\n",
       "      <td>2</td>\n",
       "      <td>2</td>\n",
       "      <td>2</td>\n",
       "      <td>2</td>\n",
       "      <td>2</td>\n",
       "      <td>2</td>\n",
       "      <td>2</td>\n",
       "      <td>2</td>\n",
       "    </tr>\n",
       "    <tr>\n",
       "      <th>냉장/냉동/간편식 &gt; 즉석밥/죽/스프 &gt; 즉석밥</th>\n",
       "      <td>4</td>\n",
       "      <td>4</td>\n",
       "      <td>4</td>\n",
       "      <td>4</td>\n",
       "      <td>4</td>\n",
       "      <td>4</td>\n",
       "      <td>4</td>\n",
       "      <td>4</td>\n",
       "    </tr>\n",
       "  </tbody>\n",
       "</table>\n",
       "<p>6513 rows × 8 columns</p>\n",
       "</div>"
      ],
      "text/plain": [
       "                                       주문접수일시  주문번호  유입채널 대분류  시간대 대분류  주문월  \\\n",
       "아이디       표준카테고리                                                              \n",
       "-_-i****  냉장/냉동/간편식 > 떡볶이/만두 > 만두          14    14        14       14   14   \n",
       "-_-ing    냉장/냉동/간편식 > 떡볶이/만두 > 만두           7     7         7        7    7   \n",
       "0107****  냉장/냉동/간편식 > 즉석밥/죽/스프 > 즉석밥       15    15        15       15   15   \n",
       "0109eun   냉장/냉동/간편식 > 돈가스/고로케/너겟 > 너겟       2     2         2        2    2   \n",
       "0111125   냉장/냉동/간편식 > 즉석밥/죽/스프 > 즉석밥        3     3         3        3    3   \n",
       "...                                       ...   ...       ...      ...  ...   \n",
       "zzqz****  냉장/냉동/간편식 > 떡볶이/만두 > 만두           2     2         2        2    2   \n",
       "zzx1832aa 냉장/냉동/간편식 > 국/탕/찌개 > 국/탕          3     3         3        3    3   \n",
       "zzzz****  가공식품 > 식용유/오일 > 식용유/오일선물세트        2     2         2        2    2   \n",
       "          냉장/냉동/간편식 > 떡볶이/만두 > 만두           2     2         2        2    2   \n",
       "          냉장/냉동/간편식 > 즉석밥/죽/스프 > 즉석밥        4     4         4        4    4   \n",
       "\n",
       "                                       판매자상품명  판매가  주문날짜  \n",
       "아이디       표준카테고리                                          \n",
       "-_-i****  냉장/냉동/간편식 > 떡볶이/만두 > 만두          14   14    14  \n",
       "-_-ing    냉장/냉동/간편식 > 떡볶이/만두 > 만두           7    7     7  \n",
       "0107****  냉장/냉동/간편식 > 즉석밥/죽/스프 > 즉석밥       15   15    15  \n",
       "0109eun   냉장/냉동/간편식 > 돈가스/고로케/너겟 > 너겟       2    2     2  \n",
       "0111125   냉장/냉동/간편식 > 즉석밥/죽/스프 > 즉석밥        3    3     3  \n",
       "...                                       ...  ...   ...  \n",
       "zzqz****  냉장/냉동/간편식 > 떡볶이/만두 > 만두           2    2     2  \n",
       "zzx1832aa 냉장/냉동/간편식 > 국/탕/찌개 > 국/탕          3    3     3  \n",
       "zzzz****  가공식품 > 식용유/오일 > 식용유/오일선물세트        2    2     2  \n",
       "          냉장/냉동/간편식 > 떡볶이/만두 > 만두           2    2     2  \n",
       "          냉장/냉동/간편식 > 즉석밥/죽/스프 > 즉석밥        4    4     4  \n",
       "\n",
       "[6513 rows x 8 columns]"
      ]
     },
     "execution_count": 62,
     "metadata": {},
     "output_type": "execute_result"
    }
   ],
   "source": [
    "df_id_cond1"
   ]
  },
  {
   "cell_type": "code",
   "execution_count": 63,
   "metadata": {},
   "outputs": [
    {
     "data": {
      "text/html": [
       "<div>\n",
       "<style scoped>\n",
       "    .dataframe tbody tr th:only-of-type {\n",
       "        vertical-align: middle;\n",
       "    }\n",
       "\n",
       "    .dataframe tbody tr th {\n",
       "        vertical-align: top;\n",
       "    }\n",
       "\n",
       "    .dataframe thead th {\n",
       "        text-align: right;\n",
       "    }\n",
       "</style>\n",
       "<table border=\"1\" class=\"dataframe\">\n",
       "  <thead>\n",
       "    <tr style=\"text-align: right;\">\n",
       "      <th></th>\n",
       "      <th></th>\n",
       "      <th>주문접수일시</th>\n",
       "      <th>주문번호</th>\n",
       "      <th>유입채널 대분류</th>\n",
       "      <th>시간대 대분류</th>\n",
       "      <th>주문월</th>\n",
       "      <th>판매자상품명</th>\n",
       "      <th>판매가</th>\n",
       "      <th>주문날짜</th>\n",
       "    </tr>\n",
       "    <tr>\n",
       "      <th>아이디</th>\n",
       "      <th>표준카테고리</th>\n",
       "      <th></th>\n",
       "      <th></th>\n",
       "      <th></th>\n",
       "      <th></th>\n",
       "      <th></th>\n",
       "      <th></th>\n",
       "      <th></th>\n",
       "      <th></th>\n",
       "    </tr>\n",
       "  </thead>\n",
       "  <tbody>\n",
       "    <tr>\n",
       "      <th>csh3718</th>\n",
       "      <th>냉장/냉동/간편식 &gt; 즉석밥/죽/스프 &gt; 즉석밥</th>\n",
       "      <td>165</td>\n",
       "      <td>165</td>\n",
       "      <td>165</td>\n",
       "      <td>165</td>\n",
       "      <td>165</td>\n",
       "      <td>165</td>\n",
       "      <td>165</td>\n",
       "      <td>165</td>\n",
       "    </tr>\n",
       "    <tr>\n",
       "      <th>jackal1104</th>\n",
       "      <th>냉장/냉동/간편식 &gt; 즉석밥/죽/스프 &gt; 즉석밥</th>\n",
       "      <td>122</td>\n",
       "      <td>122</td>\n",
       "      <td>122</td>\n",
       "      <td>122</td>\n",
       "      <td>122</td>\n",
       "      <td>122</td>\n",
       "      <td>122</td>\n",
       "      <td>122</td>\n",
       "    </tr>\n",
       "    <tr>\n",
       "      <th>urimiracle</th>\n",
       "      <th>냉장/냉동/간편식 &gt; 즉석밥/죽/스프 &gt; 즉석밥</th>\n",
       "      <td>91</td>\n",
       "      <td>91</td>\n",
       "      <td>91</td>\n",
       "      <td>91</td>\n",
       "      <td>91</td>\n",
       "      <td>91</td>\n",
       "      <td>91</td>\n",
       "      <td>91</td>\n",
       "    </tr>\n",
       "    <tr>\n",
       "      <th>dpalwl12</th>\n",
       "      <th>냉장/냉동/간편식 &gt; 즉석밥/죽/스프 &gt; 즉석밥</th>\n",
       "      <td>88</td>\n",
       "      <td>88</td>\n",
       "      <td>88</td>\n",
       "      <td>88</td>\n",
       "      <td>88</td>\n",
       "      <td>88</td>\n",
       "      <td>88</td>\n",
       "      <td>88</td>\n",
       "    </tr>\n",
       "    <tr>\n",
       "      <th>yoon****</th>\n",
       "      <th>냉장/냉동/간편식 &gt; 즉석밥/죽/스프 &gt; 즉석밥</th>\n",
       "      <td>79</td>\n",
       "      <td>79</td>\n",
       "      <td>79</td>\n",
       "      <td>79</td>\n",
       "      <td>79</td>\n",
       "      <td>79</td>\n",
       "      <td>79</td>\n",
       "      <td>79</td>\n",
       "    </tr>\n",
       "    <tr>\n",
       "      <th>...</th>\n",
       "      <th>...</th>\n",
       "      <td>...</td>\n",
       "      <td>...</td>\n",
       "      <td>...</td>\n",
       "      <td>...</td>\n",
       "      <td>...</td>\n",
       "      <td>...</td>\n",
       "      <td>...</td>\n",
       "      <td>...</td>\n",
       "    </tr>\n",
       "    <tr>\n",
       "      <th>kysw****</th>\n",
       "      <th>김치/반찬 &gt; 김치 &gt; 포기김치</th>\n",
       "      <td>2</td>\n",
       "      <td>2</td>\n",
       "      <td>2</td>\n",
       "      <td>2</td>\n",
       "      <td>2</td>\n",
       "      <td>2</td>\n",
       "      <td>2</td>\n",
       "      <td>2</td>\n",
       "    </tr>\n",
       "    <tr>\n",
       "      <th rowspan=\"2\" valign=\"top\">kyun****</th>\n",
       "      <th>가공식품 &gt; 장류 &gt; 된장/쌈장/청국장</th>\n",
       "      <td>2</td>\n",
       "      <td>2</td>\n",
       "      <td>2</td>\n",
       "      <td>2</td>\n",
       "      <td>2</td>\n",
       "      <td>2</td>\n",
       "      <td>2</td>\n",
       "      <td>2</td>\n",
       "    </tr>\n",
       "    <tr>\n",
       "      <th>냉장/냉동/간편식 &gt; 햄/소시지/베이컨 &gt; 햄/소시지</th>\n",
       "      <td>2</td>\n",
       "      <td>2</td>\n",
       "      <td>2</td>\n",
       "      <td>2</td>\n",
       "      <td>2</td>\n",
       "      <td>2</td>\n",
       "      <td>2</td>\n",
       "      <td>2</td>\n",
       "    </tr>\n",
       "    <tr>\n",
       "      <th>chanheumchol</th>\n",
       "      <th>냉장/냉동/간편식 &gt; 국/탕/찌개 &gt; 국/탕</th>\n",
       "      <td>2</td>\n",
       "      <td>2</td>\n",
       "      <td>2</td>\n",
       "      <td>2</td>\n",
       "      <td>2</td>\n",
       "      <td>2</td>\n",
       "      <td>2</td>\n",
       "      <td>2</td>\n",
       "    </tr>\n",
       "    <tr>\n",
       "      <th>ko11****</th>\n",
       "      <th>가공식품 &gt; 식용유/오일 &gt; 식용유/오일선물세트</th>\n",
       "      <td>2</td>\n",
       "      <td>2</td>\n",
       "      <td>2</td>\n",
       "      <td>2</td>\n",
       "      <td>2</td>\n",
       "      <td>2</td>\n",
       "      <td>2</td>\n",
       "      <td>2</td>\n",
       "    </tr>\n",
       "  </tbody>\n",
       "</table>\n",
       "<p>6513 rows × 8 columns</p>\n",
       "</div>"
      ],
      "text/plain": [
       "                                            주문접수일시  주문번호  유입채널 대분류  시간대 대분류  \\\n",
       "아이디          표준카테고리                                                           \n",
       "csh3718      냉장/냉동/간편식 > 즉석밥/죽/스프 > 즉석밥        165   165       165      165   \n",
       "jackal1104   냉장/냉동/간편식 > 즉석밥/죽/스프 > 즉석밥        122   122       122      122   \n",
       "urimiracle   냉장/냉동/간편식 > 즉석밥/죽/스프 > 즉석밥         91    91        91       91   \n",
       "dpalwl12     냉장/냉동/간편식 > 즉석밥/죽/스프 > 즉석밥         88    88        88       88   \n",
       "yoon****     냉장/냉동/간편식 > 즉석밥/죽/스프 > 즉석밥         79    79        79       79   \n",
       "...                                            ...   ...       ...      ...   \n",
       "kysw****     김치/반찬 > 김치 > 포기김치                   2     2         2        2   \n",
       "kyun****     가공식품 > 장류 > 된장/쌈장/청국장               2     2         2        2   \n",
       "             냉장/냉동/간편식 > 햄/소시지/베이컨 > 햄/소시지       2     2         2        2   \n",
       "chanheumchol 냉장/냉동/간편식 > 국/탕/찌개 > 국/탕            2     2         2        2   \n",
       "ko11****     가공식품 > 식용유/오일 > 식용유/오일선물세트          2     2         2        2   \n",
       "\n",
       "                                            주문월  판매자상품명  판매가  주문날짜  \n",
       "아이디          표준카테고리                                                 \n",
       "csh3718      냉장/냉동/간편식 > 즉석밥/죽/스프 > 즉석밥     165     165  165   165  \n",
       "jackal1104   냉장/냉동/간편식 > 즉석밥/죽/스프 > 즉석밥     122     122  122   122  \n",
       "urimiracle   냉장/냉동/간편식 > 즉석밥/죽/스프 > 즉석밥      91      91   91    91  \n",
       "dpalwl12     냉장/냉동/간편식 > 즉석밥/죽/스프 > 즉석밥      88      88   88    88  \n",
       "yoon****     냉장/냉동/간편식 > 즉석밥/죽/스프 > 즉석밥      79      79   79    79  \n",
       "...                                         ...     ...  ...   ...  \n",
       "kysw****     김치/반찬 > 김치 > 포기김치                2       2    2     2  \n",
       "kyun****     가공식품 > 장류 > 된장/쌈장/청국장            2       2    2     2  \n",
       "             냉장/냉동/간편식 > 햄/소시지/베이컨 > 햄/소시지    2       2    2     2  \n",
       "chanheumchol 냉장/냉동/간편식 > 국/탕/찌개 > 국/탕         2       2    2     2  \n",
       "ko11****     가공식품 > 식용유/오일 > 식용유/오일선물세트       2       2    2     2  \n",
       "\n",
       "[6513 rows x 8 columns]"
      ]
     },
     "execution_count": 63,
     "metadata": {},
     "output_type": "execute_result"
    }
   ],
   "source": [
    "df_id_cond1.sort_values(by='주문접수일시', ascending=False)"
   ]
  },
  {
   "cell_type": "code",
   "execution_count": 69,
   "metadata": {},
   "outputs": [
    {
     "data": {
      "text/plain": [
       "MultiIndex([('urimiracle', '냉장/냉동/간편식 > 즉석밥/죽/스프 > 즉석밥')],\n",
       "           names=['아이디', '표준카테고리'])"
      ]
     },
     "execution_count": 69,
     "metadata": {},
     "output_type": "execute_result"
    }
   ],
   "source": [
    "# (아이디, 상품명)을 카운트하여, 예시로 urimiracle님의 데이터를 조사해보겠습니다.\n",
    "\n",
    "df_id_cond1[df_id_cond1['주문접수일시'] == 91].index"
   ]
  },
  {
   "cell_type": "code",
   "execution_count": 70,
   "metadata": {},
   "outputs": [],
   "source": [
    "df_uri = df_id[(df_id['아이디'] == 'urimiracle') & (df_id['표준카테고리'] == '냉장/냉동/간편식 > 즉석밥/죽/스프 > 즉석밥')]"
   ]
  },
  {
   "cell_type": "code",
   "execution_count": 71,
   "metadata": {},
   "outputs": [
    {
     "data": {
      "text/plain": [
       "[CJ직배송] New 햇반 210g*3입X 8개(총24개)    34\n",
       "[CJ직배송]햇반 발아현미밥 210gX36개[1박스]       28\n",
       "[CJ직배송]햇반 매일찰잡곡밥 210G*3 X6개         10\n",
       "[CJ직배송]햇반 100%현미로 지은밥 130G x36개      9\n",
       "햇반 100% 현미로 지은밥 130G*3 x12           4\n",
       "[CJ직배송]햇반 발아현미밥210g*3EA X6개          3\n",
       "CJ 햇반 큰공기 300G x18                   2\n",
       "[CJ직배송]햇반 매일콩잡곡밥 210G*3EA X6개        1\n",
       "Name: 판매자상품명, dtype: int64"
      ]
     },
     "execution_count": 71,
     "metadata": {},
     "output_type": "execute_result"
    }
   ],
   "source": [
    "df_uri1 = df_id[(df_id['아이디'] == 'urimiracle')]\n",
    "\n",
    "df_uri1['판매자상품명'].value_counts()"
   ]
  },
  {
   "cell_type": "markdown",
   "metadata": {},
   "source": [
    "### urimiracle님의 경우, 가격 비교를 통해서 주로 06~18시에 즉석밥 종류를 주문하는구나!!, -> 패턴 파악"
   ]
  },
  {
   "cell_type": "code",
   "execution_count": 72,
   "metadata": {},
   "outputs": [
    {
     "data": {
      "text/plain": [
       "가격비교        83\n",
       "CJ 앱/사이트     6\n",
       "검색           2\n",
       "Name: 유입채널 대분류, dtype: int64"
      ]
     },
     "execution_count": 72,
     "metadata": {},
     "output_type": "execute_result"
    }
   ],
   "source": [
    "df_uri['유입채널 대분류'].value_counts()"
   ]
  },
  {
   "cell_type": "code",
   "execution_count": 73,
   "metadata": {},
   "outputs": [
    {
     "data": {
      "text/plain": [
       "06 ~ 09    36\n",
       "09 ~ 12    27\n",
       "12 ~ 15    16\n",
       "15 ~ 18    12\n",
       "Name: 시간대 대분류, dtype: int64"
      ]
     },
     "execution_count": 73,
     "metadata": {},
     "output_type": "execute_result"
    }
   ],
   "source": [
    "df_uri['시간대 대분류'].value_counts()"
   ]
  },
  {
   "cell_type": "code",
   "execution_count": 74,
   "metadata": {},
   "outputs": [
    {
     "data": {
      "text/html": [
       "<div>\n",
       "<style scoped>\n",
       "    .dataframe tbody tr th:only-of-type {\n",
       "        vertical-align: middle;\n",
       "    }\n",
       "\n",
       "    .dataframe tbody tr th {\n",
       "        vertical-align: top;\n",
       "    }\n",
       "\n",
       "    .dataframe thead th {\n",
       "        text-align: right;\n",
       "    }\n",
       "</style>\n",
       "<table border=\"1\" class=\"dataframe\">\n",
       "  <thead>\n",
       "    <tr style=\"text-align: right;\">\n",
       "      <th></th>\n",
       "      <th></th>\n",
       "      <th>주문접수일시</th>\n",
       "      <th>주문번호</th>\n",
       "      <th>유입채널 대분류</th>\n",
       "      <th>시간대 대분류</th>\n",
       "      <th>주문월</th>\n",
       "      <th>아이디</th>\n",
       "      <th>표준카테고리</th>\n",
       "      <th>주문날짜</th>\n",
       "    </tr>\n",
       "    <tr>\n",
       "      <th>판매자상품명</th>\n",
       "      <th>판매가</th>\n",
       "      <th></th>\n",
       "      <th></th>\n",
       "      <th></th>\n",
       "      <th></th>\n",
       "      <th></th>\n",
       "      <th></th>\n",
       "      <th></th>\n",
       "      <th></th>\n",
       "    </tr>\n",
       "  </thead>\n",
       "  <tbody>\n",
       "    <tr>\n",
       "      <th>CJ 햇반 큰공기 300G x18</th>\n",
       "      <th>38800</th>\n",
       "      <td>2</td>\n",
       "      <td>2</td>\n",
       "      <td>2</td>\n",
       "      <td>2</td>\n",
       "      <td>2</td>\n",
       "      <td>2</td>\n",
       "      <td>2</td>\n",
       "      <td>2</td>\n",
       "    </tr>\n",
       "    <tr>\n",
       "      <th>[CJ직배송] New 햇반 210g*3입X 8개(총24개)</th>\n",
       "      <th>33000</th>\n",
       "      <td>34</td>\n",
       "      <td>34</td>\n",
       "      <td>34</td>\n",
       "      <td>34</td>\n",
       "      <td>34</td>\n",
       "      <td>34</td>\n",
       "      <td>34</td>\n",
       "      <td>34</td>\n",
       "    </tr>\n",
       "    <tr>\n",
       "      <th rowspan=\"3\" valign=\"top\">[CJ직배송]햇반 100%현미로 지은밥 130G x36개</th>\n",
       "      <th>43200</th>\n",
       "      <td>5</td>\n",
       "      <td>5</td>\n",
       "      <td>5</td>\n",
       "      <td>5</td>\n",
       "      <td>5</td>\n",
       "      <td>5</td>\n",
       "      <td>5</td>\n",
       "      <td>5</td>\n",
       "    </tr>\n",
       "    <tr>\n",
       "      <th>45000</th>\n",
       "      <td>1</td>\n",
       "      <td>1</td>\n",
       "      <td>1</td>\n",
       "      <td>1</td>\n",
       "      <td>1</td>\n",
       "      <td>1</td>\n",
       "      <td>1</td>\n",
       "      <td>1</td>\n",
       "    </tr>\n",
       "    <tr>\n",
       "      <th>60000</th>\n",
       "      <td>3</td>\n",
       "      <td>3</td>\n",
       "      <td>3</td>\n",
       "      <td>3</td>\n",
       "      <td>3</td>\n",
       "      <td>3</td>\n",
       "      <td>3</td>\n",
       "      <td>3</td>\n",
       "    </tr>\n",
       "    <tr>\n",
       "      <th>[CJ직배송]햇반 매일찰잡곡밥 210G*3 X6개</th>\n",
       "      <th>26920</th>\n",
       "      <td>10</td>\n",
       "      <td>10</td>\n",
       "      <td>10</td>\n",
       "      <td>10</td>\n",
       "      <td>10</td>\n",
       "      <td>10</td>\n",
       "      <td>10</td>\n",
       "      <td>10</td>\n",
       "    </tr>\n",
       "    <tr>\n",
       "      <th>[CJ직배송]햇반 매일콩잡곡밥 210G*3EA X6개</th>\n",
       "      <th>26920</th>\n",
       "      <td>1</td>\n",
       "      <td>1</td>\n",
       "      <td>1</td>\n",
       "      <td>1</td>\n",
       "      <td>1</td>\n",
       "      <td>1</td>\n",
       "      <td>1</td>\n",
       "      <td>1</td>\n",
       "    </tr>\n",
       "    <tr>\n",
       "      <th>[CJ직배송]햇반 발아현미밥 210gX36개[1박스]</th>\n",
       "      <th>47800</th>\n",
       "      <td>28</td>\n",
       "      <td>28</td>\n",
       "      <td>28</td>\n",
       "      <td>28</td>\n",
       "      <td>28</td>\n",
       "      <td>28</td>\n",
       "      <td>28</td>\n",
       "      <td>28</td>\n",
       "    </tr>\n",
       "    <tr>\n",
       "      <th>[CJ직배송]햇반 발아현미밥210g*3EA X6개</th>\n",
       "      <th>28770</th>\n",
       "      <td>3</td>\n",
       "      <td>3</td>\n",
       "      <td>3</td>\n",
       "      <td>3</td>\n",
       "      <td>3</td>\n",
       "      <td>3</td>\n",
       "      <td>3</td>\n",
       "      <td>3</td>\n",
       "    </tr>\n",
       "    <tr>\n",
       "      <th>햇반 100% 현미로 지은밥 130G*3 x12</th>\n",
       "      <th>53000</th>\n",
       "      <td>4</td>\n",
       "      <td>4</td>\n",
       "      <td>4</td>\n",
       "      <td>4</td>\n",
       "      <td>4</td>\n",
       "      <td>4</td>\n",
       "      <td>4</td>\n",
       "      <td>4</td>\n",
       "    </tr>\n",
       "  </tbody>\n",
       "</table>\n",
       "</div>"
      ],
      "text/plain": [
       "                                        주문접수일시  주문번호  유입채널 대분류  시간대 대분류  주문월  \\\n",
       "판매자상품명                           판매가                                           \n",
       "CJ 햇반 큰공기 300G x18               38800       2     2         2        2    2   \n",
       "[CJ직배송] New 햇반 210g*3입X 8개(총24개) 33000      34    34        34       34   34   \n",
       "[CJ직배송]햇반 100%현미로 지은밥 130G x36개  43200       5     5         5        5    5   \n",
       "                                 45000       1     1         1        1    1   \n",
       "                                 60000       3     3         3        3    3   \n",
       "[CJ직배송]햇반 매일찰잡곡밥 210G*3 X6개      26920      10    10        10       10   10   \n",
       "[CJ직배송]햇반 매일콩잡곡밥 210G*3EA X6개    26920       1     1         1        1    1   \n",
       "[CJ직배송]햇반 발아현미밥 210gX36개[1박스]    47800      28    28        28       28   28   \n",
       "[CJ직배송]햇반 발아현미밥210g*3EA X6개      28770       3     3         3        3    3   \n",
       "햇반 100% 현미로 지은밥 130G*3 x12       53000       4     4         4        4    4   \n",
       "\n",
       "                                        아이디  표준카테고리  주문날짜  \n",
       "판매자상품명                           판매가                       \n",
       "CJ 햇반 큰공기 300G x18               38800    2       2     2  \n",
       "[CJ직배송] New 햇반 210g*3입X 8개(총24개) 33000   34      34    34  \n",
       "[CJ직배송]햇반 100%현미로 지은밥 130G x36개  43200    5       5     5  \n",
       "                                 45000    1       1     1  \n",
       "                                 60000    3       3     3  \n",
       "[CJ직배송]햇반 매일찰잡곡밥 210G*3 X6개      26920   10      10    10  \n",
       "[CJ직배송]햇반 매일콩잡곡밥 210G*3EA X6개    26920    1       1     1  \n",
       "[CJ직배송]햇반 발아현미밥 210gX36개[1박스]    47800   28      28    28  \n",
       "[CJ직배송]햇반 발아현미밥210g*3EA X6개      28770    3       3     3  \n",
       "햇반 100% 현미로 지은밥 130G*3 x12       53000    4       4     4  "
      ]
     },
     "execution_count": 74,
     "metadata": {},
     "output_type": "execute_result"
    }
   ],
   "source": [
    "# 판매가는 대략 어느 정도에서 형성하거나, 할인하는 것이 좋을까?\n",
    "\n",
    "df_uri.groupby(['판매자상품명', '판매가']).count()"
   ]
  },
  {
   "cell_type": "markdown",
   "metadata": {
    "id": "YJKelu4fnn5g"
   },
   "source": [
    "가격비교로 구매한 상품 중 많이 산 상품을 파악해서 가격대를 모니터링한다."
   ]
  },
  {
   "cell_type": "markdown",
   "metadata": {
    "id": "VzAsB2kZnuVK"
   },
   "source": []
  },
  {
   "cell_type": "code",
   "execution_count": null,
   "metadata": {},
   "outputs": [],
   "source": []
  }
 ],
 "metadata": {
  "colab": {
   "authorship_tag": "ABX9TyMe/Dj25YyR51lWnA+yoEA9",
   "include_colab_link": true,
   "provenance": []
  },
  "kernelspec": {
   "display_name": "Python 3",
   "language": "python",
   "name": "python3"
  },
  "language_info": {
   "codemirror_mode": {
    "name": "ipython",
    "version": 3
   },
   "file_extension": ".py",
   "mimetype": "text/x-python",
   "name": "python",
   "nbconvert_exporter": "python",
   "pygments_lexer": "ipython3",
   "version": "3.8.8"
  }
 },
 "nbformat": 4,
 "nbformat_minor": 1
}
