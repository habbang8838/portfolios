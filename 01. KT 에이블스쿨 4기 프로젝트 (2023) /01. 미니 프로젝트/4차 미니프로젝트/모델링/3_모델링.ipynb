{
  "cells": [
    {
      "cell_type": "markdown",
      "id": "22f7625f",
      "metadata": {
        "id": "22f7625f"
      },
      "source": [
        "# 안녕하세요^^\n",
        "# AIVLE 미니 프로젝트에 오신 여러분을 환영합니다.\n",
        "* 본 과정에서는 실제 사례와 데이터를 기반으로 문제를 해결하는 전체 과정을 자기 주도형 실습으로 진행해볼 예정입니다.\n",
        "* 앞선 교육과정을 정리하는 마음과 지금까지 배운 내용을 바탕으로 문제 해결을 해볼게요!\n",
        "* 미니 프로젝트를 통한 문제 해결 과정 'A에서 Z까지', 지금부터 시작합니다!"
      ]
    },
    {
      "cell_type": "markdown",
      "id": "04b1edbb",
      "metadata": {
        "id": "04b1edbb"
      },
      "source": [
        "---"
      ]
    },
    {
      "cell_type": "markdown",
      "id": "cubic-stress",
      "metadata": {
        "id": "cubic-stress"
      },
      "source": [
        "# (실습준비) 데이터 불러오기부터"
      ]
    },
    {
      "cell_type": "code",
      "execution_count": null,
      "id": "2bddc5c5",
      "metadata": {
        "colab": {
          "base_uri": "https://localhost:8080/"
        },
        "id": "2bddc5c5",
        "outputId": "f5c84102-06fb-4d9b-fb1d-5c88e60a22bf"
      },
      "outputs": [
        {
          "output_type": "stream",
          "name": "stdout",
          "text": [
            "Collecting shap\n",
            "  Downloading shap-0.43.0-cp310-cp310-manylinux_2_12_x86_64.manylinux2010_x86_64.manylinux_2_17_x86_64.manylinux2014_x86_64.whl (532 kB)\n",
            "\u001b[?25l     \u001b[90m━━━━━━━━━━━━━━━━━━━━━━━━━━━━━━━━━━━━━━━━\u001b[0m \u001b[32m0.0/532.9 kB\u001b[0m \u001b[31m?\u001b[0m eta \u001b[36m-:--:--\u001b[0m\r\u001b[2K     \u001b[91m━━━━━━━━━━\u001b[0m\u001b[90m╺\u001b[0m\u001b[90m━━━━━━━━━━━━━━━━━━━━━━━━━━━━\u001b[0m \u001b[32m143.4/532.9 kB\u001b[0m \u001b[31m4.1 MB/s\u001b[0m eta \u001b[36m0:00:01\u001b[0m\r\u001b[2K     \u001b[90m━━━━━━━━━━━━━━━━━━━━━━━━━━━━━━━━━━━━━━━\u001b[0m \u001b[32m532.9/532.9 kB\u001b[0m \u001b[31m8.4 MB/s\u001b[0m eta \u001b[36m0:00:00\u001b[0m\n",
            "\u001b[?25hRequirement already satisfied: numpy in /usr/local/lib/python3.10/dist-packages (from shap) (1.23.5)\n",
            "Requirement already satisfied: scipy in /usr/local/lib/python3.10/dist-packages (from shap) (1.11.3)\n",
            "Requirement already satisfied: scikit-learn in /usr/local/lib/python3.10/dist-packages (from shap) (1.2.2)\n",
            "Requirement already satisfied: pandas in /usr/local/lib/python3.10/dist-packages (from shap) (1.5.3)\n",
            "Requirement already satisfied: tqdm>=4.27.0 in /usr/local/lib/python3.10/dist-packages (from shap) (4.66.1)\n",
            "Requirement already satisfied: packaging>20.9 in /usr/local/lib/python3.10/dist-packages (from shap) (23.2)\n",
            "Collecting slicer==0.0.7 (from shap)\n",
            "  Downloading slicer-0.0.7-py3-none-any.whl (14 kB)\n",
            "Requirement already satisfied: numba in /usr/local/lib/python3.10/dist-packages (from shap) (0.56.4)\n",
            "Requirement already satisfied: cloudpickle in /usr/local/lib/python3.10/dist-packages (from shap) (2.2.1)\n",
            "Requirement already satisfied: llvmlite<0.40,>=0.39.0dev0 in /usr/local/lib/python3.10/dist-packages (from numba->shap) (0.39.1)\n",
            "Requirement already satisfied: setuptools in /usr/local/lib/python3.10/dist-packages (from numba->shap) (67.7.2)\n",
            "Requirement already satisfied: python-dateutil>=2.8.1 in /usr/local/lib/python3.10/dist-packages (from pandas->shap) (2.8.2)\n",
            "Requirement already satisfied: pytz>=2020.1 in /usr/local/lib/python3.10/dist-packages (from pandas->shap) (2023.3.post1)\n",
            "Requirement already satisfied: joblib>=1.1.1 in /usr/local/lib/python3.10/dist-packages (from scikit-learn->shap) (1.3.2)\n",
            "Requirement already satisfied: threadpoolctl>=2.0.0 in /usr/local/lib/python3.10/dist-packages (from scikit-learn->shap) (3.2.0)\n",
            "Requirement already satisfied: six>=1.5 in /usr/local/lib/python3.10/dist-packages (from python-dateutil>=2.8.1->pandas->shap) (1.16.0)\n",
            "Installing collected packages: slicer, shap\n",
            "Successfully installed shap-0.43.0 slicer-0.0.7\n"
          ]
        }
      ],
      "source": [
        "!pip install shap"
      ]
    },
    {
      "cell_type": "code",
      "source": [
        "import shap"
      ],
      "metadata": {
        "id": "_O2X6zgeq9qy"
      },
      "id": "_O2X6zgeq9qy",
      "execution_count": null,
      "outputs": []
    },
    {
      "cell_type": "code",
      "source": [
        "from google.colab import drive\n",
        "drive.mount('/content/drive')"
      ],
      "metadata": {
        "colab": {
          "base_uri": "https://localhost:8080/"
        },
        "id": "B45yQ9g8nkUj",
        "outputId": "abf2525a-6afc-49af-c11d-082e4bb61daa"
      },
      "id": "B45yQ9g8nkUj",
      "execution_count": null,
      "outputs": [
        {
          "output_type": "stream",
          "name": "stdout",
          "text": [
            "Mounted at /content/drive\n"
          ]
        }
      ]
    },
    {
      "cell_type": "code",
      "execution_count": null,
      "id": "efficient-minutes",
      "metadata": {
        "id": "efficient-minutes"
      },
      "outputs": [],
      "source": [
        "# 학습/평가 데이터 로딩\n",
        "import pandas as pd\n",
        "import seaborn as sns"
      ]
    },
    {
      "cell_type": "code",
      "execution_count": null,
      "id": "9bb87624",
      "metadata": {
        "id": "9bb87624"
      },
      "outputs": [],
      "source": [
        "df_train_x = pd.read_csv('/content/drive/MyDrive/2023.10.12_미니프로젝트4차_데이터/train_x.csv')\n",
        "df_train_y = pd.read_csv('/content/drive/MyDrive/2023.10.12_미니프로젝트4차_데이터/train_y.csv')\n",
        "df_test_x = pd.read_csv('/content/drive/MyDrive/2023.10.12_미니프로젝트4차_데이터/test_x.csv')\n",
        "df_test_y = pd.read_csv('/content/drive/MyDrive/2023.10.12_미니프로젝트4차_데이터/test_y.csv')"
      ]
    },
    {
      "cell_type": "code",
      "source": [
        "# 글자 깨짐 방지\n",
        "import matplotlib.font_manager as fm\n",
        "import os\n",
        "import matplotlib.pyplot as plt\n",
        "!apt-get -qq install fonts-nanum\n",
        "\n",
        "\n",
        "fe = fm.FontEntry(\n",
        "    fname=r'/usr/share/fonts/truetype/nanum/NanumGothic.ttf', # ttf 파일이 저장되어 있는 경로\n",
        "    name='NanumGothic')                        # 이 폰트의 원하는 이름 설정\n",
        "fm.fontManager.ttflist.insert(0, fe)              # Matplotlib에 폰트 추가\n",
        "plt.rcParams.update({'font.size': 18, 'font.family': 'NanumGothic'}) # 폰트 설정"
      ],
      "metadata": {
        "id": "HNebpyUHqucf"
      },
      "id": "HNebpyUHqucf",
      "execution_count": null,
      "outputs": []
    },
    {
      "cell_type": "markdown",
      "id": "2084ca1a",
      "metadata": {
        "id": "2084ca1a"
      },
      "source": [
        "---"
      ]
    },
    {
      "cell_type": "markdown",
      "id": "native-expansion",
      "metadata": {
        "id": "native-expansion"
      },
      "source": [
        "# 1. Machine Learning\n",
        "## 이제 모델링을 해봅시다!\n",
        "+ KeyPoint : 머신러닝 라이브러리를 토대로 모델링을 할 수 있다."
      ]
    },
    {
      "cell_type": "code",
      "source": [
        "import numpy as np\n",
        "train_y = np.array(df_train_y).reshape(-1)\n",
        "test_y = np.array(df_test_y).reshape(-1)"
      ],
      "metadata": {
        "id": "XaaBNr9It-oq"
      },
      "id": "XaaBNr9It-oq",
      "execution_count": null,
      "outputs": []
    },
    {
      "cell_type": "code",
      "source": [
        "train_x = df_train_x.values\n",
        "test_x = df_test_x.values"
      ],
      "metadata": {
        "id": "4oT9MC_2uyJ7"
      },
      "id": "4oT9MC_2uyJ7",
      "execution_count": null,
      "outputs": []
    },
    {
      "cell_type": "markdown",
      "id": "persistent-brighton",
      "metadata": {
        "id": "persistent-brighton"
      },
      "source": [
        "### 가. LinearRegression 부터 시작해봅시다."
      ]
    },
    {
      "cell_type": "code",
      "source": [
        "model_performance = {}"
      ],
      "metadata": {
        "id": "llteDhpl-mL2"
      },
      "id": "llteDhpl-mL2",
      "execution_count": null,
      "outputs": []
    },
    {
      "cell_type": "markdown",
      "id": "joined-client",
      "metadata": {
        "id": "joined-client"
      },
      "source": [
        "#### [실습문제1] 머신러닝_1\n",
        "* Train과 Test로 나눈 데이터를 기준으로 LinearRegression 모델링을 진행하고 평가를 해주세요.\n",
        "* 성능지표 : RMSE, R-squared Score"
      ]
    },
    {
      "cell_type": "code",
      "execution_count": null,
      "id": "willing-disclaimer",
      "metadata": {
        "scrolled": false,
        "id": "willing-disclaimer"
      },
      "outputs": [],
      "source": [
        "# 아래에 실습코드를 작성하세요.\n",
        "from sklearn.linear_model import LinearRegression\n",
        "from sklearn.metrics import r2_score\n",
        "from sklearn.metrics import mean_squared_error\n",
        "import numpy as np"
      ]
    },
    {
      "cell_type": "code",
      "execution_count": null,
      "id": "0a21d60f",
      "metadata": {
        "colab": {
          "base_uri": "https://localhost:8080/",
          "height": 75
        },
        "id": "0a21d60f",
        "outputId": "e2360533-6dd1-49d8-8486-65daf325050a"
      },
      "outputs": [
        {
          "output_type": "execute_result",
          "data": {
            "text/plain": [
              "LinearRegression()"
            ],
            "text/html": [
              "<style>#sk-container-id-1 {color: black;background-color: white;}#sk-container-id-1 pre{padding: 0;}#sk-container-id-1 div.sk-toggleable {background-color: white;}#sk-container-id-1 label.sk-toggleable__label {cursor: pointer;display: block;width: 100%;margin-bottom: 0;padding: 0.3em;box-sizing: border-box;text-align: center;}#sk-container-id-1 label.sk-toggleable__label-arrow:before {content: \"▸\";float: left;margin-right: 0.25em;color: #696969;}#sk-container-id-1 label.sk-toggleable__label-arrow:hover:before {color: black;}#sk-container-id-1 div.sk-estimator:hover label.sk-toggleable__label-arrow:before {color: black;}#sk-container-id-1 div.sk-toggleable__content {max-height: 0;max-width: 0;overflow: hidden;text-align: left;background-color: #f0f8ff;}#sk-container-id-1 div.sk-toggleable__content pre {margin: 0.2em;color: black;border-radius: 0.25em;background-color: #f0f8ff;}#sk-container-id-1 input.sk-toggleable__control:checked~div.sk-toggleable__content {max-height: 200px;max-width: 100%;overflow: auto;}#sk-container-id-1 input.sk-toggleable__control:checked~label.sk-toggleable__label-arrow:before {content: \"▾\";}#sk-container-id-1 div.sk-estimator input.sk-toggleable__control:checked~label.sk-toggleable__label {background-color: #d4ebff;}#sk-container-id-1 div.sk-label input.sk-toggleable__control:checked~label.sk-toggleable__label {background-color: #d4ebff;}#sk-container-id-1 input.sk-hidden--visually {border: 0;clip: rect(1px 1px 1px 1px);clip: rect(1px, 1px, 1px, 1px);height: 1px;margin: -1px;overflow: hidden;padding: 0;position: absolute;width: 1px;}#sk-container-id-1 div.sk-estimator {font-family: monospace;background-color: #f0f8ff;border: 1px dotted black;border-radius: 0.25em;box-sizing: border-box;margin-bottom: 0.5em;}#sk-container-id-1 div.sk-estimator:hover {background-color: #d4ebff;}#sk-container-id-1 div.sk-parallel-item::after {content: \"\";width: 100%;border-bottom: 1px solid gray;flex-grow: 1;}#sk-container-id-1 div.sk-label:hover label.sk-toggleable__label {background-color: #d4ebff;}#sk-container-id-1 div.sk-serial::before {content: \"\";position: absolute;border-left: 1px solid gray;box-sizing: border-box;top: 0;bottom: 0;left: 50%;z-index: 0;}#sk-container-id-1 div.sk-serial {display: flex;flex-direction: column;align-items: center;background-color: white;padding-right: 0.2em;padding-left: 0.2em;position: relative;}#sk-container-id-1 div.sk-item {position: relative;z-index: 1;}#sk-container-id-1 div.sk-parallel {display: flex;align-items: stretch;justify-content: center;background-color: white;position: relative;}#sk-container-id-1 div.sk-item::before, #sk-container-id-1 div.sk-parallel-item::before {content: \"\";position: absolute;border-left: 1px solid gray;box-sizing: border-box;top: 0;bottom: 0;left: 50%;z-index: -1;}#sk-container-id-1 div.sk-parallel-item {display: flex;flex-direction: column;z-index: 1;position: relative;background-color: white;}#sk-container-id-1 div.sk-parallel-item:first-child::after {align-self: flex-end;width: 50%;}#sk-container-id-1 div.sk-parallel-item:last-child::after {align-self: flex-start;width: 50%;}#sk-container-id-1 div.sk-parallel-item:only-child::after {width: 0;}#sk-container-id-1 div.sk-dashed-wrapped {border: 1px dashed gray;margin: 0 0.4em 0.5em 0.4em;box-sizing: border-box;padding-bottom: 0.4em;background-color: white;}#sk-container-id-1 div.sk-label label {font-family: monospace;font-weight: bold;display: inline-block;line-height: 1.2em;}#sk-container-id-1 div.sk-label-container {text-align: center;}#sk-container-id-1 div.sk-container {/* jupyter's `normalize.less` sets `[hidden] { display: none; }` but bootstrap.min.css set `[hidden] { display: none !important; }` so we also need the `!important` here to be able to override the default hidden behavior on the sphinx rendered scikit-learn.org. See: https://github.com/scikit-learn/scikit-learn/issues/21755 */display: inline-block !important;position: relative;}#sk-container-id-1 div.sk-text-repr-fallback {display: none;}</style><div id=\"sk-container-id-1\" class=\"sk-top-container\"><div class=\"sk-text-repr-fallback\"><pre>LinearRegression()</pre><b>In a Jupyter environment, please rerun this cell to show the HTML representation or trust the notebook. <br />On GitHub, the HTML representation is unable to render, please try loading this page with nbviewer.org.</b></div><div class=\"sk-container\" hidden><div class=\"sk-item\"><div class=\"sk-estimator sk-toggleable\"><input class=\"sk-toggleable__control sk-hidden--visually\" id=\"sk-estimator-id-1\" type=\"checkbox\" checked><label for=\"sk-estimator-id-1\" class=\"sk-toggleable__label sk-toggleable__label-arrow\">LinearRegression</label><div class=\"sk-toggleable__content\"><pre>LinearRegression()</pre></div></div></div></div></div>"
            ]
          },
          "metadata": {},
          "execution_count": 10
        }
      ],
      "source": [
        "# 아래에 실습코드를 작성하세요.\n",
        "model_lr = LinearRegression()\n",
        "model_lr.fit(train_x, train_y)"
      ]
    },
    {
      "cell_type": "code",
      "execution_count": null,
      "id": "8c76b46a",
      "metadata": {
        "id": "8c76b46a"
      },
      "outputs": [],
      "source": [
        "# 아래에 실습코드를 작성하세요.\n",
        "y_pred_lr = model_lr.predict(test_x)"
      ]
    },
    {
      "cell_type": "code",
      "execution_count": null,
      "id": "7f625a61",
      "metadata": {
        "colab": {
          "base_uri": "https://localhost:8080/"
        },
        "id": "7f625a61",
        "outputId": "2b894a86-d8d5-4c50-ca58-2eb10e1d0550"
      },
      "outputs": [
        {
          "output_type": "stream",
          "name": "stdout",
          "text": [
            "R2 Score : 0.7699441681364265\n",
            "RMSE : 1712.1352817384623\n"
          ]
        }
      ],
      "source": [
        "print('R2 Score :', r2_score(test_y, y_pred_lr))\n",
        "print('RMSE :', np.sqrt(mean_squared_error(test_y, y_pred_lr)))\n",
        "model_performance['LinearRegression'] = [r2_score(test_y, y_pred_lr), np.sqrt(mean_squared_error(test_y, y_pred_lr))]"
      ]
    },
    {
      "cell_type": "code",
      "source": [
        "model_performance"
      ],
      "metadata": {
        "colab": {
          "base_uri": "https://localhost:8080/"
        },
        "id": "qbisIosN-8tK",
        "outputId": "0a11c581-deb6-42f1-bc02-9d63e3978709"
      },
      "id": "qbisIosN-8tK",
      "execution_count": null,
      "outputs": [
        {
          "output_type": "execute_result",
          "data": {
            "text/plain": [
              "{'LinearRegression': [0.7699441681364265, 1712.1352817384623]}"
            ]
          },
          "metadata": {},
          "execution_count": 13
        }
      ]
    },
    {
      "cell_type": "markdown",
      "id": "lesser-universe",
      "metadata": {
        "id": "lesser-universe"
      },
      "source": [
        "### 나. 다음은 앙상블 기법을 토대로 랜덤포레스트와 그라디언부스팅을 활용해봅시다."
      ]
    },
    {
      "cell_type": "markdown",
      "id": "crazy-escape",
      "metadata": {
        "id": "crazy-escape"
      },
      "source": [
        "#### 1) 렌덤포레스트\n",
        "##### 배깅의 일종으로 의사결정나무(Decision Tree) 여러 개를 모아서 숲을 랜덤으로 구성하고 이를 종합해서 최종 모델을 산출하는 기법이라고 할 수 있다."
      ]
    },
    {
      "cell_type": "markdown",
      "id": "dense-eleven",
      "metadata": {
        "id": "dense-eleven"
      },
      "source": [
        "#### [실습문제2] 머신러닝_2\n",
        "* Train과 Test로 나눈 데이터를 기준으로 렌덤포레스트로 모델을 학습을 진행하고 평가를 해주세요.\n",
        "* 성능지표 : RMSE, R-squared Score"
      ]
    },
    {
      "cell_type": "code",
      "execution_count": null,
      "id": "e626f186",
      "metadata": {
        "id": "e626f186"
      },
      "outputs": [],
      "source": [
        "from sklearn.ensemble import RandomForestRegressor as RFR"
      ]
    },
    {
      "cell_type": "code",
      "execution_count": null,
      "id": "guilty-score",
      "metadata": {
        "id": "guilty-score"
      },
      "outputs": [],
      "source": [
        "# 아래에 실습코드를 작성하세요.\n",
        "model_rfr = RFR()\n",
        "model_rfr.fit(train_x,train_y)\n",
        "y_pred_rfr = model_rfr.predict(test_x)"
      ]
    },
    {
      "cell_type": "code",
      "execution_count": null,
      "id": "10b33a11",
      "metadata": {
        "colab": {
          "base_uri": "https://localhost:8080/"
        },
        "id": "10b33a11",
        "outputId": "9125f365-2cef-4499-cee2-dff3ff03e088"
      },
      "outputs": [
        {
          "output_type": "stream",
          "name": "stdout",
          "text": [
            "R2 Score : 0.7572489679071608\n",
            "RMSE : 1758.7414365359643\n"
          ]
        }
      ],
      "source": [
        "# 아래에 실습코드를 작성하세요.\n",
        "print('R2 Score :', r2_score(test_y, y_pred_rfr))\n",
        "print('RMSE :', np.sqrt(mean_squared_error(test_y, y_pred_rfr)))\n",
        "model_performance['RandomForestRegressor'] = [r2_score(test_y, y_pred_rfr), np.sqrt(mean_squared_error(test_y, y_pred_rfr))]"
      ]
    },
    {
      "cell_type": "markdown",
      "id": "788be2bb",
      "metadata": {
        "id": "788be2bb"
      },
      "source": [
        "#### [실습문제3] 머신러닝_3\n",
        "* 렌덤포레스트로 학습한 모델의 feature_importances 또는 Shap value를 구해보세요.\n",
        "* 확인할 수 있는 내용으로 우리 모델에서의 인사이트를 정리해보세요."
      ]
    },
    {
      "cell_type": "code",
      "execution_count": null,
      "id": "65da580e",
      "metadata": {
        "id": "65da580e"
      },
      "outputs": [],
      "source": [
        "def plot_feature_importance(importance, names, topn = 'all'):\n",
        "    feature_importance = np.array(importance)\n",
        "    feature_names = np.array(names)\n",
        "\n",
        "    data={'feature_names':feature_names,'feature_importance':feature_importance}\n",
        "    fi_temp = pd.DataFrame(data)\n",
        "\n",
        "    fi_temp.sort_values(by=['feature_importance'], ascending=False,inplace=True)\n",
        "    fi_temp.reset_index(drop=True, inplace = True)\n",
        "\n",
        "    if topn == 'all' :\n",
        "        fi_df = fi_temp.copy()\n",
        "    else :\n",
        "        fi_df = fi_temp.iloc[:topn]\n",
        "\n",
        "    plt.figure(figsize=(10,3))\n",
        "    sns.barplot(x='feature_importance', y='feature_names', data = fi_df)\n",
        "\n",
        "    plt.xlabel('importance')\n",
        "    plt.ylabel('feature names')\n",
        "    plt.grid()\n",
        "\n",
        "    return fi_df"
      ]
    },
    {
      "cell_type": "code",
      "execution_count": null,
      "id": "e19f84b0",
      "metadata": {
        "colab": {
          "base_uri": "https://localhost:8080/",
          "height": 331
        },
        "id": "e19f84b0",
        "outputId": "bea9482f-b1d7-4560-aed1-1ac304faa3f6"
      },
      "outputs": [
        {
          "output_type": "display_data",
          "data": {
            "text/plain": [
              "<Figure size 1000x300 with 1 Axes>"
            ],
            "image/png": "[encoded data removed]"
          },
          "metadata": {}
        }
      ],
      "source": [
        "# Feature의 중요도 확인\n",
        "result = plot_feature_importance(model_rfr.feature_importances_, list(df_train_x))"
      ]
    },
    {
      "cell_type": "code",
      "source": [
        "import random\n",
        "nums = random.choices(range(1, len(train_x)+1), k=500)"
      ],
      "metadata": {
        "id": "4_hcWa1UxgzF"
      },
      "id": "4_hcWa1UxgzF",
      "execution_count": null,
      "outputs": []
    },
    {
      "cell_type": "code",
      "source": [
        "# SHAP 값으로 모델의 예측 설명하기\n",
        "explainer1 = shap.TreeExplainer(model_rfr)\n",
        "shap_values1 = explainer1.shap_values(train_x[nums])"
      ],
      "metadata": {
        "id": "aPZ4TZ_7w6Gb"
      },
      "id": "aPZ4TZ_7w6Gb",
      "execution_count": null,
      "outputs": []
    },
    {
      "cell_type": "code",
      "source": [
        "pd.DataFrame(shap_values1, columns = list(df_train_x))"
      ],
      "metadata": {
        "id": "J8ih5YKmyxGf"
      },
      "id": "J8ih5YKmyxGf",
      "execution_count": null,
      "outputs": []
    },
    {
      "cell_type": "code",
      "source": [
        "explainer1.expected_value"
      ],
      "metadata": {
        "id": "7FHtURwTzC7T"
      },
      "id": "7FHtURwTzC7T",
      "execution_count": null,
      "outputs": []
    },
    {
      "cell_type": "code",
      "source": [
        "df_train_x.iloc[[3, 5], :]"
      ],
      "metadata": {
        "id": "wBrCBl3Tz-SH"
      },
      "id": "wBrCBl3Tz-SH",
      "execution_count": null,
      "outputs": []
    },
    {
      "cell_type": "code",
      "source": [
        "shap.initjs() # javascript 시각화 라이브러리 --> colab에서는 모든 셀에 포함시켜야 함.\n",
        "\n",
        "# force_plot(전체평균, shapley_values, input)\n",
        "shap.force_plot(explainer1.expected_value, shap_values1[0, :], df_train_x.iloc[[nums[0]],:])"
      ],
      "metadata": {
        "id": "vk4Ct5u6zH2Q"
      },
      "id": "vk4Ct5u6zH2Q",
      "execution_count": null,
      "outputs": []
    },
    {
      "cell_type": "code",
      "execution_count": null,
      "id": "af7989f3",
      "metadata": {
        "id": "af7989f3"
      },
      "outputs": [],
      "source": [
        "# 확인할 수 있는 인사이트\n",
        "# 1. 7일 전의 동시간 생활 인구수가 현재 생활 인구수에 가장 큰 영향을 미친다.\n",
        "# 2. feature importance를 통해서도 알 수 있으며, (가장 높음)\n",
        "# 3. shapley value를 통해서도 함께 알 수 있다. (가장 길이가 김)"
      ]
    },
    {
      "cell_type": "markdown",
      "id": "convinced-vocabulary",
      "metadata": {
        "id": "convinced-vocabulary"
      },
      "source": [
        "#### 2) GradientBoosting\n",
        "##### 앞선 모델의 에러를 다음 모델의 예측 값으로 활용하면서 가중치 업데이트 하는데 경사하강법(Gradient Descent)를 활용해서 최적 모델을 만드는 기법"
      ]
    },
    {
      "cell_type": "markdown",
      "id": "needed-google",
      "metadata": {
        "id": "needed-google"
      },
      "source": [
        "#### [실습문제4] 머신러닝_4\n",
        "* Train과 Test로 나눈 데이터를 기준으로 그라디언트부스팅으로 모델을 학습을 진행하고 평가를 해주세요.\n",
        "* 성능지표 : RMSE, R-squared Score"
      ]
    },
    {
      "cell_type": "code",
      "source": [
        "from sklearn.ensemble import GradientBoostingRegressor"
      ],
      "metadata": {
        "id": "TMl77f67rk1g"
      },
      "id": "TMl77f67rk1g",
      "execution_count": null,
      "outputs": []
    },
    {
      "cell_type": "code",
      "execution_count": null,
      "id": "continent-olympus",
      "metadata": {
        "id": "continent-olympus"
      },
      "outputs": [],
      "source": [
        "# 아래에 실습코드를 작성하세요.\n",
        "model_gbr = GradientBoostingRegressor()\n",
        "model_gbr.fit(train_x,train_y)\n",
        "y_pred_gbr = model_gbr.predict(test_x)"
      ]
    },
    {
      "cell_type": "code",
      "execution_count": null,
      "id": "241dbcdc",
      "metadata": {
        "id": "241dbcdc",
        "colab": {
          "base_uri": "https://localhost:8080/"
        },
        "outputId": "1a584a61-de02-4745-9de2-b0845399abda"
      },
      "outputs": [
        {
          "output_type": "stream",
          "name": "stdout",
          "text": [
            "R2 Score : 0.7786330070705565\n",
            "RMSE : 1679.4917935678109\n"
          ]
        }
      ],
      "source": [
        "# 아래에 실습코드를 작성하세요.\n",
        "print('R2 Score :', r2_score(test_y, y_pred_gbr))\n",
        "print('RMSE :', np.sqrt(mean_squared_error(test_y, y_pred_gbr)))\n",
        "model_performance['GradientBoostingRegressor'] = [r2_score(test_y, y_pred_gbr), np.sqrt(mean_squared_error(test_y, y_pred_gbr))]"
      ]
    },
    {
      "cell_type": "markdown",
      "id": "04925b45",
      "metadata": {
        "id": "04925b45"
      },
      "source": [
        "#### [실습문제5] 머신러닝_5\n",
        "* 그라디언트부스팅으로 학습한 모델의 feature_importances 또는 Shap value를 구해보세요.\n",
        "* 확인할 수 있는 내용으로 우리 모델에서의 인사이트를 정리해보세요."
      ]
    },
    {
      "cell_type": "code",
      "execution_count": null,
      "id": "8deba58d",
      "metadata": {
        "id": "8deba58d"
      },
      "outputs": [],
      "source": [
        "# Feature의 중요도 확인\n",
        "result = plot_feature_importance(model_gbr.feature_importances_, list(df_train_x))"
      ]
    },
    {
      "cell_type": "code",
      "source": [
        "# SHAP 값으로 모델의 예측 설명하기\n",
        "explainer2 = shap.TreeExplainer(model_gbr)\n",
        "shap_values2 = explainer2.shap_values(train_x[nums])"
      ],
      "metadata": {
        "id": "F9iOn2tR1w6N"
      },
      "id": "F9iOn2tR1w6N",
      "execution_count": null,
      "outputs": []
    },
    {
      "cell_type": "code",
      "source": [
        "explainer2.expected_value"
      ],
      "metadata": {
        "id": "Us7nisgy3l1_"
      },
      "id": "Us7nisgy3l1_",
      "execution_count": null,
      "outputs": []
    },
    {
      "cell_type": "code",
      "source": [
        "shap.initjs() # javascript 시각화 라이브러리 --> colab에서는 모든 셀에 포함시켜야 함.\n",
        "\n",
        "# force_plot(전체평균, shapley_values, input)\n",
        "shap.force_plot(explainer2.expected_value, shap_values2[400, :], df_train_x.iloc[[nums[400]],:])"
      ],
      "metadata": {
        "id": "qel-XIow3oUN"
      },
      "id": "qel-XIow3oUN",
      "execution_count": null,
      "outputs": []
    },
    {
      "cell_type": "code",
      "execution_count": null,
      "id": "9d1bfe7d",
      "metadata": {
        "id": "9d1bfe7d"
      },
      "outputs": [],
      "source": [
        "# 확인할 수 있는 인사이트\n",
        "# 1. 어떤 데이터에 대해서는 7일 전 동시간 대 생활 인구수 보다 전날 동시간대 생활 인구수에 더 큰 영향을 미치는 것을 알 수 있다.\n",
        "# 2. 전처리 과정에서 변수 별 상관관계 분석 결과 다중 공선성이 발생했을 것으로 생각이 된다.\n",
        "# 3. PFI에서는 분명 7일전 동시간대 생활인구수의 변수 중요도가 가장 높게 발생하였는데, shapley value를 보면 어떤 데이터에 대해서는 예측값에 다른 요인이 더 많은 영향을 미친 것을 알 수 있습니다."
      ]
    },
    {
      "cell_type": "markdown",
      "id": "305bbd5b",
      "metadata": {
        "id": "305bbd5b"
      },
      "source": [
        "#### 3) Self Choice Model\n",
        "##### 앞선 교육과정에서 배운 머신러닝 모델 중 어떤 것이든 좋습니다. 원하는 모델을 선택해서 학습을 시켜보세요."
      ]
    },
    {
      "cell_type": "markdown",
      "id": "fbef7589",
      "metadata": {
        "id": "fbef7589"
      },
      "source": [
        "#### [실습문제6] 머신러닝_6\n",
        "* Train과 Test로 나눈 데이터를 기준으로 Self Choice Model로 모델을 학습을 진행하고 평가를 해주세요.\n",
        "* 성능지표 : RMSE, R-squared Score"
      ]
    },
    {
      "cell_type": "code",
      "source": [
        "from sklearn.model_selection import GridSearchCV"
      ],
      "metadata": {
        "id": "pl5HoCsKnSfi"
      },
      "id": "pl5HoCsKnSfi",
      "execution_count": null,
      "outputs": []
    },
    {
      "cell_type": "code",
      "execution_count": null,
      "id": "a2c66605",
      "metadata": {
        "id": "a2c66605",
        "colab": {
          "base_uri": "https://localhost:8080/"
        },
        "outputId": "9f2ea256-04ba-4031-89b0-b74ecbd79d7c"
      },
      "outputs": [
        {
          "output_type": "stream",
          "name": "stdout",
          "text": [
            "{'learning_rate': 0.05, 'max_depth': 5}\n"
          ]
        }
      ],
      "source": [
        "# 아래에 실습코드를 작성하세요.\n",
        "param_grid = [{'learning_rate':[0.01, 0.05, 0.1, 0.5, 1.0], 'max_depth':[3, 5, 7, 10]}]\n",
        "gs = GridSearchCV(estimator=model_gbr, param_grid=param_grid, cv=2)\n",
        "gs = gs.fit(train_x, train_y)\n",
        "\n",
        "print(gs.best_params_)"
      ]
    },
    {
      "cell_type": "code",
      "execution_count": null,
      "id": "546ac8bf",
      "metadata": {
        "id": "546ac8bf"
      },
      "outputs": [],
      "source": [
        "# 아래에 실습코드를 작성하세요.\n",
        "model_gbr = GradientBoostingRegressor(learning_rate=0.05, max_depth=5)\n",
        "model_gbr.fit(train_x,train_y)\n",
        "y_pred_gbr = model_gbr.predict(test_x)"
      ]
    },
    {
      "cell_type": "code",
      "execution_count": null,
      "id": "e69d0d7c",
      "metadata": {
        "id": "e69d0d7c",
        "colab": {
          "base_uri": "https://localhost:8080/"
        },
        "outputId": "7f04e34e-20f1-4727-d8c9-8ac7d683b3d6"
      },
      "outputs": [
        {
          "output_type": "stream",
          "name": "stdout",
          "text": [
            "R2 Score : 0.7793143761807323\n",
            "RMSE : 1676.9050579532898\n"
          ]
        }
      ],
      "source": [
        "# 아래에 실습코드를 작성하세요.\n",
        "print('R2 Score :', r2_score(test_y, y_pred_gbr))\n",
        "print('RMSE :', np.sqrt(mean_squared_error(test_y, y_pred_gbr)))\n",
        "model_performance['GBR_GridSearch'] = [r2_score(test_y, y_pred_gbr), np.sqrt(mean_squared_error(test_y, y_pred_gbr))]"
      ]
    },
    {
      "cell_type": "markdown",
      "id": "94cfdb09",
      "metadata": {
        "id": "94cfdb09"
      },
      "source": [
        "#### [실습문제7] 머신러닝_7\n",
        "* Self Choice Model로 학습한 모델의 feature_importances 또는 Shap value를 구해보세요.\n",
        "* 확인할 수 있는 내용으로 우리 모델에서의 인사이트를 정리해보세요."
      ]
    },
    {
      "cell_type": "code",
      "execution_count": null,
      "id": "67e6d924",
      "metadata": {
        "id": "67e6d924"
      },
      "outputs": [],
      "source": [
        "# Feature의 중요도 확인\n",
        "result = plot_feature_importance(model_gbr.feature_importances_, list(df_train_x))"
      ]
    },
    {
      "cell_type": "code",
      "source": [
        "# SHAP 값으로 모델의 예측 설명하기\n",
        "explainer3 = shap.TreeExplainer(model_gbr)\n",
        "shap_values3 = explainer3.shap_values(train_x[nums])"
      ],
      "metadata": {
        "id": "aLyO2jWdtoHx"
      },
      "id": "aLyO2jWdtoHx",
      "execution_count": null,
      "outputs": []
    },
    {
      "cell_type": "code",
      "source": [
        "shap.initjs() # javascript 시각화 라이브러리 --> colab에서는 모든 셀에 포함시켜야 함.\n",
        "\n",
        "# force_plot(전체평균, shapley_values, input)\n",
        "shap.force_plot(explainer3.expected_value, shap_values3[222, :], df_train_x.iloc[[nums[222]],:])"
      ],
      "metadata": {
        "id": "MJo-PfRBvEGC"
      },
      "id": "MJo-PfRBvEGC",
      "execution_count": null,
      "outputs": []
    },
    {
      "cell_type": "code",
      "execution_count": null,
      "id": "a8ac782c",
      "metadata": {
        "id": "a8ac782c"
      },
      "outputs": [],
      "source": [
        "# 확인할 수 있는 인사이트\n",
        "# 1. 그리드 서치 방법을 사용하여, GradientBoosting 한 결과 정확도도 살짝 올라갔으며, shapley value가 이전 케이스보다 예상한 대로의 결과가 나온 것 같습니다.\n",
        "# 2. 7일전 동시간대 생활인구수의 중요도가 가장 많이 작용한 케이스를 볼 수 있습니다."
      ]
    },
    {
      "cell_type": "markdown",
      "id": "07b38e1a",
      "metadata": {
        "id": "07b38e1a"
      },
      "source": [
        "#### [실습문제8] 스케일링\n",
        "* Min Max Scale 함수를 활용하여 스케일링 후 위 모델에 적용하여 보세요.\n"
      ]
    },
    {
      "cell_type": "code",
      "execution_count": null,
      "id": "f4b6d2f6",
      "metadata": {
        "id": "f4b6d2f6"
      },
      "outputs": [],
      "source": [
        "# 아래에 실습코드를 작성하세요.\n",
        "# 모듈 불러오기\n",
        "from sklearn.preprocessing import MinMaxScaler\n",
        "\n",
        "# 정규화\n",
        "scaler = MinMaxScaler()\n",
        "scaler.fit(train_x)\n",
        "train_x_std = scaler.transform(train_x)\n",
        "test_x_std = scaler.transform(test_x)"
      ]
    },
    {
      "cell_type": "code",
      "execution_count": null,
      "id": "37fa8e50",
      "metadata": {
        "id": "37fa8e50",
        "colab": {
          "base_uri": "https://localhost:8080/"
        },
        "outputId": "d3d3d178-7d98-453a-fa7c-38f8fbc2eb77"
      },
      "outputs": [
        {
          "output_type": "stream",
          "name": "stdout",
          "text": [
            "R2 Score : 0.7699441681364265\n",
            "RMSE : 1712.1352817384623\n"
          ]
        }
      ],
      "source": [
        "# 아래에 실습코드를 작성하세요.\n",
        "model_lr = LinearRegression()\n",
        "model_lr.fit(train_x_std, train_y)\n",
        "y_pred_lr = model_lr.predict(test_x_std)\n",
        "print('R2 Score :', r2_score(test_y, y_pred_lr))\n",
        "print('RMSE :', np.sqrt(mean_squared_error(test_y, y_pred_lr)))\n",
        "model_performance['LinearRegression_std'] = [r2_score(test_y, y_pred_lr), np.sqrt(mean_squared_error(test_y, y_pred_lr))]"
      ]
    },
    {
      "cell_type": "code",
      "source": [
        "model_rfr = RFR()\n",
        "model_rfr.fit(train_x_std,train_y)\n",
        "y_pred_rfr = model_rfr.predict(test_x_std)\n",
        "print('R2 Score :', r2_score(test_y, y_pred_rfr))\n",
        "print('RMSE :', np.sqrt(mean_squared_error(test_y, y_pred_rfr)))\n",
        "model_performance['RandomForestRegression_std'] = [r2_score(test_y, y_pred_rfr), np.sqrt(mean_squared_error(test_y, y_pred_rfr))]"
      ],
      "metadata": {
        "colab": {
          "base_uri": "https://localhost:8080/"
        },
        "id": "CsRv4DnN00Zt",
        "outputId": "8d81a7e4-75fe-47ec-ebb9-7134dffe8efe"
      },
      "id": "CsRv4DnN00Zt",
      "execution_count": null,
      "outputs": [
        {
          "output_type": "stream",
          "name": "stdout",
          "text": [
            "R2 Score : 0.7533710639684291\n",
            "RMSE : 1772.7335660665235\n"
          ]
        }
      ]
    },
    {
      "cell_type": "code",
      "source": [
        "# Feature의 중요도 확인\n",
        "result = plot_feature_importance(model_rfr.feature_importances_, list(df_train_x))"
      ],
      "metadata": {
        "id": "KrfrcVGE1BRh"
      },
      "id": "KrfrcVGE1BRh",
      "execution_count": null,
      "outputs": []
    },
    {
      "cell_type": "code",
      "source": [
        "# SHAP 값으로 모델의 예측 설명하기\n",
        "explainer4 = shap.TreeExplainer(model_rfr)\n",
        "shap_values4 = explainer1.shap_values(train_x_std[nums])\n",
        "\n",
        "shap.initjs() # javascript 시각화 라이브러리 --> colab에서는 모든 셀에 포함시켜야 함.\n",
        "# force_plot(전체평균, shapley_values, input)\n",
        "shap.force_plot(explainer4.expected_value, shap_values4[111, :], df_train_x.iloc[nums[111],:])"
      ],
      "metadata": {
        "id": "9xaBAKxn1B8W"
      },
      "id": "9xaBAKxn1B8W",
      "execution_count": null,
      "outputs": []
    },
    {
      "cell_type": "code",
      "source": [
        "model_gbr = GradientBoostingRegressor()\n",
        "model_gbr.fit(train_x_std,train_y)\n",
        "y_pred_gbr = model_gbr.predict(test_x_std)\n",
        "print('R2 Score :', r2_score(test_y, y_pred_gbr))\n",
        "print('RMSE :', np.sqrt(mean_squared_error(test_y, y_pred_gbr)))\n",
        "model_performance['GradientBoostingRegressor_std'] = [r2_score(test_y, y_pred_gbr), np.sqrt(mean_squared_error(test_y, y_pred_gbr))]"
      ],
      "metadata": {
        "colab": {
          "base_uri": "https://localhost:8080/"
        },
        "id": "UFacCQs-7TxN",
        "outputId": "ac0df557-9f1a-47b5-b000-4259264eac1b"
      },
      "id": "UFacCQs-7TxN",
      "execution_count": null,
      "outputs": [
        {
          "output_type": "stream",
          "name": "stdout",
          "text": [
            "R2 Score : 0.7786437597128821\n",
            "RMSE : 1679.4510033993904\n"
          ]
        }
      ]
    },
    {
      "cell_type": "code",
      "source": [
        "explainer5 = shap.TreeExplainer(model_gbr)\n",
        "shap_values5 = explainer5.shap_values(train_x[nums])\n",
        "shap.initjs() # javascript 시각화 라이브러리 --> colab에서는 모든 셀에 포함시켜야 함.\n",
        "# force_plot(전체평균, shapley_values, input)\n",
        "shap.force_plot(explainer5.expected_value, shap_values5[111, :], df_train_x.iloc[nums[111],:])\n",
        "model_performance['LinearRegression'] = [r2_score(test_y, y_pred_lr), np.sqrt(mean_squared_error(test_y, y_pred_lr))]"
      ],
      "metadata": {
        "id": "r77S-i5f7jiY"
      },
      "id": "r77S-i5f7jiY",
      "execution_count": null,
      "outputs": []
    },
    {
      "cell_type": "code",
      "source": [
        "model_gbr = GradientBoostingRegressor()"
      ],
      "metadata": {
        "id": "zO_2SnKK8IQL"
      },
      "id": "zO_2SnKK8IQL",
      "execution_count": null,
      "outputs": []
    },
    {
      "cell_type": "code",
      "source": [
        "param_grid = [{'learning_rate':[0.01, 0.05, 0.1, 0.5, 1.0], 'max_depth':[3, 5, 7, 10]}]\n",
        "gs = GridSearchCV(estimator=model_gbr, param_grid=param_grid, cv=2)\n",
        "gs = gs.fit(train_x_std, train_y)\n",
        "\n",
        "print(gs.best_params_)"
      ],
      "metadata": {
        "colab": {
          "base_uri": "https://localhost:8080/",
          "height": 410
        },
        "id": "wZLYfeE379ok",
        "outputId": "80c70157-4b77-41c8-aa34-d1e1a1beb69a"
      },
      "id": "wZLYfeE379ok",
      "execution_count": null,
      "outputs": [
        {
          "output_type": "error",
          "ename": "KeyboardInterrupt",
          "evalue": "ignored",
          "traceback": [
            "\u001b[0;31m---------------------------------------------------------------------------\u001b[0m",
            "\u001b[0;31mKeyboardInterrupt\u001b[0m                         Traceback (most recent call last)",
            "\u001b[0;32m<ipython-input-32-fc2f4c5de586>\u001b[0m in \u001b[0;36m<cell line: 3>\u001b[0;34m()\u001b[0m\n\u001b[1;32m      1\u001b[0m \u001b[0mparam_grid\u001b[0m \u001b[0;34m=\u001b[0m \u001b[0;34m[\u001b[0m\u001b[0;34m{\u001b[0m\u001b[0;34m'learning_rate'\u001b[0m\u001b[0;34m:\u001b[0m\u001b[0;34m[\u001b[0m\u001b[0;36m0.01\u001b[0m\u001b[0;34m,\u001b[0m \u001b[0;36m0.05\u001b[0m\u001b[0;34m,\u001b[0m \u001b[0;36m0.1\u001b[0m\u001b[0;34m,\u001b[0m \u001b[0;36m0.5\u001b[0m\u001b[0;34m,\u001b[0m \u001b[0;36m1.0\u001b[0m\u001b[0;34m]\u001b[0m\u001b[0;34m,\u001b[0m \u001b[0;34m'max_depth'\u001b[0m\u001b[0;34m:\u001b[0m\u001b[0;34m[\u001b[0m\u001b[0;36m3\u001b[0m\u001b[0;34m,\u001b[0m \u001b[0;36m5\u001b[0m\u001b[0;34m,\u001b[0m \u001b[0;36m7\u001b[0m\u001b[0;34m,\u001b[0m \u001b[0;36m10\u001b[0m\u001b[0;34m]\u001b[0m\u001b[0;34m}\u001b[0m\u001b[0;34m]\u001b[0m\u001b[0;34m\u001b[0m\u001b[0;34m\u001b[0m\u001b[0m\n\u001b[1;32m      2\u001b[0m \u001b[0mgs\u001b[0m \u001b[0;34m=\u001b[0m \u001b[0mGridSearchCV\u001b[0m\u001b[0;34m(\u001b[0m\u001b[0mestimator\u001b[0m\u001b[0;34m=\u001b[0m\u001b[0mmodel_gbr\u001b[0m\u001b[0;34m,\u001b[0m \u001b[0mparam_grid\u001b[0m\u001b[0;34m=\u001b[0m\u001b[0mparam_grid\u001b[0m\u001b[0;34m,\u001b[0m \u001b[0mcv\u001b[0m\u001b[0;34m=\u001b[0m\u001b[0;36m2\u001b[0m\u001b[0;34m)\u001b[0m\u001b[0;34m\u001b[0m\u001b[0;34m\u001b[0m\u001b[0m\n\u001b[0;32m----> 3\u001b[0;31m \u001b[0mgs\u001b[0m \u001b[0;34m=\u001b[0m \u001b[0mgs\u001b[0m\u001b[0;34m.\u001b[0m\u001b[0mfit\u001b[0m\u001b[0;34m(\u001b[0m\u001b[0mtrain_x_std\u001b[0m\u001b[0;34m,\u001b[0m \u001b[0mtrain_y\u001b[0m\u001b[0;34m)\u001b[0m\u001b[0;34m\u001b[0m\u001b[0;34m\u001b[0m\u001b[0m\n\u001b[0m\u001b[1;32m      4\u001b[0m \u001b[0;34m\u001b[0m\u001b[0m\n\u001b[1;32m      5\u001b[0m \u001b[0mprint\u001b[0m\u001b[0;34m(\u001b[0m\u001b[0mgs\u001b[0m\u001b[0;34m.\u001b[0m\u001b[0mbest_params_\u001b[0m\u001b[0;34m)\u001b[0m\u001b[0;34m\u001b[0m\u001b[0;34m\u001b[0m\u001b[0m\n",
            "\u001b[0;32m/usr/local/lib/python3.10/dist-packages/sklearn/model_selection/_search.py\u001b[0m in \u001b[0;36mfit\u001b[0;34m(self, X, y, groups, **fit_params)\u001b[0m\n\u001b[1;32m    872\u001b[0m                 \u001b[0;32mreturn\u001b[0m \u001b[0mresults\u001b[0m\u001b[0;34m\u001b[0m\u001b[0;34m\u001b[0m\u001b[0m\n\u001b[1;32m    873\u001b[0m \u001b[0;34m\u001b[0m\u001b[0m\n\u001b[0;32m--> 874\u001b[0;31m             \u001b[0mself\u001b[0m\u001b[0;34m.\u001b[0m\u001b[0m_run_search\u001b[0m\u001b[0;34m(\u001b[0m\u001b[0mevaluate_candidates\u001b[0m\u001b[0;34m)\u001b[0m\u001b[0;34m\u001b[0m\u001b[0;34m\u001b[0m\u001b[0m\n\u001b[0m\u001b[1;32m    875\u001b[0m \u001b[0;34m\u001b[0m\u001b[0m\n\u001b[1;32m    876\u001b[0m             \u001b[0;31m# multimetric is determined here because in the case of a callable\u001b[0m\u001b[0;34m\u001b[0m\u001b[0;34m\u001b[0m\u001b[0m\n",
            "\u001b[0;32m/usr/local/lib/python3.10/dist-packages/sklearn/model_selection/_search.py\u001b[0m in \u001b[0;36m_run_search\u001b[0;34m(self, evaluate_candidates)\u001b[0m\n\u001b[1;32m   1386\u001b[0m     \u001b[0;32mdef\u001b[0m \u001b[0m_run_search\u001b[0m\u001b[0;34m(\u001b[0m\u001b[0mself\u001b[0m\u001b[0;34m,\u001b[0m \u001b[0mevaluate_candidates\u001b[0m\u001b[0;34m)\u001b[0m\u001b[0;34m:\u001b[0m\u001b[0;34m\u001b[0m\u001b[0;34m\u001b[0m\u001b[0m\n\u001b[1;32m   1387\u001b[0m         \u001b[0;34m\"\"\"Search all candidates in param_grid\"\"\"\u001b[0m\u001b[0;34m\u001b[0m\u001b[0;34m\u001b[0m\u001b[0m\n\u001b[0;32m-> 1388\u001b[0;31m         \u001b[0mevaluate_candidates\u001b[0m\u001b[0;34m(\u001b[0m\u001b[0mParameterGrid\u001b[0m\u001b[0;34m(\u001b[0m\u001b[0mself\u001b[0m\u001b[0;34m.\u001b[0m\u001b[0mparam_grid\u001b[0m\u001b[0;34m)\u001b[0m\u001b[0;34m)\u001b[0m\u001b[0;34m\u001b[0m\u001b[0;34m\u001b[0m\u001b[0m\n\u001b[0m\u001b[1;32m   1389\u001b[0m \u001b[0;34m\u001b[0m\u001b[0m\n\u001b[1;32m   1390\u001b[0m \u001b[0;34m\u001b[0m\u001b[0m\n",
            "\u001b[0;32m/usr/local/lib/python3.10/dist-packages/sklearn/model_selection/_search.py\u001b[0m in \u001b[0;36mevaluate_candidates\u001b[0;34m(candidate_params, cv, more_results)\u001b[0m\n\u001b[1;32m    819\u001b[0m                     )\n\u001b[1;32m    820\u001b[0m \u001b[0;34m\u001b[0m\u001b[0m\n\u001b[0;32m--> 821\u001b[0;31m                 out = parallel(\n\u001b[0m\u001b[1;32m    822\u001b[0m                     delayed(_fit_and_score)(\n\u001b[1;32m    823\u001b[0m                         \u001b[0mclone\u001b[0m\u001b[0;34m(\u001b[0m\u001b[0mbase_estimator\u001b[0m\u001b[0;34m)\u001b[0m\u001b[0;34m,\u001b[0m\u001b[0;34m\u001b[0m\u001b[0;34m\u001b[0m\u001b[0m\n",
            "\u001b[0;32m/usr/local/lib/python3.10/dist-packages/sklearn/utils/parallel.py\u001b[0m in \u001b[0;36m__call__\u001b[0;34m(self, iterable)\u001b[0m\n\u001b[1;32m     61\u001b[0m             \u001b[0;32mfor\u001b[0m \u001b[0mdelayed_func\u001b[0m\u001b[0;34m,\u001b[0m \u001b[0margs\u001b[0m\u001b[0;34m,\u001b[0m \u001b[0mkwargs\u001b[0m \u001b[0;32min\u001b[0m \u001b[0miterable\u001b[0m\u001b[0;34m\u001b[0m\u001b[0;34m\u001b[0m\u001b[0m\n\u001b[1;32m     62\u001b[0m         )\n\u001b[0;32m---> 63\u001b[0;31m         \u001b[0;32mreturn\u001b[0m \u001b[0msuper\u001b[0m\u001b[0;34m(\u001b[0m\u001b[0;34m)\u001b[0m\u001b[0;34m.\u001b[0m\u001b[0m__call__\u001b[0m\u001b[0;34m(\u001b[0m\u001b[0miterable_with_config\u001b[0m\u001b[0;34m)\u001b[0m\u001b[0;34m\u001b[0m\u001b[0;34m\u001b[0m\u001b[0m\n\u001b[0m\u001b[1;32m     64\u001b[0m \u001b[0;34m\u001b[0m\u001b[0m\n\u001b[1;32m     65\u001b[0m \u001b[0;34m\u001b[0m\u001b[0m\n",
            "\u001b[0;32m/usr/local/lib/python3.10/dist-packages/joblib/parallel.py\u001b[0m in \u001b[0;36m__call__\u001b[0;34m(self, iterable)\u001b[0m\n\u001b[1;32m   1861\u001b[0m             \u001b[0moutput\u001b[0m \u001b[0;34m=\u001b[0m \u001b[0mself\u001b[0m\u001b[0;34m.\u001b[0m\u001b[0m_get_sequential_output\u001b[0m\u001b[0;34m(\u001b[0m\u001b[0miterable\u001b[0m\u001b[0;34m)\u001b[0m\u001b[0;34m\u001b[0m\u001b[0;34m\u001b[0m\u001b[0m\n\u001b[1;32m   1862\u001b[0m             \u001b[0mnext\u001b[0m\u001b[0;34m(\u001b[0m\u001b[0moutput\u001b[0m\u001b[0;34m)\u001b[0m\u001b[0;34m\u001b[0m\u001b[0;34m\u001b[0m\u001b[0m\n\u001b[0;32m-> 1863\u001b[0;31m             \u001b[0;32mreturn\u001b[0m \u001b[0moutput\u001b[0m \u001b[0;32mif\u001b[0m \u001b[0mself\u001b[0m\u001b[0;34m.\u001b[0m\u001b[0mreturn_generator\u001b[0m \u001b[0;32melse\u001b[0m \u001b[0mlist\u001b[0m\u001b[0;34m(\u001b[0m\u001b[0moutput\u001b[0m\u001b[0;34m)\u001b[0m\u001b[0;34m\u001b[0m\u001b[0;34m\u001b[0m\u001b[0m\n\u001b[0m\u001b[1;32m   1864\u001b[0m \u001b[0;34m\u001b[0m\u001b[0m\n\u001b[1;32m   1865\u001b[0m         \u001b[0;31m# Let's create an ID that uniquely identifies the current call. If the\u001b[0m\u001b[0;34m\u001b[0m\u001b[0;34m\u001b[0m\u001b[0m\n",
            "\u001b[0;32m/usr/local/lib/python3.10/dist-packages/joblib/parallel.py\u001b[0m in \u001b[0;36m_get_sequential_output\u001b[0;34m(self, iterable)\u001b[0m\n\u001b[1;32m   1790\u001b[0m                 \u001b[0mself\u001b[0m\u001b[0;34m.\u001b[0m\u001b[0mn_dispatched_batches\u001b[0m \u001b[0;34m+=\u001b[0m \u001b[0;36m1\u001b[0m\u001b[0;34m\u001b[0m\u001b[0;34m\u001b[0m\u001b[0m\n\u001b[1;32m   1791\u001b[0m                 \u001b[0mself\u001b[0m\u001b[0;34m.\u001b[0m\u001b[0mn_dispatched_tasks\u001b[0m \u001b[0;34m+=\u001b[0m \u001b[0;36m1\u001b[0m\u001b[0;34m\u001b[0m\u001b[0;34m\u001b[0m\u001b[0m\n\u001b[0;32m-> 1792\u001b[0;31m                 \u001b[0mres\u001b[0m \u001b[0;34m=\u001b[0m \u001b[0mfunc\u001b[0m\u001b[0;34m(\u001b[0m\u001b[0;34m*\u001b[0m\u001b[0margs\u001b[0m\u001b[0;34m,\u001b[0m \u001b[0;34m**\u001b[0m\u001b[0mkwargs\u001b[0m\u001b[0;34m)\u001b[0m\u001b[0;34m\u001b[0m\u001b[0;34m\u001b[0m\u001b[0m\n\u001b[0m\u001b[1;32m   1793\u001b[0m                 \u001b[0mself\u001b[0m\u001b[0;34m.\u001b[0m\u001b[0mn_completed_tasks\u001b[0m \u001b[0;34m+=\u001b[0m \u001b[0;36m1\u001b[0m\u001b[0;34m\u001b[0m\u001b[0;34m\u001b[0m\u001b[0m\n\u001b[1;32m   1794\u001b[0m                 \u001b[0mself\u001b[0m\u001b[0;34m.\u001b[0m\u001b[0mprint_progress\u001b[0m\u001b[0;34m(\u001b[0m\u001b[0;34m)\u001b[0m\u001b[0;34m\u001b[0m\u001b[0;34m\u001b[0m\u001b[0m\n",
            "\u001b[0;32m/usr/local/lib/python3.10/dist-packages/sklearn/utils/parallel.py\u001b[0m in \u001b[0;36m__call__\u001b[0;34m(self, *args, **kwargs)\u001b[0m\n\u001b[1;32m    121\u001b[0m             \u001b[0mconfig\u001b[0m \u001b[0;34m=\u001b[0m \u001b[0;34m{\u001b[0m\u001b[0;34m}\u001b[0m\u001b[0;34m\u001b[0m\u001b[0;34m\u001b[0m\u001b[0m\n\u001b[1;32m    122\u001b[0m         \u001b[0;32mwith\u001b[0m \u001b[0mconfig_context\u001b[0m\u001b[0;34m(\u001b[0m\u001b[0;34m**\u001b[0m\u001b[0mconfig\u001b[0m\u001b[0;34m)\u001b[0m\u001b[0;34m:\u001b[0m\u001b[0;34m\u001b[0m\u001b[0;34m\u001b[0m\u001b[0m\n\u001b[0;32m--> 123\u001b[0;31m             \u001b[0;32mreturn\u001b[0m \u001b[0mself\u001b[0m\u001b[0;34m.\u001b[0m\u001b[0mfunction\u001b[0m\u001b[0;34m(\u001b[0m\u001b[0;34m*\u001b[0m\u001b[0margs\u001b[0m\u001b[0;34m,\u001b[0m \u001b[0;34m**\u001b[0m\u001b[0mkwargs\u001b[0m\u001b[0;34m)\u001b[0m\u001b[0;34m\u001b[0m\u001b[0;34m\u001b[0m\u001b[0m\n\u001b[0m",
            "\u001b[0;32m/usr/local/lib/python3.10/dist-packages/sklearn/model_selection/_validation.py\u001b[0m in \u001b[0;36m_fit_and_score\u001b[0;34m(estimator, X, y, scorer, train, test, verbose, parameters, fit_params, return_train_score, return_parameters, return_n_test_samples, return_times, return_estimator, split_progress, candidate_progress, error_score)\u001b[0m\n\u001b[1;32m    684\u001b[0m             \u001b[0mestimator\u001b[0m\u001b[0;34m.\u001b[0m\u001b[0mfit\u001b[0m\u001b[0;34m(\u001b[0m\u001b[0mX_train\u001b[0m\u001b[0;34m,\u001b[0m \u001b[0;34m**\u001b[0m\u001b[0mfit_params\u001b[0m\u001b[0;34m)\u001b[0m\u001b[0;34m\u001b[0m\u001b[0;34m\u001b[0m\u001b[0m\n\u001b[1;32m    685\u001b[0m         \u001b[0;32melse\u001b[0m\u001b[0;34m:\u001b[0m\u001b[0;34m\u001b[0m\u001b[0;34m\u001b[0m\u001b[0m\n\u001b[0;32m--> 686\u001b[0;31m             \u001b[0mestimator\u001b[0m\u001b[0;34m.\u001b[0m\u001b[0mfit\u001b[0m\u001b[0;34m(\u001b[0m\u001b[0mX_train\u001b[0m\u001b[0;34m,\u001b[0m \u001b[0my_train\u001b[0m\u001b[0;34m,\u001b[0m \u001b[0;34m**\u001b[0m\u001b[0mfit_params\u001b[0m\u001b[0;34m)\u001b[0m\u001b[0;34m\u001b[0m\u001b[0;34m\u001b[0m\u001b[0m\n\u001b[0m\u001b[1;32m    687\u001b[0m \u001b[0;34m\u001b[0m\u001b[0m\n\u001b[1;32m    688\u001b[0m     \u001b[0;32mexcept\u001b[0m \u001b[0mException\u001b[0m\u001b[0;34m:\u001b[0m\u001b[0;34m\u001b[0m\u001b[0;34m\u001b[0m\u001b[0m\n",
            "\u001b[0;32m/usr/local/lib/python3.10/dist-packages/sklearn/ensemble/_gb.py\u001b[0m in \u001b[0;36mfit\u001b[0;34m(self, X, y, sample_weight, monitor)\u001b[0m\n\u001b[1;32m    536\u001b[0m \u001b[0;34m\u001b[0m\u001b[0m\n\u001b[1;32m    537\u001b[0m         \u001b[0;31m# fit the boosting stages\u001b[0m\u001b[0;34m\u001b[0m\u001b[0;34m\u001b[0m\u001b[0m\n\u001b[0;32m--> 538\u001b[0;31m         n_stages = self._fit_stages(\n\u001b[0m\u001b[1;32m    539\u001b[0m             \u001b[0mX\u001b[0m\u001b[0;34m,\u001b[0m\u001b[0;34m\u001b[0m\u001b[0;34m\u001b[0m\u001b[0m\n\u001b[1;32m    540\u001b[0m             \u001b[0my\u001b[0m\u001b[0;34m,\u001b[0m\u001b[0;34m\u001b[0m\u001b[0;34m\u001b[0m\u001b[0m\n",
            "\u001b[0;32m/usr/local/lib/python3.10/dist-packages/sklearn/ensemble/_gb.py\u001b[0m in \u001b[0;36m_fit_stages\u001b[0;34m(self, X, y, raw_predictions, sample_weight, random_state, X_val, y_val, sample_weight_val, begin_at_stage, monitor)\u001b[0m\n\u001b[1;32m    613\u001b[0m \u001b[0;34m\u001b[0m\u001b[0m\n\u001b[1;32m    614\u001b[0m             \u001b[0;31m# fit next stage of trees\u001b[0m\u001b[0;34m\u001b[0m\u001b[0;34m\u001b[0m\u001b[0m\n\u001b[0;32m--> 615\u001b[0;31m             raw_predictions = self._fit_stage(\n\u001b[0m\u001b[1;32m    616\u001b[0m                 \u001b[0mi\u001b[0m\u001b[0;34m,\u001b[0m\u001b[0;34m\u001b[0m\u001b[0;34m\u001b[0m\u001b[0m\n\u001b[1;32m    617\u001b[0m                 \u001b[0mX\u001b[0m\u001b[0;34m,\u001b[0m\u001b[0;34m\u001b[0m\u001b[0;34m\u001b[0m\u001b[0m\n",
            "\u001b[0;32m/usr/local/lib/python3.10/dist-packages/sklearn/ensemble/_gb.py\u001b[0m in \u001b[0;36m_fit_stage\u001b[0;34m(self, i, X, y, raw_predictions, sample_weight, sample_mask, random_state, X_csc, X_csr)\u001b[0m\n\u001b[1;32m    255\u001b[0m \u001b[0;34m\u001b[0m\u001b[0m\n\u001b[1;32m    256\u001b[0m             \u001b[0mX\u001b[0m \u001b[0;34m=\u001b[0m \u001b[0mX_csr\u001b[0m \u001b[0;32mif\u001b[0m \u001b[0mX_csr\u001b[0m \u001b[0;32mis\u001b[0m \u001b[0;32mnot\u001b[0m \u001b[0;32mNone\u001b[0m \u001b[0;32melse\u001b[0m \u001b[0mX\u001b[0m\u001b[0;34m\u001b[0m\u001b[0;34m\u001b[0m\u001b[0m\n\u001b[0;32m--> 257\u001b[0;31m             \u001b[0mtree\u001b[0m\u001b[0;34m.\u001b[0m\u001b[0mfit\u001b[0m\u001b[0;34m(\u001b[0m\u001b[0mX\u001b[0m\u001b[0;34m,\u001b[0m \u001b[0mresidual\u001b[0m\u001b[0;34m,\u001b[0m \u001b[0msample_weight\u001b[0m\u001b[0;34m=\u001b[0m\u001b[0msample_weight\u001b[0m\u001b[0;34m,\u001b[0m \u001b[0mcheck_input\u001b[0m\u001b[0;34m=\u001b[0m\u001b[0;32mFalse\u001b[0m\u001b[0;34m)\u001b[0m\u001b[0;34m\u001b[0m\u001b[0;34m\u001b[0m\u001b[0m\n\u001b[0m\u001b[1;32m    258\u001b[0m \u001b[0;34m\u001b[0m\u001b[0m\n\u001b[1;32m    259\u001b[0m             \u001b[0;31m# update tree leaves\u001b[0m\u001b[0;34m\u001b[0m\u001b[0;34m\u001b[0m\u001b[0m\n",
            "\u001b[0;32m/usr/local/lib/python3.10/dist-packages/sklearn/tree/_classes.py\u001b[0m in \u001b[0;36mfit\u001b[0;34m(self, X, y, sample_weight, check_input)\u001b[0m\n\u001b[1;32m   1245\u001b[0m         \"\"\"\n\u001b[1;32m   1246\u001b[0m \u001b[0;34m\u001b[0m\u001b[0m\n\u001b[0;32m-> 1247\u001b[0;31m         super().fit(\n\u001b[0m\u001b[1;32m   1248\u001b[0m             \u001b[0mX\u001b[0m\u001b[0;34m,\u001b[0m\u001b[0;34m\u001b[0m\u001b[0;34m\u001b[0m\u001b[0m\n\u001b[1;32m   1249\u001b[0m             \u001b[0my\u001b[0m\u001b[0;34m,\u001b[0m\u001b[0;34m\u001b[0m\u001b[0;34m\u001b[0m\u001b[0m\n",
            "\u001b[0;32m/usr/local/lib/python3.10/dist-packages/sklearn/tree/_classes.py\u001b[0m in \u001b[0;36mfit\u001b[0;34m(self, X, y, sample_weight, check_input)\u001b[0m\n\u001b[1;32m    377\u001b[0m             )\n\u001b[1;32m    378\u001b[0m \u001b[0;34m\u001b[0m\u001b[0m\n\u001b[0;32m--> 379\u001b[0;31m         \u001b[0mbuilder\u001b[0m\u001b[0;34m.\u001b[0m\u001b[0mbuild\u001b[0m\u001b[0;34m(\u001b[0m\u001b[0mself\u001b[0m\u001b[0;34m.\u001b[0m\u001b[0mtree_\u001b[0m\u001b[0;34m,\u001b[0m \u001b[0mX\u001b[0m\u001b[0;34m,\u001b[0m \u001b[0my\u001b[0m\u001b[0;34m,\u001b[0m \u001b[0msample_weight\u001b[0m\u001b[0;34m)\u001b[0m\u001b[0;34m\u001b[0m\u001b[0;34m\u001b[0m\u001b[0m\n\u001b[0m\u001b[1;32m    380\u001b[0m \u001b[0;34m\u001b[0m\u001b[0m\n\u001b[1;32m    381\u001b[0m         \u001b[0;32mif\u001b[0m \u001b[0mself\u001b[0m\u001b[0;34m.\u001b[0m\u001b[0mn_outputs_\u001b[0m \u001b[0;34m==\u001b[0m \u001b[0;36m1\u001b[0m \u001b[0;32mand\u001b[0m \u001b[0mis_classifier\u001b[0m\u001b[0;34m(\u001b[0m\u001b[0mself\u001b[0m\u001b[0;34m)\u001b[0m\u001b[0;34m:\u001b[0m\u001b[0;34m\u001b[0m\u001b[0;34m\u001b[0m\u001b[0m\n",
            "\u001b[0;31mKeyboardInterrupt\u001b[0m: "
          ]
        }
      ]
    },
    {
      "cell_type": "code",
      "source": [
        "model_gbr = GradientBoostingRegressor(learning_rate=0.05, max_depth=5)\n",
        "model_gbr.fit(train_x_std,train_y)\n",
        "y_pred_gbr = model_gbr.predict(test_x_std)\n",
        "print('R2 Score :', r2_score(test_y, y_pred_gbr))\n",
        "print('RMSE :', np.sqrt(mean_squared_error(test_y, y_pred_gbr)))\n",
        "model_performance['GBR_GridSearch_std'] = [r2_score(test_y, y_pred_gbr), np.sqrt(mean_squared_error(test_y, y_pred_gbr))]"
      ],
      "metadata": {
        "colab": {
          "base_uri": "https://localhost:8080/"
        },
        "id": "9axHOITp8Flr",
        "outputId": "3cbe9dd9-a3e7-4008-ced1-b51103bdc5a2"
      },
      "id": "9axHOITp8Flr",
      "execution_count": null,
      "outputs": [
        {
          "output_type": "stream",
          "name": "stdout",
          "text": [
            "R2 Score : 0.7818526140370591\n",
            "RMSE : 1667.2336223487578\n"
          ]
        }
      ]
    },
    {
      "cell_type": "code",
      "source": [
        "result = plot_feature_importance(model_gbr.feature_importances_, list(df_train_x))"
      ],
      "metadata": {
        "id": "54YRg_5g-J3L"
      },
      "id": "54YRg_5g-J3L",
      "execution_count": null,
      "outputs": []
    },
    {
      "cell_type": "code",
      "source": [
        "explainer6 = shap.TreeExplainer(model_gbr)\n",
        "shap_values6 = explainer6.shap_values(train_x_std[nums])\n",
        "\n",
        "shap.initjs() # javascript 시각화 라이브러리 --> colab에서는 모든 셀에 포함시켜야 함.\n",
        "\n",
        "# force_plot(전체평균, shapley_values, input)\n",
        "shap.force_plot(explainer6.expected_value, shap_values6[444, :], df_train_x.iloc[[nums[444]],:])"
      ],
      "metadata": {
        "id": "PTsJab4h-O1W"
      },
      "id": "PTsJab4h-O1W",
      "execution_count": null,
      "outputs": []
    },
    {
      "cell_type": "code",
      "source": [
        "model_performance = pd.DataFrame(model_performance).T\n",
        "model_performance.columns = ['r2_score', 'RMSE']"
      ],
      "metadata": {
        "id": "Az1nORXsAlpE"
      },
      "id": "Az1nORXsAlpE",
      "execution_count": null,
      "outputs": []
    },
    {
      "cell_type": "code",
      "source": [
        "model_performance.sort_values(by='r2_score', ascending=False)"
      ],
      "metadata": {
        "colab": {
          "base_uri": "https://localhost:8080/",
          "height": 300
        },
        "id": "6bcAQGdrBIM8",
        "outputId": "2a3ac4f2-2bc6-493e-f5a1-41cea0bdab2d"
      },
      "id": "6bcAQGdrBIM8",
      "execution_count": null,
      "outputs": [
        {
          "output_type": "execute_result",
          "data": {
            "text/plain": [
              "                               r2_score         RMSE\n",
              "GBR_GridSearch_std             0.781853  1667.233622\n",
              "GBR_GridSearch                 0.779314  1676.905058\n",
              "GradientBoostingRegressor_std  0.778644  1679.451003\n",
              "GradientBoostingRegressor      0.778633  1679.491794\n",
              "LinearRegression               0.769944  1712.135282\n",
              "LinearRegression_std           0.769944  1712.135282\n",
              "RandomForestRegressor          0.757249  1758.741437\n",
              "RandomForestRegression_std     0.753371  1772.733566"
            ],
            "text/html": [
              "\n",
              "  <div id=\"df-df8d2829-0ff9-42d4-b5d2-4ed98ad2159a\" class=\"colab-df-container\">\n",
              "    <div>\n",
              "<style scoped>\n",
              "    .dataframe tbody tr th:only-of-type {\n",
              "        vertical-align: middle;\n",
              "    }\n",
              "\n",
              "    .dataframe tbody tr th {\n",
              "        vertical-align: top;\n",
              "    }\n",
              "\n",
              "    .dataframe thead th {\n",
              "        text-align: right;\n",
              "    }\n",
              "</style>\n",
              "<table border=\"1\" class=\"dataframe\">\n",
              "  <thead>\n",
              "    <tr style=\"text-align: right;\">\n",
              "      <th></th>\n",
              "      <th>r2_score</th>\n",
              "      <th>RMSE</th>\n",
              "    </tr>\n",
              "  </thead>\n",
              "  <tbody>\n",
              "    <tr>\n",
              "      <th>GBR_GridSearch_std</th>\n",
              "      <td>0.781853</td>\n",
              "      <td>1667.233622</td>\n",
              "    </tr>\n",
              "    <tr>\n",
              "      <th>GBR_GridSearch</th>\n",
              "      <td>0.779314</td>\n",
              "      <td>1676.905058</td>\n",
              "    </tr>\n",
              "    <tr>\n",
              "      <th>GradientBoostingRegressor_std</th>\n",
              "      <td>0.778644</td>\n",
              "      <td>1679.451003</td>\n",
              "    </tr>\n",
              "    <tr>\n",
              "      <th>GradientBoostingRegressor</th>\n",
              "      <td>0.778633</td>\n",
              "      <td>1679.491794</td>\n",
              "    </tr>\n",
              "    <tr>\n",
              "      <th>LinearRegression</th>\n",
              "      <td>0.769944</td>\n",
              "      <td>1712.135282</td>\n",
              "    </tr>\n",
              "    <tr>\n",
              "      <th>LinearRegression_std</th>\n",
              "      <td>0.769944</td>\n",
              "      <td>1712.135282</td>\n",
              "    </tr>\n",
              "    <tr>\n",
              "      <th>RandomForestRegressor</th>\n",
              "      <td>0.757249</td>\n",
              "      <td>1758.741437</td>\n",
              "    </tr>\n",
              "    <tr>\n",
              "      <th>RandomForestRegression_std</th>\n",
              "      <td>0.753371</td>\n",
              "      <td>1772.733566</td>\n",
              "    </tr>\n",
              "  </tbody>\n",
              "</table>\n",
              "</div>\n",
              "    <div class=\"colab-df-buttons\">\n",
              "\n",
              "  <div class=\"colab-df-container\">\n",
              "    <button class=\"colab-df-convert\" onclick=\"convertToInteractive('df-df8d2829-0ff9-42d4-b5d2-4ed98ad2159a')\"\n",
              "            title=\"Convert this dataframe to an interactive table.\"\n",
              "            style=\"display:none;\">\n",
              "\n",
              "  <svg xmlns=\"http://www.w3.org/2000/svg\" height=\"24px\" viewBox=\"0 -960 960 960\">\n",
              "    <path d=\"M120-120v-720h720v720H120Zm60-500h600v-160H180v160Zm220 220h160v-160H400v160Zm0 220h160v-160H400v160ZM180-400h160v-160H180v160Zm440 0h160v-160H620v160ZM180-180h160v-160H180v160Zm440 0h160v-160H620v160Z\"/>\n",
              "  </svg>\n",
              "    </button>\n",
              "\n",
              "  <style>\n",
              "    .colab-df-container {\n",
              "      display:flex;\n",
              "      gap: 12px;\n",
              "    }\n",
              "\n",
              "    .colab-df-convert {\n",
              "      background-color: #E8F0FE;\n",
              "      border: none;\n",
              "      border-radius: 50%;\n",
              "      cursor: pointer;\n",
              "      display: none;\n",
              "      fill: #1967D2;\n",
              "      height: 32px;\n",
              "      padding: 0 0 0 0;\n",
              "      width: 32px;\n",
              "    }\n",
              "\n",
              "    .colab-df-convert:hover {\n",
              "      background-color: #E2EBFA;\n",
              "      box-shadow: 0px 1px 2px rgba(60, 64, 67, 0.3), 0px 1px 3px 1px rgba(60, 64, 67, 0.15);\n",
              "      fill: #174EA6;\n",
              "    }\n",
              "\n",
              "    .colab-df-buttons div {\n",
              "      margin-bottom: 4px;\n",
              "    }\n",
              "\n",
              "    [theme=dark] .colab-df-convert {\n",
              "      background-color: #3B4455;\n",
              "      fill: #D2E3FC;\n",
              "    }\n",
              "\n",
              "    [theme=dark] .colab-df-convert:hover {\n",
              "      background-color: #434B5C;\n",
              "      box-shadow: 0px 1px 3px 1px rgba(0, 0, 0, 0.15);\n",
              "      filter: drop-shadow(0px 1px 2px rgba(0, 0, 0, 0.3));\n",
              "      fill: #FFFFFF;\n",
              "    }\n",
              "  </style>\n",
              "\n",
              "    <script>\n",
              "      const buttonEl =\n",
              "        document.querySelector('#df-df8d2829-0ff9-42d4-b5d2-4ed98ad2159a button.colab-df-convert');\n",
              "      buttonEl.style.display =\n",
              "        google.colab.kernel.accessAllowed ? 'block' : 'none';\n",
              "\n",
              "      async function convertToInteractive(key) {\n",
              "        const element = document.querySelector('#df-df8d2829-0ff9-42d4-b5d2-4ed98ad2159a');\n",
              "        const dataTable =\n",
              "          await google.colab.kernel.invokeFunction('convertToInteractive',\n",
              "                                                    [key], {});\n",
              "        if (!dataTable) return;\n",
              "\n",
              "        const docLinkHtml = 'Like what you see? Visit the ' +\n",
              "          '<a target=\"_blank\" href=https://colab.research.google.com/notebooks/data_table.ipynb>data table notebook</a>'\n",
              "          + ' to learn more about interactive tables.';\n",
              "        element.innerHTML = '';\n",
              "        dataTable['output_type'] = 'display_data';\n",
              "        await google.colab.output.renderOutput(dataTable, element);\n",
              "        const docLink = document.createElement('div');\n",
              "        docLink.innerHTML = docLinkHtml;\n",
              "        element.appendChild(docLink);\n",
              "      }\n",
              "    </script>\n",
              "  </div>\n",
              "\n",
              "\n",
              "<div id=\"df-30b28e24-5d61-497d-9f30-c766aacb5bbc\">\n",
              "  <button class=\"colab-df-quickchart\" onclick=\"quickchart('df-30b28e24-5d61-497d-9f30-c766aacb5bbc')\"\n",
              "            title=\"Suggest charts.\"\n",
              "            style=\"display:none;\">\n",
              "\n",
              "<svg xmlns=\"http://www.w3.org/2000/svg\" height=\"24px\"viewBox=\"0 0 24 24\"\n",
              "     width=\"24px\">\n",
              "    <g>\n",
              "        <path d=\"M19 3H5c-1.1 0-2 .9-2 2v14c0 1.1.9 2 2 2h14c1.1 0 2-.9 2-2V5c0-1.1-.9-2-2-2zM9 17H7v-7h2v7zm4 0h-2V7h2v10zm4 0h-2v-4h2v4z\"/>\n",
              "    </g>\n",
              "</svg>\n",
              "  </button>\n",
              "\n",
              "<style>\n",
              "  .colab-df-quickchart {\n",
              "      --bg-color: #E8F0FE;\n",
              "      --fill-color: #1967D2;\n",
              "      --hover-bg-color: #E2EBFA;\n",
              "      --hover-fill-color: #174EA6;\n",
              "      --disabled-fill-color: #AAA;\n",
              "      --disabled-bg-color: #DDD;\n",
              "  }\n",
              "\n",
              "  [theme=dark] .colab-df-quickchart {\n",
              "      --bg-color: #3B4455;\n",
              "      --fill-color: #D2E3FC;\n",
              "      --hover-bg-color: #434B5C;\n",
              "      --hover-fill-color: #FFFFFF;\n",
              "      --disabled-bg-color: #3B4455;\n",
              "      --disabled-fill-color: #666;\n",
              "  }\n",
              "\n",
              "  .colab-df-quickchart {\n",
              "    background-color: var(--bg-color);\n",
              "    border: none;\n",
              "    border-radius: 50%;\n",
              "    cursor: pointer;\n",
              "    display: none;\n",
              "    fill: var(--fill-color);\n",
              "    height: 32px;\n",
              "    padding: 0;\n",
              "    width: 32px;\n",
              "  }\n",
              "\n",
              "  .colab-df-quickchart:hover {\n",
              "    background-color: var(--hover-bg-color);\n",
              "    box-shadow: 0 1px 2px rgba(60, 64, 67, 0.3), 0 1px 3px 1px rgba(60, 64, 67, 0.15);\n",
              "    fill: var(--button-hover-fill-color);\n",
              "  }\n",
              "\n",
              "  .colab-df-quickchart-complete:disabled,\n",
              "  .colab-df-quickchart-complete:disabled:hover {\n",
              "    background-color: var(--disabled-bg-color);\n",
              "    fill: var(--disabled-fill-color);\n",
              "    box-shadow: none;\n",
              "  }\n",
              "\n",
              "  .colab-df-spinner {\n",
              "    border: 2px solid var(--fill-color);\n",
              "    border-color: transparent;\n",
              "    border-bottom-color: var(--fill-color);\n",
              "    animation:\n",
              "      spin 1s steps(1) infinite;\n",
              "  }\n",
              "\n",
              "  @keyframes spin {\n",
              "    0% {\n",
              "      border-color: transparent;\n",
              "      border-bottom-color: var(--fill-color);\n",
              "      border-left-color: var(--fill-color);\n",
              "    }\n",
              "    20% {\n",
              "      border-color: transparent;\n",
              "      border-left-color: var(--fill-color);\n",
              "      border-top-color: var(--fill-color);\n",
              "    }\n",
              "    30% {\n",
              "      border-color: transparent;\n",
              "      border-left-color: var(--fill-color);\n",
              "      border-top-color: var(--fill-color);\n",
              "      border-right-color: var(--fill-color);\n",
              "    }\n",
              "    40% {\n",
              "      border-color: transparent;\n",
              "      border-right-color: var(--fill-color);\n",
              "      border-top-color: var(--fill-color);\n",
              "    }\n",
              "    60% {\n",
              "      border-color: transparent;\n",
              "      border-right-color: var(--fill-color);\n",
              "    }\n",
              "    80% {\n",
              "      border-color: transparent;\n",
              "      border-right-color: var(--fill-color);\n",
              "      border-bottom-color: var(--fill-color);\n",
              "    }\n",
              "    90% {\n",
              "      border-color: transparent;\n",
              "      border-bottom-color: var(--fill-color);\n",
              "    }\n",
              "  }\n",
              "</style>\n",
              "\n",
              "  <script>\n",
              "    async function quickchart(key) {\n",
              "      const quickchartButtonEl =\n",
              "        document.querySelector('#' + key + ' button');\n",
              "      quickchartButtonEl.disabled = true;  // To prevent multiple clicks.\n",
              "      quickchartButtonEl.classList.add('colab-df-spinner');\n",
              "      try {\n",
              "        const charts = await google.colab.kernel.invokeFunction(\n",
              "            'suggestCharts', [key], {});\n",
              "      } catch (error) {\n",
              "        console.error('Error during call to suggestCharts:', error);\n",
              "      }\n",
              "      quickchartButtonEl.classList.remove('colab-df-spinner');\n",
              "      quickchartButtonEl.classList.add('colab-df-quickchart-complete');\n",
              "    }\n",
              "    (() => {\n",
              "      let quickchartButtonEl =\n",
              "        document.querySelector('#df-30b28e24-5d61-497d-9f30-c766aacb5bbc button');\n",
              "      quickchartButtonEl.style.display =\n",
              "        google.colab.kernel.accessAllowed ? 'block' : 'none';\n",
              "    })();\n",
              "  </script>\n",
              "</div>\n",
              "    </div>\n",
              "  </div>\n"
            ]
          },
          "metadata": {},
          "execution_count": 35
        }
      ]
    },
    {
      "cell_type": "code",
      "source": [
        "model_performance = model_performance.reset_index()\n",
        "model_performance.columns = ['model', 'r2_score', 'RMSE']"
      ],
      "metadata": {
        "id": "LHvUq2h0B6LZ"
      },
      "id": "LHvUq2h0B6LZ",
      "execution_count": null,
      "outputs": []
    },
    {
      "cell_type": "code",
      "source": [
        "model_performance"
      ],
      "metadata": {
        "colab": {
          "base_uri": "https://localhost:8080/",
          "height": 300
        },
        "id": "JW6R_g9KTzNr",
        "outputId": "5a719b42-bee0-454e-9920-b287f80addb5"
      },
      "id": "JW6R_g9KTzNr",
      "execution_count": null,
      "outputs": [
        {
          "output_type": "execute_result",
          "data": {
            "text/plain": [
              "                           model  r2_score         RMSE\n",
              "0               LinearRegression  0.769944  1712.135282\n",
              "1          RandomForestRegressor  0.757249  1758.741437\n",
              "2      GradientBoostingRegressor  0.778633  1679.491794\n",
              "3                 GBR_GridSearch  0.779314  1676.905058\n",
              "4           LinearRegression_std  0.769944  1712.135282\n",
              "5     RandomForestRegression_std  0.753371  1772.733566\n",
              "6  GradientBoostingRegressor_std  0.778644  1679.451003\n",
              "7             GBR_GridSearch_std  0.781853  1667.233622"
            ],
            "text/html": [
              "\n",
              "  <div id=\"df-55c3e7ac-d336-4519-adef-1dde9b03272a\" class=\"colab-df-container\">\n",
              "    <div>\n",
              "<style scoped>\n",
              "    .dataframe tbody tr th:only-of-type {\n",
              "        vertical-align: middle;\n",
              "    }\n",
              "\n",
              "    .dataframe tbody tr th {\n",
              "        vertical-align: top;\n",
              "    }\n",
              "\n",
              "    .dataframe thead th {\n",
              "        text-align: right;\n",
              "    }\n",
              "</style>\n",
              "<table border=\"1\" class=\"dataframe\">\n",
              "  <thead>\n",
              "    <tr style=\"text-align: right;\">\n",
              "      <th></th>\n",
              "      <th>model</th>\n",
              "      <th>r2_score</th>\n",
              "      <th>RMSE</th>\n",
              "    </tr>\n",
              "  </thead>\n",
              "  <tbody>\n",
              "    <tr>\n",
              "      <th>0</th>\n",
              "      <td>LinearRegression</td>\n",
              "      <td>0.769944</td>\n",
              "      <td>1712.135282</td>\n",
              "    </tr>\n",
              "    <tr>\n",
              "      <th>1</th>\n",
              "      <td>RandomForestRegressor</td>\n",
              "      <td>0.757249</td>\n",
              "      <td>1758.741437</td>\n",
              "    </tr>\n",
              "    <tr>\n",
              "      <th>2</th>\n",
              "      <td>GradientBoostingRegressor</td>\n",
              "      <td>0.778633</td>\n",
              "      <td>1679.491794</td>\n",
              "    </tr>\n",
              "    <tr>\n",
              "      <th>3</th>\n",
              "      <td>GBR_GridSearch</td>\n",
              "      <td>0.779314</td>\n",
              "      <td>1676.905058</td>\n",
              "    </tr>\n",
              "    <tr>\n",
              "      <th>4</th>\n",
              "      <td>LinearRegression_std</td>\n",
              "      <td>0.769944</td>\n",
              "      <td>1712.135282</td>\n",
              "    </tr>\n",
              "    <tr>\n",
              "      <th>5</th>\n",
              "      <td>RandomForestRegression_std</td>\n",
              "      <td>0.753371</td>\n",
              "      <td>1772.733566</td>\n",
              "    </tr>\n",
              "    <tr>\n",
              "      <th>6</th>\n",
              "      <td>GradientBoostingRegressor_std</td>\n",
              "      <td>0.778644</td>\n",
              "      <td>1679.451003</td>\n",
              "    </tr>\n",
              "    <tr>\n",
              "      <th>7</th>\n",
              "      <td>GBR_GridSearch_std</td>\n",
              "      <td>0.781853</td>\n",
              "      <td>1667.233622</td>\n",
              "    </tr>\n",
              "  </tbody>\n",
              "</table>\n",
              "</div>\n",
              "    <div class=\"colab-df-buttons\">\n",
              "\n",
              "  <div class=\"colab-df-container\">\n",
              "    <button class=\"colab-df-convert\" onclick=\"convertToInteractive('df-55c3e7ac-d336-4519-adef-1dde9b03272a')\"\n",
              "            title=\"Convert this dataframe to an interactive table.\"\n",
              "            style=\"display:none;\">\n",
              "\n",
              "  <svg xmlns=\"http://www.w3.org/2000/svg\" height=\"24px\" viewBox=\"0 -960 960 960\">\n",
              "    <path d=\"M120-120v-720h720v720H120Zm60-500h600v-160H180v160Zm220 220h160v-160H400v160Zm0 220h160v-160H400v160ZM180-400h160v-160H180v160Zm440 0h160v-160H620v160ZM180-180h160v-160H180v160Zm440 0h160v-160H620v160Z\"/>\n",
              "  </svg>\n",
              "    </button>\n",
              "\n",
              "  <style>\n",
              "    .colab-df-container {\n",
              "      display:flex;\n",
              "      gap: 12px;\n",
              "    }\n",
              "\n",
              "    .colab-df-convert {\n",
              "      background-color: #E8F0FE;\n",
              "      border: none;\n",
              "      border-radius: 50%;\n",
              "      cursor: pointer;\n",
              "      display: none;\n",
              "      fill: #1967D2;\n",
              "      height: 32px;\n",
              "      padding: 0 0 0 0;\n",
              "      width: 32px;\n",
              "    }\n",
              "\n",
              "    .colab-df-convert:hover {\n",
              "      background-color: #E2EBFA;\n",
              "      box-shadow: 0px 1px 2px rgba(60, 64, 67, 0.3), 0px 1px 3px 1px rgba(60, 64, 67, 0.15);\n",
              "      fill: #174EA6;\n",
              "    }\n",
              "\n",
              "    .colab-df-buttons div {\n",
              "      margin-bottom: 4px;\n",
              "    }\n",
              "\n",
              "    [theme=dark] .colab-df-convert {\n",
              "      background-color: #3B4455;\n",
              "      fill: #D2E3FC;\n",
              "    }\n",
              "\n",
              "    [theme=dark] .colab-df-convert:hover {\n",
              "      background-color: #434B5C;\n",
              "      box-shadow: 0px 1px 3px 1px rgba(0, 0, 0, 0.15);\n",
              "      filter: drop-shadow(0px 1px 2px rgba(0, 0, 0, 0.3));\n",
              "      fill: #FFFFFF;\n",
              "    }\n",
              "  </style>\n",
              "\n",
              "    <script>\n",
              "      const buttonEl =\n",
              "        document.querySelector('#df-55c3e7ac-d336-4519-adef-1dde9b03272a button.colab-df-convert');\n",
              "      buttonEl.style.display =\n",
              "        google.colab.kernel.accessAllowed ? 'block' : 'none';\n",
              "\n",
              "      async function convertToInteractive(key) {\n",
              "        const element = document.querySelector('#df-55c3e7ac-d336-4519-adef-1dde9b03272a');\n",
              "        const dataTable =\n",
              "          await google.colab.kernel.invokeFunction('convertToInteractive',\n",
              "                                                    [key], {});\n",
              "        if (!dataTable) return;\n",
              "\n",
              "        const docLinkHtml = 'Like what you see? Visit the ' +\n",
              "          '<a target=\"_blank\" href=https://colab.research.google.com/notebooks/data_table.ipynb>data table notebook</a>'\n",
              "          + ' to learn more about interactive tables.';\n",
              "        element.innerHTML = '';\n",
              "        dataTable['output_type'] = 'display_data';\n",
              "        await google.colab.output.renderOutput(dataTable, element);\n",
              "        const docLink = document.createElement('div');\n",
              "        docLink.innerHTML = docLinkHtml;\n",
              "        element.appendChild(docLink);\n",
              "      }\n",
              "    </script>\n",
              "  </div>\n",
              "\n",
              "\n",
              "<div id=\"df-a4c1efda-7649-4a8a-9c2d-7e1ada30d5cd\">\n",
              "  <button class=\"colab-df-quickchart\" onclick=\"quickchart('df-a4c1efda-7649-4a8a-9c2d-7e1ada30d5cd')\"\n",
              "            title=\"Suggest charts.\"\n",
              "            style=\"display:none;\">\n",
              "\n",
              "<svg xmlns=\"http://www.w3.org/2000/svg\" height=\"24px\"viewBox=\"0 0 24 24\"\n",
              "     width=\"24px\">\n",
              "    <g>\n",
              "        <path d=\"M19 3H5c-1.1 0-2 .9-2 2v14c0 1.1.9 2 2 2h14c1.1 0 2-.9 2-2V5c0-1.1-.9-2-2-2zM9 17H7v-7h2v7zm4 0h-2V7h2v10zm4 0h-2v-4h2v4z\"/>\n",
              "    </g>\n",
              "</svg>\n",
              "  </button>\n",
              "\n",
              "<style>\n",
              "  .colab-df-quickchart {\n",
              "      --bg-color: #E8F0FE;\n",
              "      --fill-color: #1967D2;\n",
              "      --hover-bg-color: #E2EBFA;\n",
              "      --hover-fill-color: #174EA6;\n",
              "      --disabled-fill-color: #AAA;\n",
              "      --disabled-bg-color: #DDD;\n",
              "  }\n",
              "\n",
              "  [theme=dark] .colab-df-quickchart {\n",
              "      --bg-color: #3B4455;\n",
              "      --fill-color: #D2E3FC;\n",
              "      --hover-bg-color: #434B5C;\n",
              "      --hover-fill-color: #FFFFFF;\n",
              "      --disabled-bg-color: #3B4455;\n",
              "      --disabled-fill-color: #666;\n",
              "  }\n",
              "\n",
              "  .colab-df-quickchart {\n",
              "    background-color: var(--bg-color);\n",
              "    border: none;\n",
              "    border-radius: 50%;\n",
              "    cursor: pointer;\n",
              "    display: none;\n",
              "    fill: var(--fill-color);\n",
              "    height: 32px;\n",
              "    padding: 0;\n",
              "    width: 32px;\n",
              "  }\n",
              "\n",
              "  .colab-df-quickchart:hover {\n",
              "    background-color: var(--hover-bg-color);\n",
              "    box-shadow: 0 1px 2px rgba(60, 64, 67, 0.3), 0 1px 3px 1px rgba(60, 64, 67, 0.15);\n",
              "    fill: var(--button-hover-fill-color);\n",
              "  }\n",
              "\n",
              "  .colab-df-quickchart-complete:disabled,\n",
              "  .colab-df-quickchart-complete:disabled:hover {\n",
              "    background-color: var(--disabled-bg-color);\n",
              "    fill: var(--disabled-fill-color);\n",
              "    box-shadow: none;\n",
              "  }\n",
              "\n",
              "  .colab-df-spinner {\n",
              "    border: 2px solid var(--fill-color);\n",
              "    border-color: transparent;\n",
              "    border-bottom-color: var(--fill-color);\n",
              "    animation:\n",
              "      spin 1s steps(1) infinite;\n",
              "  }\n",
              "\n",
              "  @keyframes spin {\n",
              "    0% {\n",
              "      border-color: transparent;\n",
              "      border-bottom-color: var(--fill-color);\n",
              "      border-left-color: var(--fill-color);\n",
              "    }\n",
              "    20% {\n",
              "      border-color: transparent;\n",
              "      border-left-color: var(--fill-color);\n",
              "      border-top-color: var(--fill-color);\n",
              "    }\n",
              "    30% {\n",
              "      border-color: transparent;\n",
              "      border-left-color: var(--fill-color);\n",
              "      border-top-color: var(--fill-color);\n",
              "      border-right-color: var(--fill-color);\n",
              "    }\n",
              "    40% {\n",
              "      border-color: transparent;\n",
              "      border-right-color: var(--fill-color);\n",
              "      border-top-color: var(--fill-color);\n",
              "    }\n",
              "    60% {\n",
              "      border-color: transparent;\n",
              "      border-right-color: var(--fill-color);\n",
              "    }\n",
              "    80% {\n",
              "      border-color: transparent;\n",
              "      border-right-color: var(--fill-color);\n",
              "      border-bottom-color: var(--fill-color);\n",
              "    }\n",
              "    90% {\n",
              "      border-color: transparent;\n",
              "      border-bottom-color: var(--fill-color);\n",
              "    }\n",
              "  }\n",
              "</style>\n",
              "\n",
              "  <script>\n",
              "    async function quickchart(key) {\n",
              "      const quickchartButtonEl =\n",
              "        document.querySelector('#' + key + ' button');\n",
              "      quickchartButtonEl.disabled = true;  // To prevent multiple clicks.\n",
              "      quickchartButtonEl.classList.add('colab-df-spinner');\n",
              "      try {\n",
              "        const charts = await google.colab.kernel.invokeFunction(\n",
              "            'suggestCharts', [key], {});\n",
              "      } catch (error) {\n",
              "        console.error('Error during call to suggestCharts:', error);\n",
              "      }\n",
              "      quickchartButtonEl.classList.remove('colab-df-spinner');\n",
              "      quickchartButtonEl.classList.add('colab-df-quickchart-complete');\n",
              "    }\n",
              "    (() => {\n",
              "      let quickchartButtonEl =\n",
              "        document.querySelector('#df-a4c1efda-7649-4a8a-9c2d-7e1ada30d5cd button');\n",
              "      quickchartButtonEl.style.display =\n",
              "        google.colab.kernel.accessAllowed ? 'block' : 'none';\n",
              "    })();\n",
              "  </script>\n",
              "</div>\n",
              "    </div>\n",
              "  </div>\n"
            ]
          },
          "metadata": {},
          "execution_count": 37
        }
      ]
    },
    {
      "cell_type": "code",
      "source": [
        "plt.figure(figsize=(20, 5))\n",
        "sns.barplot(x='r2_score', y='model', data=model_performance.sort_values(by='r2_score', ascending=False))\n",
        "plt.xlabel('r2_score')\n",
        "plt.ylabel('model')\n",
        "plt.grid()\n",
        "plt.show()"
      ],
      "metadata": {
        "id": "vviNbZwtBbqs"
      },
      "id": "vviNbZwtBbqs",
      "execution_count": null,
      "outputs": []
    },
    {
      "cell_type": "code",
      "source": [
        "plt.figure(figsize=(20, 5))\n",
        "sns.barplot(x='RMSE', y='model', data=model_performance.sort_values(by='RMSE'))\n",
        "plt.xlabel('RMSE')\n",
        "plt.ylabel('model')\n",
        "plt.grid()\n",
        "plt.show()"
      ],
      "metadata": {
        "id": "pb3V71aIDJCR"
      },
      "id": "pb3V71aIDJCR",
      "execution_count": null,
      "outputs": []
    },
    {
      "cell_type": "markdown",
      "id": "f054fd75",
      "metadata": {
        "id": "f054fd75"
      },
      "source": [
        "---"
      ]
    },
    {
      "cell_type": "markdown",
      "id": "typical-optics",
      "metadata": {
        "id": "typical-optics"
      },
      "source": [
        "# 2. Deep Learning\n",
        "## 이번엔 딥러닝 모델링을 해봅시다."
      ]
    },
    {
      "cell_type": "markdown",
      "id": "numeric-dealer",
      "metadata": {
        "id": "numeric-dealer"
      },
      "source": [
        "#### [실습문제9] 딥러닝\n",
        "\n",
        "* tensorflow 라이브러리를 활용한 모델을 자유롭게 만들어보세요."
      ]
    },
    {
      "cell_type": "code",
      "execution_count": null,
      "id": "bb331b21",
      "metadata": {
        "id": "bb331b21"
      },
      "outputs": [],
      "source": [
        "# 아래에 실습코드를 작성하세요.\n",
        "import tensorflow as tf"
      ]
    },
    {
      "cell_type": "code",
      "source": [
        "X = tf.keras.Input(shape=[3])\n",
        "Y = tf.keras.layers.Dense(1)(X)\n",
        "model_1 = tf.keras.Model(X, Y)\n",
        "model_1.compile(loss='mse')\n",
        "model_1.summary()"
      ],
      "metadata": {
        "colab": {
          "base_uri": "https://localhost:8080/"
        },
        "id": "0hlIzMcTDvBv",
        "outputId": "22e5ecb5-e3d1-4051-90d0-695ce893564b"
      },
      "id": "0hlIzMcTDvBv",
      "execution_count": null,
      "outputs": [
        {
          "output_type": "stream",
          "name": "stdout",
          "text": [
            "Model: \"model\"\n",
            "_________________________________________________________________\n",
            " Layer (type)                Output Shape              Param #   \n",
            "=================================================================\n",
            " input_1 (InputLayer)        [(None, 3)]               0         \n",
            "                                                                 \n",
            " dense (Dense)               (None, 1)                 4         \n",
            "                                                                 \n",
            "=================================================================\n",
            "Total params: 4 (16.00 Byte)\n",
            "Trainable params: 4 (16.00 Byte)\n",
            "Non-trainable params: 0 (0.00 Byte)\n",
            "_________________________________________________________________\n"
          ]
        }
      ]
    },
    {
      "cell_type": "code",
      "source": [
        "model_performance2 = {}"
      ],
      "metadata": {
        "id": "RNkFN1D-Y3sm"
      },
      "id": "RNkFN1D-Y3sm",
      "execution_count": null,
      "outputs": []
    },
    {
      "cell_type": "code",
      "source": [
        "early = tf.keras.callbacks.EarlyStopping(patience = 20, restore_best_weights=True)\n",
        "model_1.fit(train_x, train_y, epochs = 1000, validation_split = 0.2, batch_size = 32, callbacks = [early])\n",
        "y_pred1 = model_1.predict(test_x)\n",
        "print('R2 Score :', r2_score(test_y, y_pred1))\n",
        "print('RMSE :', np.sqrt(mean_squared_error(test_y, y_pred1)))\n",
        "model_performance2['DL_1layer'] = [r2_score(test_y, y_pred1), np.sqrt(mean_squared_error(test_y, y_pred1))]"
      ],
      "metadata": {
        "colab": {
          "base_uri": "https://localhost:8080/"
        },
        "id": "dXAtlV6REI85",
        "outputId": "f8915a56-4679-4648-a207-5fc4d7dbfb74"
      },
      "id": "dXAtlV6REI85",
      "execution_count": null,
      "outputs": [
        {
          "output_type": "stream",
          "name": "stdout",
          "text": [
            "Epoch 1/1000\n",
            "1084/1084 [==============================] - 2s 2ms/step - loss: 2449947.7500 - val_loss: 894778.1250\n",
            "Epoch 2/1000\n",
            "1084/1084 [==============================] - 2s 2ms/step - loss: 2446108.2500 - val_loss: 991945.2500\n",
            "Epoch 3/1000\n",
            "1084/1084 [==============================] - 2s 2ms/step - loss: 2442162.5000 - val_loss: 897509.6250\n",
            "Epoch 4/1000\n",
            "1084/1084 [==============================] - 3s 3ms/step - loss: 2438467.7500 - val_loss: 896491.2500\n",
            "Epoch 5/1000\n",
            "1084/1084 [==============================] - 4s 4ms/step - loss: 2438397.2500 - val_loss: 914030.8125\n",
            "Epoch 6/1000\n",
            "1084/1084 [==============================] - 5s 5ms/step - loss: 2438420.7500 - val_loss: 938409.5625\n",
            "Epoch 7/1000\n",
            "1084/1084 [==============================] - 2s 2ms/step - loss: 2438024.7500 - val_loss: 902990.3125\n",
            "Epoch 8/1000\n",
            "1084/1084 [==============================] - 3s 3ms/step - loss: 2438231.7500 - val_loss: 952029.9375\n",
            "Epoch 9/1000\n",
            "1084/1084 [==============================] - 3s 3ms/step - loss: 2436761.5000 - val_loss: 899937.0625\n",
            "Epoch 10/1000\n",
            "1084/1084 [==============================] - 2s 2ms/step - loss: 2438861.5000 - val_loss: 917621.6875\n",
            "Epoch 11/1000\n",
            "1084/1084 [==============================] - 2s 2ms/step - loss: 2436427.2500 - val_loss: 907364.5000\n",
            "Epoch 12/1000\n",
            "1084/1084 [==============================] - 2s 2ms/step - loss: 2435084.5000 - val_loss: 993166.6250\n",
            "Epoch 13/1000\n",
            "1084/1084 [==============================] - 2s 2ms/step - loss: 2437670.7500 - val_loss: 901982.7500\n",
            "Epoch 14/1000\n",
            "1084/1084 [==============================] - 3s 2ms/step - loss: 2435083.0000 - val_loss: 900288.3125\n",
            "Epoch 15/1000\n",
            "1084/1084 [==============================] - 3s 3ms/step - loss: 2436382.0000 - val_loss: 901521.6875\n",
            "Epoch 16/1000\n",
            "1084/1084 [==============================] - 2s 2ms/step - loss: 2438361.0000 - val_loss: 900596.2500\n",
            "Epoch 17/1000\n",
            "1084/1084 [==============================] - 2s 2ms/step - loss: 2438112.7500 - val_loss: 905347.1250\n",
            "Epoch 18/1000\n",
            "1084/1084 [==============================] - 2s 2ms/step - loss: 2437843.7500 - val_loss: 901065.0000\n",
            "Epoch 19/1000\n",
            "1084/1084 [==============================] - 2s 2ms/step - loss: 2436916.7500 - val_loss: 915333.1250\n",
            "Epoch 20/1000\n",
            "1084/1084 [==============================] - 3s 3ms/step - loss: 2437995.7500 - val_loss: 919643.0625\n",
            "Epoch 21/1000\n",
            "1084/1084 [==============================] - 3s 3ms/step - loss: 2436481.7500 - val_loss: 902971.7500\n",
            "131/131 [==============================] - 0s 1ms/step\n",
            "R2 Score : 0.7564697685681132\n",
            "RMSE : 1761.5618410565796\n"
          ]
        }
      ]
    },
    {
      "cell_type": "code",
      "source": [
        "X = tf.keras.Input(shape = [3])\n",
        "H = tf.keras.layers.Dense(2)(X)\n",
        "H = tf.keras.layers.Dense(2)(X)\n",
        "Y = tf.keras.layers.Dense(1)(H)\n",
        "model2 = tf.keras.Model(X, Y)\n",
        "model2.compile(loss = 'mse')\n",
        "early = tf.keras.callbacks.EarlyStopping(patience = 20, restore_best_weights=True)\n",
        "model2.fit(train_x, train_y, epochs = 1000, validation_split = 0.2, batch_size = 32, callbacks = [early])\n",
        "y_pred2 = model2.predict(test_x)\n",
        "print('R2 Score :', r2_score(test_y, y_pred2))\n",
        "print('RMSE :', np.sqrt(mean_squared_error(test_y, y_pred2)))\n",
        "model_performance2['DL_3layer'] = [r2_score(test_y, y_pred2), np.sqrt(mean_squared_error(test_y, y_pred2))]"
      ],
      "metadata": {
        "colab": {
          "base_uri": "https://localhost:8080/"
        },
        "id": "jjYqyu8Ak6ME",
        "outputId": "1806205a-c9a3-4b20-ed77-612df0150682"
      },
      "id": "jjYqyu8Ak6ME",
      "execution_count": null,
      "outputs": [
        {
          "output_type": "stream",
          "name": "stdout",
          "text": [
            "Epoch 1/1000\n",
            "1084/1084 [==============================] - 7s 5ms/step - loss: 12187525.0000 - val_loss: 1267043.7500\n",
            "Epoch 2/1000\n",
            "1084/1084 [==============================] - 3s 3ms/step - loss: 2845313.5000 - val_loss: 1132673.8750\n",
            "Epoch 3/1000\n",
            "1084/1084 [==============================] - 3s 3ms/step - loss: 2653464.5000 - val_loss: 1030420.1875\n",
            "Epoch 4/1000\n",
            "1084/1084 [==============================] - 3s 2ms/step - loss: 2558631.7500 - val_loss: 979764.9375\n",
            "Epoch 5/1000\n",
            "1084/1084 [==============================] - 2s 2ms/step - loss: 2509428.7500 - val_loss: 1196095.6250\n",
            "Epoch 6/1000\n",
            "1084/1084 [==============================] - 3s 3ms/step - loss: 2482675.7500 - val_loss: 945934.6875\n",
            "Epoch 7/1000\n",
            "1084/1084 [==============================] - 2s 2ms/step - loss: 2468394.7500 - val_loss: 940719.3750\n",
            "Epoch 8/1000\n",
            "1084/1084 [==============================] - 3s 3ms/step - loss: 2458255.5000 - val_loss: 917503.6875\n",
            "Epoch 9/1000\n",
            "1084/1084 [==============================] - 3s 3ms/step - loss: 2457048.7500 - val_loss: 929629.3125\n",
            "Epoch 10/1000\n",
            "1084/1084 [==============================] - 2s 2ms/step - loss: 2456713.7500 - val_loss: 912921.1250\n",
            "Epoch 11/1000\n",
            "1084/1084 [==============================] - 2s 2ms/step - loss: 2453029.0000 - val_loss: 915608.0000\n",
            "Epoch 12/1000\n",
            "1084/1084 [==============================] - 2s 2ms/step - loss: 2454226.2500 - val_loss: 915725.6875\n",
            "Epoch 13/1000\n",
            "1084/1084 [==============================] - 2s 2ms/step - loss: 2451830.0000 - val_loss: 904241.0625\n",
            "Epoch 14/1000\n",
            "1084/1084 [==============================] - 3s 3ms/step - loss: 2452547.7500 - val_loss: 951521.4375\n",
            "Epoch 15/1000\n",
            "1084/1084 [==============================] - 3s 2ms/step - loss: 2450991.0000 - val_loss: 922299.3125\n",
            "Epoch 16/1000\n",
            "1084/1084 [==============================] - 3s 2ms/step - loss: 2455643.5000 - val_loss: 946896.5625\n",
            "Epoch 17/1000\n",
            "1084/1084 [==============================] - 3s 2ms/step - loss: 2453510.0000 - val_loss: 901772.9375\n",
            "Epoch 18/1000\n",
            "1084/1084 [==============================] - 2s 2ms/step - loss: 2454533.0000 - val_loss: 907022.8750\n",
            "Epoch 19/1000\n",
            "1084/1084 [==============================] - 3s 3ms/step - loss: 2449712.7500 - val_loss: 908846.9375\n",
            "Epoch 20/1000\n",
            "1084/1084 [==============================] - 3s 3ms/step - loss: 2452891.5000 - val_loss: 902841.8125\n",
            "Epoch 21/1000\n",
            "1084/1084 [==============================] - 2s 2ms/step - loss: 2451349.5000 - val_loss: 901794.8750\n",
            "Epoch 22/1000\n",
            "1084/1084 [==============================] - 3s 2ms/step - loss: 2453247.2500 - val_loss: 903637.5000\n",
            "Epoch 23/1000\n",
            "1084/1084 [==============================] - 2s 2ms/step - loss: 2450975.7500 - val_loss: 900660.6250\n",
            "Epoch 24/1000\n",
            "1084/1084 [==============================] - 3s 2ms/step - loss: 2452590.7500 - val_loss: 1041882.5000\n",
            "Epoch 25/1000\n",
            "1084/1084 [==============================] - 5s 5ms/step - loss: 2451335.7500 - val_loss: 931990.3125\n",
            "Epoch 26/1000\n",
            "1084/1084 [==============================] - 2s 2ms/step - loss: 2448393.0000 - val_loss: 917891.8125\n",
            "Epoch 27/1000\n",
            "1084/1084 [==============================] - 3s 2ms/step - loss: 2452422.2500 - val_loss: 914168.9375\n",
            "Epoch 28/1000\n",
            "1084/1084 [==============================] - 2s 2ms/step - loss: 2452312.2500 - val_loss: 964065.2500\n",
            "Epoch 29/1000\n",
            "1084/1084 [==============================] - 3s 3ms/step - loss: 2454057.5000 - val_loss: 904859.2500\n",
            "Epoch 30/1000\n",
            "1084/1084 [==============================] - 3s 3ms/step - loss: 2452342.5000 - val_loss: 956232.1250\n",
            "Epoch 31/1000\n",
            "1084/1084 [==============================] - 4s 3ms/step - loss: 2451534.2500 - val_loss: 906104.9375\n",
            "Epoch 32/1000\n",
            "1084/1084 [==============================] - 3s 3ms/step - loss: 2453655.2500 - val_loss: 901244.9375\n",
            "Epoch 33/1000\n",
            "1084/1084 [==============================] - 2s 2ms/step - loss: 2455595.5000 - val_loss: 916754.5625\n",
            "Epoch 34/1000\n",
            "1084/1084 [==============================] - 3s 3ms/step - loss: 2454409.7500 - val_loss: 901452.2500\n",
            "Epoch 35/1000\n",
            "1084/1084 [==============================] - 3s 3ms/step - loss: 2453523.7500 - val_loss: 911328.5000\n",
            "Epoch 36/1000\n",
            "1084/1084 [==============================] - 2s 2ms/step - loss: 2453723.0000 - val_loss: 905720.9375\n",
            "Epoch 37/1000\n",
            "1084/1084 [==============================] - 2s 2ms/step - loss: 2450883.5000 - val_loss: 904011.5000\n",
            "Epoch 38/1000\n",
            "1084/1084 [==============================] - 3s 2ms/step - loss: 2449522.7500 - val_loss: 914714.0000\n",
            "Epoch 39/1000\n",
            "1084/1084 [==============================] - 3s 3ms/step - loss: 2451274.2500 - val_loss: 1008118.9375\n",
            "Epoch 40/1000\n",
            "1084/1084 [==============================] - 3s 3ms/step - loss: 2451920.7500 - val_loss: 977635.2500\n",
            "Epoch 41/1000\n",
            "1084/1084 [==============================] - 2s 2ms/step - loss: 2449372.2500 - val_loss: 944102.6875\n",
            "Epoch 42/1000\n",
            "1084/1084 [==============================] - 3s 2ms/step - loss: 2451003.7500 - val_loss: 938038.5000\n",
            "Epoch 43/1000\n",
            "1084/1084 [==============================] - 3s 2ms/step - loss: 2453918.0000 - val_loss: 902310.6250\n",
            "131/131 [==============================] - 0s 2ms/step\n",
            "R2 Score : 0.7662944316079218\n",
            "RMSE : 1725.6629838944461\n"
          ]
        }
      ]
    },
    {
      "cell_type": "code",
      "execution_count": null,
      "id": "a0d4ce12",
      "metadata": {
        "id": "a0d4ce12"
      },
      "outputs": [],
      "source": [
        "# 아래에 실습코드를 작성하세요.\n",
        "model_performance2 = pd.DataFrame(model_performance2).T\n",
        "model_performance2 = model_performance2.reset_index()\n",
        "model_performance2.columns = ['model', 'r2_score', 'RMSE']"
      ]
    },
    {
      "cell_type": "code",
      "source": [
        "model_performance"
      ],
      "metadata": {
        "colab": {
          "base_uri": "https://localhost:8080/",
          "height": 363
        },
        "id": "Kn9XHymwnRpZ",
        "outputId": "f66c4807-990f-45c9-f1b9-31b09f90b9a3"
      },
      "id": "Kn9XHymwnRpZ",
      "execution_count": null,
      "outputs": [
        {
          "output_type": "execute_result",
          "data": {
            "text/plain": [
              "                           model  r2_score         RMSE\n",
              "0               LinearRegression  0.769944  1712.135282\n",
              "1          RandomForestRegressor  0.757249  1758.741437\n",
              "2      GradientBoostingRegressor  0.778633  1679.491794\n",
              "3                 GBR_GridSearch  0.779314  1676.905058\n",
              "4           LinearRegression_std  0.769944  1712.135282\n",
              "5     RandomForestRegression_std  0.753371  1772.733566\n",
              "6  GradientBoostingRegressor_std  0.778644  1679.451003\n",
              "7             GBR_GridSearch_std  0.781853  1667.233622\n",
              "0                      DL_1layer  0.753901  1770.827105\n",
              "1                      DL_3layer  0.766294  1725.662984"
            ],
            "text/html": [
              "\n",
              "  <div id=\"df-9a049035-19c8-4dc1-8ddc-c0268d0f5830\" class=\"colab-df-container\">\n",
              "    <div>\n",
              "<style scoped>\n",
              "    .dataframe tbody tr th:only-of-type {\n",
              "        vertical-align: middle;\n",
              "    }\n",
              "\n",
              "    .dataframe tbody tr th {\n",
              "        vertical-align: top;\n",
              "    }\n",
              "\n",
              "    .dataframe thead th {\n",
              "        text-align: right;\n",
              "    }\n",
              "</style>\n",
              "<table border=\"1\" class=\"dataframe\">\n",
              "  <thead>\n",
              "    <tr style=\"text-align: right;\">\n",
              "      <th></th>\n",
              "      <th>model</th>\n",
              "      <th>r2_score</th>\n",
              "      <th>RMSE</th>\n",
              "    </tr>\n",
              "  </thead>\n",
              "  <tbody>\n",
              "    <tr>\n",
              "      <th>0</th>\n",
              "      <td>LinearRegression</td>\n",
              "      <td>0.769944</td>\n",
              "      <td>1712.135282</td>\n",
              "    </tr>\n",
              "    <tr>\n",
              "      <th>1</th>\n",
              "      <td>RandomForestRegressor</td>\n",
              "      <td>0.757249</td>\n",
              "      <td>1758.741437</td>\n",
              "    </tr>\n",
              "    <tr>\n",
              "      <th>2</th>\n",
              "      <td>GradientBoostingRegressor</td>\n",
              "      <td>0.778633</td>\n",
              "      <td>1679.491794</td>\n",
              "    </tr>\n",
              "    <tr>\n",
              "      <th>3</th>\n",
              "      <td>GBR_GridSearch</td>\n",
              "      <td>0.779314</td>\n",
              "      <td>1676.905058</td>\n",
              "    </tr>\n",
              "    <tr>\n",
              "      <th>4</th>\n",
              "      <td>LinearRegression_std</td>\n",
              "      <td>0.769944</td>\n",
              "      <td>1712.135282</td>\n",
              "    </tr>\n",
              "    <tr>\n",
              "      <th>5</th>\n",
              "      <td>RandomForestRegression_std</td>\n",
              "      <td>0.753371</td>\n",
              "      <td>1772.733566</td>\n",
              "    </tr>\n",
              "    <tr>\n",
              "      <th>6</th>\n",
              "      <td>GradientBoostingRegressor_std</td>\n",
              "      <td>0.778644</td>\n",
              "      <td>1679.451003</td>\n",
              "    </tr>\n",
              "    <tr>\n",
              "      <th>7</th>\n",
              "      <td>GBR_GridSearch_std</td>\n",
              "      <td>0.781853</td>\n",
              "      <td>1667.233622</td>\n",
              "    </tr>\n",
              "    <tr>\n",
              "      <th>0</th>\n",
              "      <td>DL_1layer</td>\n",
              "      <td>0.753901</td>\n",
              "      <td>1770.827105</td>\n",
              "    </tr>\n",
              "    <tr>\n",
              "      <th>1</th>\n",
              "      <td>DL_3layer</td>\n",
              "      <td>0.766294</td>\n",
              "      <td>1725.662984</td>\n",
              "    </tr>\n",
              "  </tbody>\n",
              "</table>\n",
              "</div>\n",
              "    <div class=\"colab-df-buttons\">\n",
              "\n",
              "  <div class=\"colab-df-container\">\n",
              "    <button class=\"colab-df-convert\" onclick=\"convertToInteractive('df-9a049035-19c8-4dc1-8ddc-c0268d0f5830')\"\n",
              "            title=\"Convert this dataframe to an interactive table.\"\n",
              "            style=\"display:none;\">\n",
              "\n",
              "  <svg xmlns=\"http://www.w3.org/2000/svg\" height=\"24px\" viewBox=\"0 -960 960 960\">\n",
              "    <path d=\"M120-120v-720h720v720H120Zm60-500h600v-160H180v160Zm220 220h160v-160H400v160Zm0 220h160v-160H400v160ZM180-400h160v-160H180v160Zm440 0h160v-160H620v160ZM180-180h160v-160H180v160Zm440 0h160v-160H620v160Z\"/>\n",
              "  </svg>\n",
              "    </button>\n",
              "\n",
              "  <style>\n",
              "    .colab-df-container {\n",
              "      display:flex;\n",
              "      gap: 12px;\n",
              "    }\n",
              "\n",
              "    .colab-df-convert {\n",
              "      background-color: #E8F0FE;\n",
              "      border: none;\n",
              "      border-radius: 50%;\n",
              "      cursor: pointer;\n",
              "      display: none;\n",
              "      fill: #1967D2;\n",
              "      height: 32px;\n",
              "      padding: 0 0 0 0;\n",
              "      width: 32px;\n",
              "    }\n",
              "\n",
              "    .colab-df-convert:hover {\n",
              "      background-color: #E2EBFA;\n",
              "      box-shadow: 0px 1px 2px rgba(60, 64, 67, 0.3), 0px 1px 3px 1px rgba(60, 64, 67, 0.15);\n",
              "      fill: #174EA6;\n",
              "    }\n",
              "\n",
              "    .colab-df-buttons div {\n",
              "      margin-bottom: 4px;\n",
              "    }\n",
              "\n",
              "    [theme=dark] .colab-df-convert {\n",
              "      background-color: #3B4455;\n",
              "      fill: #D2E3FC;\n",
              "    }\n",
              "\n",
              "    [theme=dark] .colab-df-convert:hover {\n",
              "      background-color: #434B5C;\n",
              "      box-shadow: 0px 1px 3px 1px rgba(0, 0, 0, 0.15);\n",
              "      filter: drop-shadow(0px 1px 2px rgba(0, 0, 0, 0.3));\n",
              "      fill: #FFFFFF;\n",
              "    }\n",
              "  </style>\n",
              "\n",
              "    <script>\n",
              "      const buttonEl =\n",
              "        document.querySelector('#df-9a049035-19c8-4dc1-8ddc-c0268d0f5830 button.colab-df-convert');\n",
              "      buttonEl.style.display =\n",
              "        google.colab.kernel.accessAllowed ? 'block' : 'none';\n",
              "\n",
              "      async function convertToInteractive(key) {\n",
              "        const element = document.querySelector('#df-9a049035-19c8-4dc1-8ddc-c0268d0f5830');\n",
              "        const dataTable =\n",
              "          await google.colab.kernel.invokeFunction('convertToInteractive',\n",
              "                                                    [key], {});\n",
              "        if (!dataTable) return;\n",
              "\n",
              "        const docLinkHtml = 'Like what you see? Visit the ' +\n",
              "          '<a target=\"_blank\" href=https://colab.research.google.com/notebooks/data_table.ipynb>data table notebook</a>'\n",
              "          + ' to learn more about interactive tables.';\n",
              "        element.innerHTML = '';\n",
              "        dataTable['output_type'] = 'display_data';\n",
              "        await google.colab.output.renderOutput(dataTable, element);\n",
              "        const docLink = document.createElement('div');\n",
              "        docLink.innerHTML = docLinkHtml;\n",
              "        element.appendChild(docLink);\n",
              "      }\n",
              "    </script>\n",
              "  </div>\n",
              "\n",
              "\n",
              "<div id=\"df-c9f2a86e-0fcd-41c6-bded-acb4e6abcd89\">\n",
              "  <button class=\"colab-df-quickchart\" onclick=\"quickchart('df-c9f2a86e-0fcd-41c6-bded-acb4e6abcd89')\"\n",
              "            title=\"Suggest charts.\"\n",
              "            style=\"display:none;\">\n",
              "\n",
              "<svg xmlns=\"http://www.w3.org/2000/svg\" height=\"24px\"viewBox=\"0 0 24 24\"\n",
              "     width=\"24px\">\n",
              "    <g>\n",
              "        <path d=\"M19 3H5c-1.1 0-2 .9-2 2v14c0 1.1.9 2 2 2h14c1.1 0 2-.9 2-2V5c0-1.1-.9-2-2-2zM9 17H7v-7h2v7zm4 0h-2V7h2v10zm4 0h-2v-4h2v4z\"/>\n",
              "    </g>\n",
              "</svg>\n",
              "  </button>\n",
              "\n",
              "<style>\n",
              "  .colab-df-quickchart {\n",
              "      --bg-color: #E8F0FE;\n",
              "      --fill-color: #1967D2;\n",
              "      --hover-bg-color: #E2EBFA;\n",
              "      --hover-fill-color: #174EA6;\n",
              "      --disabled-fill-color: #AAA;\n",
              "      --disabled-bg-color: #DDD;\n",
              "  }\n",
              "\n",
              "  [theme=dark] .colab-df-quickchart {\n",
              "      --bg-color: #3B4455;\n",
              "      --fill-color: #D2E3FC;\n",
              "      --hover-bg-color: #434B5C;\n",
              "      --hover-fill-color: #FFFFFF;\n",
              "      --disabled-bg-color: #3B4455;\n",
              "      --disabled-fill-color: #666;\n",
              "  }\n",
              "\n",
              "  .colab-df-quickchart {\n",
              "    background-color: var(--bg-color);\n",
              "    border: none;\n",
              "    border-radius: 50%;\n",
              "    cursor: pointer;\n",
              "    display: none;\n",
              "    fill: var(--fill-color);\n",
              "    height: 32px;\n",
              "    padding: 0;\n",
              "    width: 32px;\n",
              "  }\n",
              "\n",
              "  .colab-df-quickchart:hover {\n",
              "    background-color: var(--hover-bg-color);\n",
              "    box-shadow: 0 1px 2px rgba(60, 64, 67, 0.3), 0 1px 3px 1px rgba(60, 64, 67, 0.15);\n",
              "    fill: var(--button-hover-fill-color);\n",
              "  }\n",
              "\n",
              "  .colab-df-quickchart-complete:disabled,\n",
              "  .colab-df-quickchart-complete:disabled:hover {\n",
              "    background-color: var(--disabled-bg-color);\n",
              "    fill: var(--disabled-fill-color);\n",
              "    box-shadow: none;\n",
              "  }\n",
              "\n",
              "  .colab-df-spinner {\n",
              "    border: 2px solid var(--fill-color);\n",
              "    border-color: transparent;\n",
              "    border-bottom-color: var(--fill-color);\n",
              "    animation:\n",
              "      spin 1s steps(1) infinite;\n",
              "  }\n",
              "\n",
              "  @keyframes spin {\n",
              "    0% {\n",
              "      border-color: transparent;\n",
              "      border-bottom-color: var(--fill-color);\n",
              "      border-left-color: var(--fill-color);\n",
              "    }\n",
              "    20% {\n",
              "      border-color: transparent;\n",
              "      border-left-color: var(--fill-color);\n",
              "      border-top-color: var(--fill-color);\n",
              "    }\n",
              "    30% {\n",
              "      border-color: transparent;\n",
              "      border-left-color: var(--fill-color);\n",
              "      border-top-color: var(--fill-color);\n",
              "      border-right-color: var(--fill-color);\n",
              "    }\n",
              "    40% {\n",
              "      border-color: transparent;\n",
              "      border-right-color: var(--fill-color);\n",
              "      border-top-color: var(--fill-color);\n",
              "    }\n",
              "    60% {\n",
              "      border-color: transparent;\n",
              "      border-right-color: var(--fill-color);\n",
              "    }\n",
              "    80% {\n",
              "      border-color: transparent;\n",
              "      border-right-color: var(--fill-color);\n",
              "      border-bottom-color: var(--fill-color);\n",
              "    }\n",
              "    90% {\n",
              "      border-color: transparent;\n",
              "      border-bottom-color: var(--fill-color);\n",
              "    }\n",
              "  }\n",
              "</style>\n",
              "\n",
              "  <script>\n",
              "    async function quickchart(key) {\n",
              "      const quickchartButtonEl =\n",
              "        document.querySelector('#' + key + ' button');\n",
              "      quickchartButtonEl.disabled = true;  // To prevent multiple clicks.\n",
              "      quickchartButtonEl.classList.add('colab-df-spinner');\n",
              "      try {\n",
              "        const charts = await google.colab.kernel.invokeFunction(\n",
              "            'suggestCharts', [key], {});\n",
              "      } catch (error) {\n",
              "        console.error('Error during call to suggestCharts:', error);\n",
              "      }\n",
              "      quickchartButtonEl.classList.remove('colab-df-spinner');\n",
              "      quickchartButtonEl.classList.add('colab-df-quickchart-complete');\n",
              "    }\n",
              "    (() => {\n",
              "      let quickchartButtonEl =\n",
              "        document.querySelector('#df-c9f2a86e-0fcd-41c6-bded-acb4e6abcd89 button');\n",
              "      quickchartButtonEl.style.display =\n",
              "        google.colab.kernel.accessAllowed ? 'block' : 'none';\n",
              "    })();\n",
              "  </script>\n",
              "</div>\n",
              "    </div>\n",
              "  </div>\n"
            ]
          },
          "metadata": {},
          "execution_count": 61
        }
      ]
    },
    {
      "cell_type": "code",
      "execution_count": null,
      "id": "dd25f1b1",
      "metadata": {
        "id": "dd25f1b1"
      },
      "outputs": [],
      "source": [
        "# 아래에 실습코드를 작성하세요.\n",
        "model_performance = pd.concat([model_performance, model_performance2], axis=0)"
      ]
    },
    {
      "cell_type": "code",
      "execution_count": null,
      "id": "710ef8ed",
      "metadata": {
        "id": "710ef8ed",
        "colab": {
          "base_uri": "https://localhost:8080/",
          "height": 402
        },
        "outputId": "02780abd-7fbd-4c40-d9cf-23ad7a196406"
      },
      "outputs": [
        {
          "output_type": "display_data",
          "data": {
            "text/plain": [
              "<Figure size 2000x500 with 1 Axes>"
            ],
            "image/png": "[encoded data removed]"
          },
          "metadata": {}
        }
      ],
      "source": [
        "plt.figure(figsize=(20, 5))\n",
        "sns.barplot(x='r2_score', y='model', data=model_performance.sort_values(by='r2_score', ascending=False))\n",
        "plt.xlabel('r2_score')\n",
        "plt.ylabel('model')\n",
        "plt.grid()\n",
        "plt.show()"
      ]
    }
  ],
  "metadata": {
    "kernelspec": {
      "display_name": "Python 3 (ipykernel)",
      "language": "python",
      "name": "python3"
    },
    "language_info": {
      "codemirror_mode": {
        "name": "ipython",
        "version": 3
      },
      "file_extension": ".py",
      "mimetype": "text/x-python",
      "name": "python",
      "nbconvert_exporter": "python",
      "pygments_lexer": "ipython3",
      "version": "3.11.3"
    },
    "vscode": {
      "interpreter": {
        "hash": "f08154012ddadd8e950e6e9e035c7a7b32c136e7647e9b7c77e02eb723a8bedb"
      }
    },
    "colab": {
      "provenance": [],
      "toc_visible": true
    }
  },
  "nbformat": 4,
  "nbformat_minor": 5
}